{
  "nbformat": 4,
  "nbformat_minor": 0,
  "metadata": {
    "colab": {
      "name": "Tutorial 1 : Intro to Torch",
      "provenance": [],
      "collapsed_sections": [],
      "authorship_tag": "ABX9TyPKMtLbPt7xrFvTnD3wWCNH",
      "include_colab_link": true
    },
    "kernelspec": {
      "name": "python3",
      "display_name": "Python 3"
    },
    "language_info": {
      "name": "python"
    },
    "accelerator": "GPU",
    "widgets": {
      "application/vnd.jupyter.widget-state+json": {
        "24e92e8435f44b3a81605f031930d656": {
          "model_module": "@jupyter-widgets/controls",
          "model_name": "HBoxModel",
          "model_module_version": "1.5.0",
          "state": {
            "_view_name": "HBoxView",
            "_dom_classes": [],
            "_model_name": "HBoxModel",
            "_view_module": "@jupyter-widgets/controls",
            "_model_module_version": "1.5.0",
            "_view_count": null,
            "_view_module_version": "1.5.0",
            "box_style": "",
            "layout": "IPY_MODEL_4d5291b33053479ca86c48915480ad89",
            "_model_module": "@jupyter-widgets/controls",
            "children": [
              "IPY_MODEL_acdb005dfe5c48649dbe2a13adfc82f1",
              "IPY_MODEL_5343afcd5ce3424dbd31759c110b690b",
              "IPY_MODEL_8c1c9725da3f41b5b44be4e5fb359ac0"
            ]
          }
        },
        "4d5291b33053479ca86c48915480ad89": {
          "model_module": "@jupyter-widgets/base",
          "model_name": "LayoutModel",
          "model_module_version": "1.2.0",
          "state": {
            "_view_name": "LayoutView",
            "grid_template_rows": null,
            "right": null,
            "justify_content": null,
            "_view_module": "@jupyter-widgets/base",
            "overflow": null,
            "_model_module_version": "1.2.0",
            "_view_count": null,
            "flex_flow": null,
            "width": null,
            "min_width": null,
            "border": null,
            "align_items": null,
            "bottom": null,
            "_model_module": "@jupyter-widgets/base",
            "top": null,
            "grid_column": null,
            "overflow_y": null,
            "overflow_x": null,
            "grid_auto_flow": null,
            "grid_area": null,
            "grid_template_columns": null,
            "flex": null,
            "_model_name": "LayoutModel",
            "justify_items": null,
            "grid_row": null,
            "max_height": null,
            "align_content": null,
            "visibility": null,
            "align_self": null,
            "height": null,
            "min_height": null,
            "padding": null,
            "grid_auto_rows": null,
            "grid_gap": null,
            "max_width": null,
            "order": null,
            "_view_module_version": "1.2.0",
            "grid_template_areas": null,
            "object_position": null,
            "object_fit": null,
            "grid_auto_columns": null,
            "margin": null,
            "display": null,
            "left": null
          }
        },
        "acdb005dfe5c48649dbe2a13adfc82f1": {
          "model_module": "@jupyter-widgets/controls",
          "model_name": "HTMLModel",
          "model_module_version": "1.5.0",
          "state": {
            "_view_name": "HTMLView",
            "style": "IPY_MODEL_2e9d7d1f706949ffb3cf3f71f9660f8a",
            "_dom_classes": [],
            "description": "",
            "_model_name": "HTMLModel",
            "placeholder": "​",
            "_view_module": "@jupyter-widgets/controls",
            "_model_module_version": "1.5.0",
            "value": "100%",
            "_view_count": null,
            "_view_module_version": "1.5.0",
            "description_tooltip": null,
            "_model_module": "@jupyter-widgets/controls",
            "layout": "IPY_MODEL_1ff717bf4ab9432287bb12bee8a4b244"
          }
        },
        "5343afcd5ce3424dbd31759c110b690b": {
          "model_module": "@jupyter-widgets/controls",
          "model_name": "FloatProgressModel",
          "model_module_version": "1.5.0",
          "state": {
            "_view_name": "ProgressView",
            "style": "IPY_MODEL_f1baa14223214a959350a9fc84a7b384",
            "_dom_classes": [],
            "description": "",
            "_model_name": "FloatProgressModel",
            "bar_style": "success",
            "max": 200,
            "_view_module": "@jupyter-widgets/controls",
            "_model_module_version": "1.5.0",
            "value": 200,
            "_view_count": null,
            "_view_module_version": "1.5.0",
            "orientation": "horizontal",
            "min": 0,
            "description_tooltip": null,
            "_model_module": "@jupyter-widgets/controls",
            "layout": "IPY_MODEL_65541f9bfc7a4fd18973fef21d2486ef"
          }
        },
        "8c1c9725da3f41b5b44be4e5fb359ac0": {
          "model_module": "@jupyter-widgets/controls",
          "model_name": "HTMLModel",
          "model_module_version": "1.5.0",
          "state": {
            "_view_name": "HTMLView",
            "style": "IPY_MODEL_eb8cdba703764fe8bcb262ed509db779",
            "_dom_classes": [],
            "description": "",
            "_model_name": "HTMLModel",
            "placeholder": "​",
            "_view_module": "@jupyter-widgets/controls",
            "_model_module_version": "1.5.0",
            "value": " 200/200 [00:30&lt;00:00,  6.72it/s]",
            "_view_count": null,
            "_view_module_version": "1.5.0",
            "description_tooltip": null,
            "_model_module": "@jupyter-widgets/controls",
            "layout": "IPY_MODEL_97a4393c558d46ac843673135af90051"
          }
        },
        "2e9d7d1f706949ffb3cf3f71f9660f8a": {
          "model_module": "@jupyter-widgets/controls",
          "model_name": "DescriptionStyleModel",
          "model_module_version": "1.5.0",
          "state": {
            "_view_name": "StyleView",
            "_model_name": "DescriptionStyleModel",
            "description_width": "",
            "_view_module": "@jupyter-widgets/base",
            "_model_module_version": "1.5.0",
            "_view_count": null,
            "_view_module_version": "1.2.0",
            "_model_module": "@jupyter-widgets/controls"
          }
        },
        "1ff717bf4ab9432287bb12bee8a4b244": {
          "model_module": "@jupyter-widgets/base",
          "model_name": "LayoutModel",
          "model_module_version": "1.2.0",
          "state": {
            "_view_name": "LayoutView",
            "grid_template_rows": null,
            "right": null,
            "justify_content": null,
            "_view_module": "@jupyter-widgets/base",
            "overflow": null,
            "_model_module_version": "1.2.0",
            "_view_count": null,
            "flex_flow": null,
            "width": null,
            "min_width": null,
            "border": null,
            "align_items": null,
            "bottom": null,
            "_model_module": "@jupyter-widgets/base",
            "top": null,
            "grid_column": null,
            "overflow_y": null,
            "overflow_x": null,
            "grid_auto_flow": null,
            "grid_area": null,
            "grid_template_columns": null,
            "flex": null,
            "_model_name": "LayoutModel",
            "justify_items": null,
            "grid_row": null,
            "max_height": null,
            "align_content": null,
            "visibility": null,
            "align_self": null,
            "height": null,
            "min_height": null,
            "padding": null,
            "grid_auto_rows": null,
            "grid_gap": null,
            "max_width": null,
            "order": null,
            "_view_module_version": "1.2.0",
            "grid_template_areas": null,
            "object_position": null,
            "object_fit": null,
            "grid_auto_columns": null,
            "margin": null,
            "display": null,
            "left": null
          }
        },
        "f1baa14223214a959350a9fc84a7b384": {
          "model_module": "@jupyter-widgets/controls",
          "model_name": "ProgressStyleModel",
          "model_module_version": "1.5.0",
          "state": {
            "_view_name": "StyleView",
            "_model_name": "ProgressStyleModel",
            "description_width": "",
            "_view_module": "@jupyter-widgets/base",
            "_model_module_version": "1.5.0",
            "_view_count": null,
            "_view_module_version": "1.2.0",
            "bar_color": null,
            "_model_module": "@jupyter-widgets/controls"
          }
        },
        "65541f9bfc7a4fd18973fef21d2486ef": {
          "model_module": "@jupyter-widgets/base",
          "model_name": "LayoutModel",
          "model_module_version": "1.2.0",
          "state": {
            "_view_name": "LayoutView",
            "grid_template_rows": null,
            "right": null,
            "justify_content": null,
            "_view_module": "@jupyter-widgets/base",
            "overflow": null,
            "_model_module_version": "1.2.0",
            "_view_count": null,
            "flex_flow": null,
            "width": null,
            "min_width": null,
            "border": null,
            "align_items": null,
            "bottom": null,
            "_model_module": "@jupyter-widgets/base",
            "top": null,
            "grid_column": null,
            "overflow_y": null,
            "overflow_x": null,
            "grid_auto_flow": null,
            "grid_area": null,
            "grid_template_columns": null,
            "flex": null,
            "_model_name": "LayoutModel",
            "justify_items": null,
            "grid_row": null,
            "max_height": null,
            "align_content": null,
            "visibility": null,
            "align_self": null,
            "height": null,
            "min_height": null,
            "padding": null,
            "grid_auto_rows": null,
            "grid_gap": null,
            "max_width": null,
            "order": null,
            "_view_module_version": "1.2.0",
            "grid_template_areas": null,
            "object_position": null,
            "object_fit": null,
            "grid_auto_columns": null,
            "margin": null,
            "display": null,
            "left": null
          }
        },
        "eb8cdba703764fe8bcb262ed509db779": {
          "model_module": "@jupyter-widgets/controls",
          "model_name": "DescriptionStyleModel",
          "model_module_version": "1.5.0",
          "state": {
            "_view_name": "StyleView",
            "_model_name": "DescriptionStyleModel",
            "description_width": "",
            "_view_module": "@jupyter-widgets/base",
            "_model_module_version": "1.5.0",
            "_view_count": null,
            "_view_module_version": "1.2.0",
            "_model_module": "@jupyter-widgets/controls"
          }
        },
        "97a4393c558d46ac843673135af90051": {
          "model_module": "@jupyter-widgets/base",
          "model_name": "LayoutModel",
          "model_module_version": "1.2.0",
          "state": {
            "_view_name": "LayoutView",
            "grid_template_rows": null,
            "right": null,
            "justify_content": null,
            "_view_module": "@jupyter-widgets/base",
            "overflow": null,
            "_model_module_version": "1.2.0",
            "_view_count": null,
            "flex_flow": null,
            "width": null,
            "min_width": null,
            "border": null,
            "align_items": null,
            "bottom": null,
            "_model_module": "@jupyter-widgets/base",
            "top": null,
            "grid_column": null,
            "overflow_y": null,
            "overflow_x": null,
            "grid_auto_flow": null,
            "grid_area": null,
            "grid_template_columns": null,
            "flex": null,
            "_model_name": "LayoutModel",
            "justify_items": null,
            "grid_row": null,
            "max_height": null,
            "align_content": null,
            "visibility": null,
            "align_self": null,
            "height": null,
            "min_height": null,
            "padding": null,
            "grid_auto_rows": null,
            "grid_gap": null,
            "max_width": null,
            "order": null,
            "_view_module_version": "1.2.0",
            "grid_template_areas": null,
            "object_position": null,
            "object_fit": null,
            "grid_auto_columns": null,
            "margin": null,
            "display": null,
            "left": null
          }
        }
      }
    }
  },
  "cells": [
    {
      "cell_type": "markdown",
      "metadata": {
        "id": "view-in-github",
        "colab_type": "text"
      },
      "source": [
        "<a href=\"https://colab.research.google.com/github/MANISH007700/PyTorch_Lightning_Learning/blob/master/Tutorial_1_Intro_to_Torch_XOR_Model.ipynb\" target=\"_parent\"><img src=\"https://colab.research.google.com/assets/colab-badge.svg\" alt=\"Open In Colab\"/></a>"
      ]
    },
    {
      "cell_type": "markdown",
      "source": [
        "### Course Link ###\n",
        "https://pytorch-lightning.readthedocs.io/en/latest/notebooks/course_UvA-DL/01-introduction-to-pytorch.html"
      ],
      "metadata": {
        "id": "GW2Mvcy9-atP"
      }
    },
    {
      "cell_type": "code",
      "source": [
        "# install pkges and libs \n",
        "\n",
        "!pip install \"torchmetrics>=0.3\" \"matplotlib\" \"torch>=1.6, <1.9\" \"pytorch-lightning>=1.3\""
      ],
      "metadata": {
        "colab": {
          "base_uri": "https://localhost:8080/",
          "height": 1000
        },
        "id": "eYi-0s3H-Y_y",
        "outputId": "eab9e1f6-d5f9-42df-e818-6270432aa2d2"
      },
      "execution_count": null,
      "outputs": [
        {
          "output_type": "stream",
          "name": "stdout",
          "text": [
            "Collecting torchmetrics>=0.3\n",
            "  Downloading torchmetrics-0.7.2-py3-none-any.whl (397 kB)\n",
            "\u001b[?25l\r\u001b[K     |▉                               | 10 kB 19.3 MB/s eta 0:00:01\r\u001b[K     |█▋                              | 20 kB 23.3 MB/s eta 0:00:01\r\u001b[K     |██▌                             | 30 kB 22.9 MB/s eta 0:00:01\r\u001b[K     |███▎                            | 40 kB 12.5 MB/s eta 0:00:01\r\u001b[K     |████▏                           | 51 kB 10.4 MB/s eta 0:00:01\r\u001b[K     |█████                           | 61 kB 12.1 MB/s eta 0:00:01\r\u001b[K     |█████▊                          | 71 kB 12.7 MB/s eta 0:00:01\r\u001b[K     |██████▋                         | 81 kB 12.3 MB/s eta 0:00:01\r\u001b[K     |███████▍                        | 92 kB 13.5 MB/s eta 0:00:01\r\u001b[K     |████████▎                       | 102 kB 12.3 MB/s eta 0:00:01\r\u001b[K     |█████████                       | 112 kB 12.3 MB/s eta 0:00:01\r\u001b[K     |██████████                      | 122 kB 12.3 MB/s eta 0:00:01\r\u001b[K     |██████████▊                     | 133 kB 12.3 MB/s eta 0:00:01\r\u001b[K     |███████████▌                    | 143 kB 12.3 MB/s eta 0:00:01\r\u001b[K     |████████████▍                   | 153 kB 12.3 MB/s eta 0:00:01\r\u001b[K     |█████████████▏                  | 163 kB 12.3 MB/s eta 0:00:01\r\u001b[K     |██████████████                  | 174 kB 12.3 MB/s eta 0:00:01\r\u001b[K     |██████████████▉                 | 184 kB 12.3 MB/s eta 0:00:01\r\u001b[K     |███████████████▊                | 194 kB 12.3 MB/s eta 0:00:01\r\u001b[K     |████████████████▌               | 204 kB 12.3 MB/s eta 0:00:01\r\u001b[K     |█████████████████▎              | 215 kB 12.3 MB/s eta 0:00:01\r\u001b[K     |██████████████████▏             | 225 kB 12.3 MB/s eta 0:00:01\r\u001b[K     |███████████████████             | 235 kB 12.3 MB/s eta 0:00:01\r\u001b[K     |███████████████████▉            | 245 kB 12.3 MB/s eta 0:00:01\r\u001b[K     |████████████████████▋           | 256 kB 12.3 MB/s eta 0:00:01\r\u001b[K     |█████████████████████▌          | 266 kB 12.3 MB/s eta 0:00:01\r\u001b[K     |██████████████████████▎         | 276 kB 12.3 MB/s eta 0:00:01\r\u001b[K     |███████████████████████         | 286 kB 12.3 MB/s eta 0:00:01\r\u001b[K     |████████████████████████        | 296 kB 12.3 MB/s eta 0:00:01\r\u001b[K     |████████████████████████▊       | 307 kB 12.3 MB/s eta 0:00:01\r\u001b[K     |█████████████████████████▋      | 317 kB 12.3 MB/s eta 0:00:01\r\u001b[K     |██████████████████████████▍     | 327 kB 12.3 MB/s eta 0:00:01\r\u001b[K     |███████████████████████████▎    | 337 kB 12.3 MB/s eta 0:00:01\r\u001b[K     |████████████████████████████    | 348 kB 12.3 MB/s eta 0:00:01\r\u001b[K     |████████████████████████████▉   | 358 kB 12.3 MB/s eta 0:00:01\r\u001b[K     |█████████████████████████████▊  | 368 kB 12.3 MB/s eta 0:00:01\r\u001b[K     |██████████████████████████████▌ | 378 kB 12.3 MB/s eta 0:00:01\r\u001b[K     |███████████████████████████████▍| 389 kB 12.3 MB/s eta 0:00:01\r\u001b[K     |████████████████████████████████| 397 kB 12.3 MB/s \n",
            "\u001b[?25hRequirement already satisfied: matplotlib in /usr/local/lib/python3.7/dist-packages (3.2.2)\n",
            "Collecting torch<1.9,>=1.6\n",
            "  Downloading torch-1.8.1-cp37-cp37m-manylinux1_x86_64.whl (804.1 MB)\n",
            "\u001b[K     |████████████████████████████████| 804.1 MB 2.8 kB/s \n",
            "\u001b[?25hCollecting pytorch-lightning>=1.3\n",
            "  Downloading pytorch_lightning-1.5.10-py3-none-any.whl (527 kB)\n",
            "\u001b[K     |████████████████████████████████| 527 kB 46.7 MB/s \n",
            "\u001b[?25hCollecting pyDeprecate==0.3.*\n",
            "  Downloading pyDeprecate-0.3.2-py3-none-any.whl (10 kB)\n",
            "Requirement already satisfied: packaging in /usr/local/lib/python3.7/dist-packages (from torchmetrics>=0.3) (21.3)\n",
            "Requirement already satisfied: numpy>=1.17.2 in /usr/local/lib/python3.7/dist-packages (from torchmetrics>=0.3) (1.21.5)\n",
            "Requirement already satisfied: typing-extensions in /usr/local/lib/python3.7/dist-packages (from torch<1.9,>=1.6) (3.10.0.2)\n",
            "Collecting setuptools==59.5.0\n",
            "  Downloading setuptools-59.5.0-py3-none-any.whl (952 kB)\n",
            "\u001b[K     |████████████████████████████████| 952 kB 40.0 MB/s \n",
            "\u001b[?25hCollecting future>=0.17.1\n",
            "  Downloading future-0.18.2.tar.gz (829 kB)\n",
            "\u001b[K     |████████████████████████████████| 829 kB 45.8 MB/s \n",
            "\u001b[?25hCollecting pyDeprecate==0.3.*\n",
            "  Downloading pyDeprecate-0.3.1-py3-none-any.whl (10 kB)\n",
            "Collecting fsspec[http]!=2021.06.0,>=2021.05.0\n",
            "  Downloading fsspec-2022.2.0-py3-none-any.whl (134 kB)\n",
            "\u001b[K     |████████████████████████████████| 134 kB 51.2 MB/s \n",
            "\u001b[?25hRequirement already satisfied: tqdm>=4.41.0 in /usr/local/lib/python3.7/dist-packages (from pytorch-lightning>=1.3) (4.62.3)\n",
            "Collecting PyYAML>=5.1\n",
            "  Downloading PyYAML-6.0-cp37-cp37m-manylinux_2_5_x86_64.manylinux1_x86_64.manylinux_2_12_x86_64.manylinux2010_x86_64.whl (596 kB)\n",
            "\u001b[K     |████████████████████████████████| 596 kB 45.5 MB/s \n",
            "\u001b[?25hRequirement already satisfied: tensorboard>=2.2.0 in /usr/local/lib/python3.7/dist-packages (from pytorch-lightning>=1.3) (2.8.0)\n",
            "Requirement already satisfied: requests in /usr/local/lib/python3.7/dist-packages (from fsspec[http]!=2021.06.0,>=2021.05.0->pytorch-lightning>=1.3) (2.23.0)\n",
            "Collecting aiohttp\n",
            "  Downloading aiohttp-3.8.1-cp37-cp37m-manylinux_2_5_x86_64.manylinux1_x86_64.manylinux_2_12_x86_64.manylinux2010_x86_64.whl (1.1 MB)\n",
            "\u001b[K     |████████████████████████████████| 1.1 MB 39.8 MB/s \n",
            "\u001b[?25hRequirement already satisfied: pyparsing!=3.0.5,>=2.0.2 in /usr/local/lib/python3.7/dist-packages (from packaging->torchmetrics>=0.3) (3.0.7)\n",
            "Requirement already satisfied: google-auth-oauthlib<0.5,>=0.4.1 in /usr/local/lib/python3.7/dist-packages (from tensorboard>=2.2.0->pytorch-lightning>=1.3) (0.4.6)\n",
            "Requirement already satisfied: absl-py>=0.4 in /usr/local/lib/python3.7/dist-packages (from tensorboard>=2.2.0->pytorch-lightning>=1.3) (1.0.0)\n",
            "Requirement already satisfied: werkzeug>=0.11.15 in /usr/local/lib/python3.7/dist-packages (from tensorboard>=2.2.0->pytorch-lightning>=1.3) (1.0.1)\n",
            "Requirement already satisfied: google-auth<3,>=1.6.3 in /usr/local/lib/python3.7/dist-packages (from tensorboard>=2.2.0->pytorch-lightning>=1.3) (1.35.0)\n",
            "Requirement already satisfied: wheel>=0.26 in /usr/local/lib/python3.7/dist-packages (from tensorboard>=2.2.0->pytorch-lightning>=1.3) (0.37.1)\n",
            "Requirement already satisfied: tensorboard-data-server<0.7.0,>=0.6.0 in /usr/local/lib/python3.7/dist-packages (from tensorboard>=2.2.0->pytorch-lightning>=1.3) (0.6.1)\n",
            "Requirement already satisfied: grpcio>=1.24.3 in /usr/local/lib/python3.7/dist-packages (from tensorboard>=2.2.0->pytorch-lightning>=1.3) (1.43.0)\n",
            "Requirement already satisfied: markdown>=2.6.8 in /usr/local/lib/python3.7/dist-packages (from tensorboard>=2.2.0->pytorch-lightning>=1.3) (3.3.6)\n",
            "Requirement already satisfied: tensorboard-plugin-wit>=1.6.0 in /usr/local/lib/python3.7/dist-packages (from tensorboard>=2.2.0->pytorch-lightning>=1.3) (1.8.1)\n",
            "Requirement already satisfied: protobuf>=3.6.0 in /usr/local/lib/python3.7/dist-packages (from tensorboard>=2.2.0->pytorch-lightning>=1.3) (3.17.3)\n",
            "Requirement already satisfied: six in /usr/local/lib/python3.7/dist-packages (from absl-py>=0.4->tensorboard>=2.2.0->pytorch-lightning>=1.3) (1.15.0)\n",
            "Requirement already satisfied: cachetools<5.0,>=2.0.0 in /usr/local/lib/python3.7/dist-packages (from google-auth<3,>=1.6.3->tensorboard>=2.2.0->pytorch-lightning>=1.3) (4.2.4)\n",
            "Requirement already satisfied: pyasn1-modules>=0.2.1 in /usr/local/lib/python3.7/dist-packages (from google-auth<3,>=1.6.3->tensorboard>=2.2.0->pytorch-lightning>=1.3) (0.2.8)\n",
            "Requirement already satisfied: rsa<5,>=3.1.4 in /usr/local/lib/python3.7/dist-packages (from google-auth<3,>=1.6.3->tensorboard>=2.2.0->pytorch-lightning>=1.3) (4.8)\n",
            "Requirement already satisfied: requests-oauthlib>=0.7.0 in /usr/local/lib/python3.7/dist-packages (from google-auth-oauthlib<0.5,>=0.4.1->tensorboard>=2.2.0->pytorch-lightning>=1.3) (1.3.1)\n",
            "Requirement already satisfied: importlib-metadata>=4.4 in /usr/local/lib/python3.7/dist-packages (from markdown>=2.6.8->tensorboard>=2.2.0->pytorch-lightning>=1.3) (4.11.1)\n",
            "Requirement already satisfied: zipp>=0.5 in /usr/local/lib/python3.7/dist-packages (from importlib-metadata>=4.4->markdown>=2.6.8->tensorboard>=2.2.0->pytorch-lightning>=1.3) (3.7.0)\n",
            "Requirement already satisfied: pyasn1<0.5.0,>=0.4.6 in /usr/local/lib/python3.7/dist-packages (from pyasn1-modules>=0.2.1->google-auth<3,>=1.6.3->tensorboard>=2.2.0->pytorch-lightning>=1.3) (0.4.8)\n",
            "Requirement already satisfied: certifi>=2017.4.17 in /usr/local/lib/python3.7/dist-packages (from requests->fsspec[http]!=2021.06.0,>=2021.05.0->pytorch-lightning>=1.3) (2021.10.8)\n",
            "Requirement already satisfied: chardet<4,>=3.0.2 in /usr/local/lib/python3.7/dist-packages (from requests->fsspec[http]!=2021.06.0,>=2021.05.0->pytorch-lightning>=1.3) (3.0.4)\n",
            "Requirement already satisfied: urllib3!=1.25.0,!=1.25.1,<1.26,>=1.21.1 in /usr/local/lib/python3.7/dist-packages (from requests->fsspec[http]!=2021.06.0,>=2021.05.0->pytorch-lightning>=1.3) (1.24.3)\n",
            "Requirement already satisfied: idna<3,>=2.5 in /usr/local/lib/python3.7/dist-packages (from requests->fsspec[http]!=2021.06.0,>=2021.05.0->pytorch-lightning>=1.3) (2.10)\n",
            "Requirement already satisfied: oauthlib>=3.0.0 in /usr/local/lib/python3.7/dist-packages (from requests-oauthlib>=0.7.0->google-auth-oauthlib<0.5,>=0.4.1->tensorboard>=2.2.0->pytorch-lightning>=1.3) (3.2.0)\n",
            "Requirement already satisfied: cycler>=0.10 in /usr/local/lib/python3.7/dist-packages (from matplotlib) (0.11.0)\n",
            "Requirement already satisfied: python-dateutil>=2.1 in /usr/local/lib/python3.7/dist-packages (from matplotlib) (2.8.2)\n",
            "Requirement already satisfied: kiwisolver>=1.0.1 in /usr/local/lib/python3.7/dist-packages (from matplotlib) (1.3.2)\n",
            "Requirement already satisfied: charset-normalizer<3.0,>=2.0 in /usr/local/lib/python3.7/dist-packages (from aiohttp->fsspec[http]!=2021.06.0,>=2021.05.0->pytorch-lightning>=1.3) (2.0.12)\n",
            "Collecting asynctest==0.13.0\n",
            "  Downloading asynctest-0.13.0-py3-none-any.whl (26 kB)\n",
            "Collecting async-timeout<5.0,>=4.0.0a3\n",
            "  Downloading async_timeout-4.0.2-py3-none-any.whl (5.8 kB)\n",
            "Collecting yarl<2.0,>=1.0\n",
            "  Downloading yarl-1.7.2-cp37-cp37m-manylinux_2_5_x86_64.manylinux1_x86_64.manylinux_2_12_x86_64.manylinux2010_x86_64.whl (271 kB)\n",
            "\u001b[K     |████████████████████████████████| 271 kB 50.6 MB/s \n",
            "\u001b[?25hCollecting aiosignal>=1.1.2\n",
            "  Downloading aiosignal-1.2.0-py3-none-any.whl (8.2 kB)\n",
            "Requirement already satisfied: attrs>=17.3.0 in /usr/local/lib/python3.7/dist-packages (from aiohttp->fsspec[http]!=2021.06.0,>=2021.05.0->pytorch-lightning>=1.3) (21.4.0)\n",
            "Collecting frozenlist>=1.1.1\n",
            "  Downloading frozenlist-1.3.0-cp37-cp37m-manylinux_2_5_x86_64.manylinux1_x86_64.manylinux_2_17_x86_64.manylinux2014_x86_64.whl (144 kB)\n",
            "\u001b[K     |████████████████████████████████| 144 kB 50.7 MB/s \n",
            "\u001b[?25hCollecting multidict<7.0,>=4.5\n",
            "  Downloading multidict-6.0.2-cp37-cp37m-manylinux_2_17_x86_64.manylinux2014_x86_64.whl (94 kB)\n",
            "\u001b[K     |████████████████████████████████| 94 kB 3.2 MB/s \n",
            "\u001b[?25hBuilding wheels for collected packages: future\n",
            "  Building wheel for future (setup.py) ... \u001b[?25l\u001b[?25hdone\n",
            "  Created wheel for future: filename=future-0.18.2-py3-none-any.whl size=491070 sha256=b2dd3924d8ddf3afe3d69aaa1aedb5200b64c112bb3af1f1236c33eacb37e132\n",
            "  Stored in directory: /root/.cache/pip/wheels/56/b0/fe/4410d17b32f1f0c3cf54cdfb2bc04d7b4b8f4ae377e2229ba0\n",
            "Successfully built future\n",
            "Installing collected packages: setuptools, multidict, frozenlist, yarl, asynctest, async-timeout, aiosignal, torch, pyDeprecate, fsspec, aiohttp, torchmetrics, PyYAML, future, pytorch-lightning\n",
            "  Attempting uninstall: setuptools\n",
            "    Found existing installation: setuptools 57.4.0\n",
            "    Uninstalling setuptools-57.4.0:\n",
            "      Successfully uninstalled setuptools-57.4.0\n",
            "  Attempting uninstall: torch\n",
            "    Found existing installation: torch 1.10.0+cu111\n",
            "    Uninstalling torch-1.10.0+cu111:\n",
            "      Successfully uninstalled torch-1.10.0+cu111\n",
            "  Attempting uninstall: PyYAML\n",
            "    Found existing installation: PyYAML 3.13\n",
            "    Uninstalling PyYAML-3.13:\n",
            "      Successfully uninstalled PyYAML-3.13\n",
            "  Attempting uninstall: future\n",
            "    Found existing installation: future 0.16.0\n",
            "    Uninstalling future-0.16.0:\n",
            "      Successfully uninstalled future-0.16.0\n",
            "\u001b[31mERROR: pip's dependency resolver does not currently take into account all the packages that are installed. This behaviour is the source of the following dependency conflicts.\n",
            "tensorflow 2.8.0 requires tf-estimator-nightly==2.8.0.dev2021122109, which is not installed.\n",
            "torchvision 0.11.1+cu111 requires torch==1.10.0, but you have torch 1.8.1 which is incompatible.\n",
            "torchtext 0.11.0 requires torch==1.10.0, but you have torch 1.8.1 which is incompatible.\n",
            "torchaudio 0.10.0+cu111 requires torch==1.10.0, but you have torch 1.8.1 which is incompatible.\n",
            "datascience 0.10.6 requires folium==0.2.1, but you have folium 0.8.3 which is incompatible.\u001b[0m\n",
            "Successfully installed PyYAML-6.0 aiohttp-3.8.1 aiosignal-1.2.0 async-timeout-4.0.2 asynctest-0.13.0 frozenlist-1.3.0 fsspec-2022.2.0 future-0.18.2 multidict-6.0.2 pyDeprecate-0.3.1 pytorch-lightning-1.5.10 setuptools-59.5.0 torch-1.8.1 torchmetrics-0.7.2 yarl-1.7.2\n"
          ]
        },
        {
          "output_type": "display_data",
          "data": {
            "application/vnd.colab-display-data+json": {
              "pip_warning": {
                "packages": [
                  "pkg_resources"
                ]
              }
            }
          },
          "metadata": {}
        }
      ]
    },
    {
      "cell_type": "code",
      "source": [
        "# standard libs # \n",
        "import time \n",
        "import os \n",
        "import numpy as np \n",
        "import math \n",
        "import tqdm \n",
        "import matplotlib.pyplot as plt \n",
        "from tqdm.notebook import tqdm \n",
        "\n",
        "\n",
        "# torch libs #\n",
        "import torch \n",
        "import torch.nn as nn \n",
        "import torch.utils.data as data\n"
      ],
      "metadata": {
        "id": "AZe1ED2D_tg5"
      },
      "execution_count": null,
      "outputs": []
    },
    {
      "cell_type": "code",
      "source": [
        "# version of torch # \n",
        "print(\"Torch Version is: \", torch.__version__)"
      ],
      "metadata": {
        "colab": {
          "base_uri": "https://localhost:8080/"
        },
        "id": "UyFW8BdXAWTb",
        "outputId": "a069752d-84a1-4e0a-cf85-6ce36f9af886"
      },
      "execution_count": null,
      "outputs": [
        {
          "output_type": "stream",
          "name": "stdout",
          "text": [
            "Torch Version is:  1.10.0+cu111\n"
          ]
        }
      ]
    },
    {
      "cell_type": "code",
      "source": [
        "# set manual seed below # \n",
        "torch.manual_seed(84)"
      ],
      "metadata": {
        "colab": {
          "base_uri": "https://localhost:8080/"
        },
        "id": "jtieQkzZA-dp",
        "outputId": "daedd82c-5025-4d49-b8de-1ca5371be34a"
      },
      "execution_count": null,
      "outputs": [
        {
          "output_type": "execute_result",
          "data": {
            "text/plain": [
              "<torch._C.Generator at 0x7f037c2c1090>"
            ]
          },
          "metadata": {},
          "execution_count": 3
        }
      ]
    },
    {
      "cell_type": "markdown",
      "source": [
        "## Tensors"
      ],
      "metadata": {
        "id": "Ttkll0OVBfvV"
      }
    },
    {
      "cell_type": "code",
      "source": [
        "three_d_tensor = torch.Tensor(2,3,4)\n",
        "three_d_tensor"
      ],
      "metadata": {
        "colab": {
          "base_uri": "https://localhost:8080/"
        },
        "id": "nMcaWzWbBibG",
        "outputId": "b92aad03-710f-40c1-e697-4b1a2b8dd532"
      },
      "execution_count": null,
      "outputs": [
        {
          "output_type": "execute_result",
          "data": {
            "text/plain": [
              "tensor([[[6.7900e-03, 3.0725e-41, 7.0065e-44, 7.0065e-44],\n",
              "         [6.3058e-44, 6.7262e-44, 7.0065e-44, 6.3058e-44],\n",
              "         [7.0065e-44, 7.5670e-44, 1.1771e-43, 6.7262e-44]],\n",
              "\n",
              "        [[7.7071e-44, 8.1275e-44, 7.4269e-44, 7.5670e-44],\n",
              "         [8.1275e-44, 7.2868e-44, 7.9874e-44, 6.4460e-44],\n",
              "         [7.0065e-44, 7.1466e-44, 7.2868e-44, 7.4269e-44]]])"
            ]
          },
          "metadata": {},
          "execution_count": 8
        }
      ]
    },
    {
      "cell_type": "code",
      "source": [
        "three_d_tensor.shape\n",
        "\n",
        "# 2,3,4 -- length of tensor block, number of rows, number of columns "
      ],
      "metadata": {
        "colab": {
          "base_uri": "https://localhost:8080/"
        },
        "id": "TX0yNAoLB5uf",
        "outputId": "95738ba6-465d-4e4f-83bd-eadddb3087c3"
      },
      "execution_count": null,
      "outputs": [
        {
          "output_type": "execute_result",
          "data": {
            "text/plain": [
              "torch.Size([2, 3, 4])"
            ]
          },
          "metadata": {},
          "execution_count": 19
        }
      ]
    },
    {
      "cell_type": "code",
      "source": [
        "(three_d_tensor[1])"
      ],
      "metadata": {
        "colab": {
          "base_uri": "https://localhost:8080/"
        },
        "id": "doVm9I50CHC1",
        "outputId": "a0c4409a-5f76-43c8-d12f-0404f434e388"
      },
      "execution_count": null,
      "outputs": [
        {
          "output_type": "execute_result",
          "data": {
            "text/plain": [
              "tensor([[7.7071e-44, 8.1275e-44, 7.4269e-44, 7.5670e-44],\n",
              "        [8.1275e-44, 7.2868e-44, 7.9874e-44, 6.4460e-44],\n",
              "        [7.0065e-44, 7.1466e-44, 7.2868e-44, 7.4269e-44]])"
            ]
          },
          "metadata": {},
          "execution_count": 18
        }
      ]
    },
    {
      "cell_type": "code",
      "source": [
        "# create tensor prefilled \n",
        "torch.rand(3,2)     # random value between 0 and 1 \n",
        "torch.randn(3,2)    # random value which are sampled from normal dist having mean 0 and variance 1 \n",
        "torch.zeros(2,3)\n",
        "torch.ones(3,3)"
      ],
      "metadata": {
        "colab": {
          "base_uri": "https://localhost:8080/"
        },
        "id": "8XqyJl6oCJyw",
        "outputId": "458ef756-0c30-49c0-ab88-14473fb9f9d1"
      },
      "execution_count": null,
      "outputs": [
        {
          "output_type": "execute_result",
          "data": {
            "text/plain": [
              "tensor([[1., 1., 1.],\n",
              "        [1., 1., 1.],\n",
              "        [1., 1., 1.]])"
            ]
          },
          "metadata": {},
          "execution_count": 23
        }
      ]
    },
    {
      "cell_type": "code",
      "source": [
        "# create tensor from nested list \n",
        "a = [ \n",
        "     [1, 3, 4], \n",
        "     [5, 3, 2]\n",
        "    ]\n",
        "print(a)\n",
        "a_tensor = torch.Tensor(a)\n",
        "print(a_tensor)"
      ],
      "metadata": {
        "colab": {
          "base_uri": "https://localhost:8080/"
        },
        "id": "grJYVRs2Csrj",
        "outputId": "ff1336a7-5471-4437-efa8-f65265485e97"
      },
      "execution_count": null,
      "outputs": [
        {
          "output_type": "stream",
          "name": "stdout",
          "text": [
            "[[1, 3, 4], [5, 3, 2]]\n",
            "tensor([[1., 3., 4.],\n",
            "        [5., 3., 2.]])\n"
          ]
        }
      ]
    },
    {
      "cell_type": "code",
      "source": [
        "# check dtype\n",
        "a_tensor[0][1].dtype"
      ],
      "metadata": {
        "colab": {
          "base_uri": "https://localhost:8080/"
        },
        "id": "bm7DsBMVDU9c",
        "outputId": "5bf0e0c8-2101-4a0a-fe57-2e986928e2d5"
      },
      "execution_count": null,
      "outputs": [
        {
          "output_type": "execute_result",
          "data": {
            "text/plain": [
              "torch.float32"
            ]
          },
          "metadata": {},
          "execution_count": 32
        }
      ]
    },
    {
      "cell_type": "code",
      "source": [
        "a_tensor.shape, a_tensor.size()"
      ],
      "metadata": {
        "colab": {
          "base_uri": "https://localhost:8080/"
        },
        "id": "5BivyXPYDclo",
        "outputId": "b72ccfcf-b0c2-4036-99b6-de0f75a8a234"
      },
      "execution_count": null,
      "outputs": [
        {
          "output_type": "execute_result",
          "data": {
            "text/plain": [
              "(torch.Size([2, 3]), torch.Size([2, 3]))"
            ]
          },
          "metadata": {},
          "execution_count": 34
        }
      ]
    },
    {
      "cell_type": "code",
      "source": [
        "# Tensor to numpy and numpy to tensor \n",
        "array_a = np.array([[1,2,3], [4,5,6]])\n",
        "torch_a = torch.from_numpy(array_a)\n",
        "\n",
        "print(array_a)\n",
        "print(torch_a)"
      ],
      "metadata": {
        "colab": {
          "base_uri": "https://localhost:8080/"
        },
        "id": "f0RlISYKDueG",
        "outputId": "52297012-a207-4032-97a7-bf10d84bf34a"
      },
      "execution_count": null,
      "outputs": [
        {
          "output_type": "stream",
          "name": "stdout",
          "text": [
            "[[1 2 3]\n",
            " [4 5 6]]\n",
            "tensor([[1, 2, 3],\n",
            "        [4, 5, 6]])\n"
          ]
        }
      ]
    },
    {
      "cell_type": "code",
      "source": [
        "np_array_from_tensor = torch_a.numpy()\n",
        "print(np_array_from_tensor)"
      ],
      "metadata": {
        "colab": {
          "base_uri": "https://localhost:8080/"
        },
        "id": "83eljqyxD2CK",
        "outputId": "10d867a0-532c-4c55-a474-5a746b1d90eb"
      },
      "execution_count": null,
      "outputs": [
        {
          "output_type": "stream",
          "name": "stdout",
          "text": [
            "[[1 2 3]\n",
            " [4 5 6]]\n"
          ]
        }
      ]
    },
    {
      "cell_type": "code",
      "source": [
        "# to convert a tensor back to numpy, the tensor should be first on cpu rather than gpu \n",
        "# to convert a gpu tensor to cpu tensor \n",
        "\n",
        "cpu_from_gpu_tensor = torch_a.cpu().numpy()\n",
        "cpu_from_gpu_tensor"
      ],
      "metadata": {
        "colab": {
          "base_uri": "https://localhost:8080/"
        },
        "id": "bknSwvmiEQdQ",
        "outputId": "6bb61a18-64e4-4441-ba12-37f9a0c45aa7"
      },
      "execution_count": null,
      "outputs": [
        {
          "output_type": "execute_result",
          "data": {
            "text/plain": [
              "array([[1, 2, 3],\n",
              "       [4, 5, 6]])"
            ]
          },
          "metadata": {},
          "execution_count": 40
        }
      ]
    },
    {
      "cell_type": "code",
      "source": [
        "# create 10 element in range\n",
        "torch.arange(10)"
      ],
      "metadata": {
        "colab": {
          "base_uri": "https://localhost:8080/"
        },
        "id": "1ZB7jBmsG6I5",
        "outputId": "a2ad1982-552d-4875-f391-605aedc60653"
      },
      "execution_count": null,
      "outputs": [
        {
          "output_type": "execute_result",
          "data": {
            "text/plain": [
              "tensor([0, 1, 2, 3, 4, 5, 6, 7, 8, 9])"
            ]
          },
          "metadata": {},
          "execution_count": 51
        }
      ]
    },
    {
      "cell_type": "code",
      "source": [
        "rand_1 = torch.rand(2,3)\n",
        "rand_2 = torch.rand(2,3)\n",
        "print(rand_1, rand_2)"
      ],
      "metadata": {
        "colab": {
          "base_uri": "https://localhost:8080/"
        },
        "id": "SwJq3g6FErjQ",
        "outputId": "dc40a66c-655e-4cf4-d8e4-86b0cdd4f6f9"
      },
      "execution_count": null,
      "outputs": [
        {
          "output_type": "stream",
          "name": "stdout",
          "text": [
            "tensor([[0.5531, 0.2837, 0.1318],\n",
            "        [0.8071, 0.8613, 0.2720]]) tensor([[0.1169, 0.5769, 0.0788],\n",
            "        [0.6099, 0.3372, 0.0969]])\n"
          ]
        }
      ]
    },
    {
      "cell_type": "code",
      "source": [
        "sum_rand = rand_1 + rand_2 \n",
        "sum_rand"
      ],
      "metadata": {
        "colab": {
          "base_uri": "https://localhost:8080/"
        },
        "id": "0BQcddvxFB62",
        "outputId": "8bdbb817-6faf-439b-9972-6aca3245b4f5"
      },
      "execution_count": null,
      "outputs": [
        {
          "output_type": "execute_result",
          "data": {
            "text/plain": [
              "tensor([[0.6700, 0.8606, 0.2106],\n",
              "        [1.4170, 1.1984, 0.3689]])"
            ]
          },
          "metadata": {},
          "execution_count": 43
        }
      ]
    },
    {
      "cell_type": "code",
      "source": [
        "# This creates a new memory space to store `sum_rand` \n",
        "# we can replace rand_2 with the summation of both rand_1 and rand_2 \n",
        "print(\"Before Addition: \", rand_2)\n",
        "rand_2.add_(rand_1)\n",
        "print(\"After Addition: \", rand_2)"
      ],
      "metadata": {
        "colab": {
          "base_uri": "https://localhost:8080/"
        },
        "id": "diDmGnlHFGb1",
        "outputId": "73f89d84-a409-4635-b801-84db9a0d3ff0"
      },
      "execution_count": null,
      "outputs": [
        {
          "output_type": "stream",
          "name": "stdout",
          "text": [
            "Before Addition:  tensor([[0.1169, 0.5769, 0.0788],\n",
            "        [0.6099, 0.3372, 0.0969]])\n",
            "After Addition:  tensor([[0.6700, 0.8606, 0.2106],\n",
            "        [1.4170, 1.1984, 0.3689]])\n"
          ]
        }
      ]
    },
    {
      "cell_type": "code",
      "source": [
        "# Change dimension using view \n",
        "print(\"Actual Tensor with shape: \")\n",
        "print(rand_1, rand_1.shape)\n",
        "print(\"After Using View to Change dim: \" )\n",
        "print(rand_1.view(3,2), rand_1.view(3,2).shape)\n",
        "print(\"After Using Transpose: \")\n",
        "print(rand_1.T, rand_1.T.shape) \n",
        "\n",
        "# 2*3 can be changed to 3*2 and 6*1 and 1*6 \n",
        "# Just remember, to have same number of elements \n",
        "\n",
        "# changed_dim = rand_1.view(3,2)\n",
        "# print(changed_dim)\n",
        "# print(changed_dim.shape)"
      ],
      "metadata": {
        "colab": {
          "base_uri": "https://localhost:8080/"
        },
        "id": "ueHLDav8FbyC",
        "outputId": "5a479c4b-dfe5-4d21-94bf-c2e4264901f0"
      },
      "execution_count": null,
      "outputs": [
        {
          "output_type": "stream",
          "name": "stdout",
          "text": [
            "Actual Tensor with shape: \n",
            "tensor([[0.5531, 0.2837, 0.1318],\n",
            "        [0.8071, 0.8613, 0.2720]]) torch.Size([2, 3])\n",
            "After Using View to Change dim: \n",
            "tensor([[0.5531, 0.2837],\n",
            "        [0.1318, 0.8071],\n",
            "        [0.8613, 0.2720]]) torch.Size([3, 2])\n",
            "After Using Transpose: \n",
            "tensor([[0.5531, 0.8071],\n",
            "        [0.2837, 0.8613],\n",
            "        [0.1318, 0.2720]]) torch.Size([3, 2])\n"
          ]
        }
      ]
    },
    {
      "cell_type": "code",
      "source": [
        "# permute - change ordering and swapping \n",
        "new_tensor = torch.rand(2,3,3)   # shape - 2*3*3\n",
        "print(new_tensor) \n",
        "\n",
        "permute_tensor = new_tensor.permute(1,0,2)   # shape - 3*2*3\n",
        "print(permute_tensor)\n"
      ],
      "metadata": {
        "colab": {
          "base_uri": "https://localhost:8080/"
        },
        "id": "ImXH6gV9GPMo",
        "outputId": "21774200-45f6-4b03-e07b-daff82f5bd17"
      },
      "execution_count": null,
      "outputs": [
        {
          "output_type": "stream",
          "name": "stdout",
          "text": [
            "tensor([[[0.6251, 0.6708, 0.2840],\n",
            "         [0.5023, 0.7931, 0.5938],\n",
            "         [0.7356, 0.4270, 0.3327]],\n",
            "\n",
            "        [[0.5846, 0.1143, 0.0316],\n",
            "         [0.2461, 0.8154, 0.5759],\n",
            "         [0.9902, 0.7441, 0.6154]]])\n",
            "tensor([[[0.6251, 0.6708, 0.2840],\n",
            "         [0.5846, 0.1143, 0.0316]],\n",
            "\n",
            "        [[0.5023, 0.7931, 0.5938],\n",
            "         [0.2461, 0.8154, 0.5759]],\n",
            "\n",
            "        [[0.7356, 0.4270, 0.3327],\n",
            "         [0.9902, 0.7441, 0.6154]]])\n"
          ]
        }
      ]
    },
    {
      "cell_type": "code",
      "source": [
        "# Matric Multiplication # \n",
        "# .matmul() - normal matrix multiplication \n",
        "matrix_a = torch.rand(9).view(3,3).float()\n",
        "matrix_b = torch.rand(3,3)\n",
        "print(matrix_a) \n",
        "print(matrix_b)\n",
        "\n",
        "print(torch.matmul(matrix_a, matrix_b))"
      ],
      "metadata": {
        "colab": {
          "base_uri": "https://localhost:8080/"
        },
        "id": "1B94TFXxGu2E",
        "outputId": "6d985f52-5f96-486e-c546-7c950b3dd974"
      },
      "execution_count": null,
      "outputs": [
        {
          "output_type": "stream",
          "name": "stdout",
          "text": [
            "tensor([[0.3369, 0.4774, 0.8701],\n",
            "        [0.1938, 0.9801, 0.6994],\n",
            "        [0.3473, 0.3341, 0.2473]])\n",
            "tensor([[0.5926, 0.2135, 0.4718],\n",
            "        [0.0197, 0.0036, 0.3289],\n",
            "        [0.3974, 0.6830, 0.7241]])\n",
            "tensor([[0.5548, 0.6679, 0.9460],\n",
            "        [0.4121, 0.5227, 0.9203],\n",
            "        [0.3107, 0.2443, 0.4528]])\n"
          ]
        }
      ]
    },
    {
      "cell_type": "code",
      "source": [
        "a = [ \n",
        "     [1,2],\n",
        "     [2,3]\n",
        "    ]\n",
        "a = np.array(a)\n",
        "a = torch.Tensor(a)\n",
        "b = torch.Tensor(np.array([[1,2], [3,4]]))\n",
        "print(a)\n",
        "print(b)\n",
        "\n",
        "# matrix multiplication\n",
        "print(torch.matmul(a,b))"
      ],
      "metadata": {
        "colab": {
          "base_uri": "https://localhost:8080/"
        },
        "id": "WPL4VkJGMpdi",
        "outputId": "c6907754-ebe9-4552-e721-76c0232a8552"
      },
      "execution_count": null,
      "outputs": [
        {
          "output_type": "stream",
          "name": "stdout",
          "text": [
            "tensor([[1., 2.],\n",
            "        [2., 3.]])\n",
            "tensor([[1., 2.],\n",
            "        [3., 4.]])\n",
            "tensor([[ 7., 10.],\n",
            "        [11., 16.]])\n"
          ]
        }
      ]
    },
    {
      "cell_type": "code",
      "source": [
        "# point wise multiplication \n",
        "torch.mul(a, b)"
      ],
      "metadata": {
        "colab": {
          "base_uri": "https://localhost:8080/"
        },
        "id": "-EP5iG6_NP1b",
        "outputId": "e37215be-8656-4c41-af92-fdb975f0b6f5"
      },
      "execution_count": null,
      "outputs": [
        {
          "output_type": "execute_result",
          "data": {
            "text/plain": [
              "tensor([[ 1.,  4.],\n",
              "        [ 6., 12.]])"
            ]
          },
          "metadata": {},
          "execution_count": 77
        }
      ]
    },
    {
      "cell_type": "code",
      "source": [
        "# gradient and computational graph #\n",
        "x = torch.Tensor(\n",
        "      [\n",
        "       [1,2,3,4,5], \n",
        "       [3,4,5,6,7]\n",
        "      ],\n",
        ").float()\n",
        "x"
      ],
      "metadata": {
        "id": "hiIZnLoYNwTx",
        "colab": {
          "base_uri": "https://localhost:8080/"
        },
        "outputId": "28a59b7b-6758-4910-ee36-889ecc212e65"
      },
      "execution_count": null,
      "outputs": [
        {
          "output_type": "execute_result",
          "data": {
            "text/plain": [
              "tensor([[1., 2., 3., 4., 5.],\n",
              "        [3., 4., 5., 6., 7.]])"
            ]
          },
          "metadata": {},
          "execution_count": 10
        }
      ]
    },
    {
      "cell_type": "code",
      "source": [
        "x.requires_grad"
      ],
      "metadata": {
        "colab": {
          "base_uri": "https://localhost:8080/"
        },
        "id": "L1FIxmxFp6nd",
        "outputId": "5932629c-60a4-4322-9c90-e1bed31880df"
      },
      "execution_count": null,
      "outputs": [
        {
          "output_type": "execute_result",
          "data": {
            "text/plain": [
              "False"
            ]
          },
          "metadata": {},
          "execution_count": 11
        }
      ]
    },
    {
      "cell_type": "code",
      "source": [
        "# let's make a small computational graph # \n",
        "# input \n",
        "x = torch.arange(3, dtype = float, requires_grad=True)\n",
        "x"
      ],
      "metadata": {
        "colab": {
          "base_uri": "https://localhost:8080/"
        },
        "id": "Z8ijwiB7qEn0",
        "outputId": "af013ffa-b3ce-4066-f02b-a9255d3c069d"
      },
      "execution_count": null,
      "outputs": [
        {
          "output_type": "execute_result",
          "data": {
            "text/plain": [
              "tensor([0., 1., 2.], dtype=torch.float64, requires_grad=True)"
            ]
          },
          "metadata": {},
          "execution_count": 14
        }
      ]
    },
    {
      "cell_type": "code",
      "source": [
        "a = x+2 \n",
        "b = a**2 \n",
        "c = b + 3 \n",
        "Y = c.mean()\n",
        "Y\n"
      ],
      "metadata": {
        "colab": {
          "base_uri": "https://localhost:8080/"
        },
        "id": "-kEN3hGiqpGA",
        "outputId": "a9f2eba9-5889-4100-f478-fbb2d296a9a2"
      },
      "execution_count": null,
      "outputs": [
        {
          "output_type": "execute_result",
          "data": {
            "text/plain": [
              "tensor(12.6667, dtype=torch.float64, grad_fn=<MeanBackward0>)"
            ]
          },
          "metadata": {},
          "execution_count": 16
        }
      ]
    },
    {
      "cell_type": "code",
      "source": [
        "# find gradient now \n",
        "Y.backward()"
      ],
      "metadata": {
        "id": "yzlv8AThqy0y"
      },
      "execution_count": null,
      "outputs": []
    },
    {
      "cell_type": "code",
      "source": [
        "x.grad"
      ],
      "metadata": {
        "colab": {
          "base_uri": "https://localhost:8080/"
        },
        "id": "M7IY5IRvrbYY",
        "outputId": "af9d9d6b-0ef1-49a6-a4e6-9a16eb7d3565"
      },
      "execution_count": null,
      "outputs": [
        {
          "output_type": "execute_result",
          "data": {
            "text/plain": [
              "tensor([1.3333, 2.0000, 2.6667], dtype=torch.float64)"
            ]
          },
          "metadata": {},
          "execution_count": 24
        }
      ]
    },
    {
      "cell_type": "code",
      "source": [
        "# check GPU and Cuda Availability \n",
        "gpu_avail = torch.cuda.is_available()\n",
        "if gpu_avail:\n",
        "  print(\"GPU IS PRESENT\")\n",
        "else:\n",
        "  print(\"NO GPU BOSS\")"
      ],
      "metadata": {
        "colab": {
          "base_uri": "https://localhost:8080/"
        },
        "id": "I3RppAsSrfCi",
        "outputId": "331e1f62-297e-4777-80e6-636bf2a2bb72"
      },
      "execution_count": null,
      "outputs": [
        {
          "output_type": "stream",
          "name": "stdout",
          "text": [
            "GPU IS PRESENT\n"
          ]
        }
      ]
    },
    {
      "cell_type": "code",
      "source": [
        "if torch.cuda.is_available():\n",
        "  device = torch.device(\"cuda\")\n",
        "else:\n",
        "  device = torch.device(\"cpu\")\n",
        "print(device) "
      ],
      "metadata": {
        "colab": {
          "base_uri": "https://localhost:8080/"
        },
        "id": "g6bZCi9dsZVh",
        "outputId": "f28eaf1e-1a09-49ac-a7da-681a026467df"
      },
      "execution_count": null,
      "outputs": [
        {
          "output_type": "stream",
          "name": "stdout",
          "text": [
            "cuda\n"
          ]
        }
      ]
    },
    {
      "cell_type": "code",
      "source": [
        "# create tensor and push it to cuda # \n",
        "var_a = torch.randn(4,4)\n",
        "var_a"
      ],
      "metadata": {
        "colab": {
          "base_uri": "https://localhost:8080/"
        },
        "id": "Szi8LW8A9vJR",
        "outputId": "96025917-6ef5-4e25-8e5b-7c7e202eb217"
      },
      "execution_count": null,
      "outputs": [
        {
          "output_type": "execute_result",
          "data": {
            "text/plain": [
              "tensor([[-0.1227,  0.3131,  0.2821, -0.6572],\n",
              "        [-1.3184, -0.1692, -0.6128, -0.4231],\n",
              "        [ 0.0800, -1.2227,  0.1328,  0.0822],\n",
              "        [ 0.3546,  0.2617, -0.3614, -0.0616]])"
            ]
          },
          "metadata": {},
          "execution_count": 5
        }
      ]
    },
    {
      "cell_type": "code",
      "source": [
        "x = var_a.to(device) \n",
        "x"
      ],
      "metadata": {
        "colab": {
          "base_uri": "https://localhost:8080/"
        },
        "id": "XLHO_pGF95wh",
        "outputId": "cbe9df5d-a8f4-4cb4-cb93-544205c64d16"
      },
      "execution_count": null,
      "outputs": [
        {
          "output_type": "execute_result",
          "data": {
            "text/plain": [
              "tensor([[-0.1227,  0.3131,  0.2821, -0.6572],\n",
              "        [-1.3184, -0.1692, -0.6128, -0.4231],\n",
              "        [ 0.0800, -1.2227,  0.1328,  0.0822],\n",
              "        [ 0.3546,  0.2617, -0.3614, -0.0616]], device='cuda:0')"
            ]
          },
          "metadata": {},
          "execution_count": 6
        }
      ]
    },
    {
      "cell_type": "code",
      "source": [
        "# check processing speed of cpu vs gpu # \n",
        "x = torch.randn(10000,10000)\n",
        "\n",
        "# for cpu \n",
        "start_time = time.time() \n",
        "_ = torch.matmul(x, x)\n",
        "end_time = time.time()\n",
        "print(\"Time taken: \", end_time - start_time)\n",
        "\n",
        "# for gpu \n",
        "if torch.cuda.is_available():\n",
        "  device = torch.device(\"cuda\")\n",
        "  x = x.to(device)\n",
        "\n",
        "  start = torch.cuda.Event(enable_timing=True)\n",
        "  end = torch.cuda.Event(enable_timing=True)\n",
        "  start.record()\n",
        "  _ = torch.matmul(x, x)\n",
        "  end.record() \n",
        "\n",
        "  torch.cuda.synchronize() \n",
        "\n",
        "  print(\"Time taken: \", 0.001*start.elapsed_time(end))"
      ],
      "metadata": {
        "colab": {
          "base_uri": "https://localhost:8080/"
        },
        "id": "P0W4dp1E9-0H",
        "outputId": "2fb5d717-511a-4290-8306-c2477473c1ea"
      },
      "execution_count": null,
      "outputs": [
        {
          "output_type": "stream",
          "name": "stdout",
          "text": [
            "Time taken:  25.525769233703613\n",
            "Time taken:  0.9069861450195312\n"
          ]
        }
      ]
    },
    {
      "cell_type": "code",
      "source": [
        "#############################################################################################################"
      ],
      "metadata": {
        "id": "P7VenVfg_cU9"
      },
      "execution_count": null,
      "outputs": []
    },
    {
      "cell_type": "code",
      "source": [
        "# Let's make an XOR # \n"
      ],
      "metadata": {
        "id": "f6O6WST8ECE8"
      },
      "execution_count": null,
      "outputs": []
    },
    {
      "cell_type": "code",
      "source": [
        "# XOR gives 1 when any one of the input is 1, else it is 0\n",
        "# 0 0 0\n",
        "# 0 1 1 \n",
        "# 1 0 1 \n",
        "# 1 1 0 "
      ],
      "metadata": {
        "id": "pm8a6lJ7EFKp"
      },
      "execution_count": null,
      "outputs": []
    },
    {
      "cell_type": "code",
      "source": [
        "# will make a 3 layered Model \n",
        "# 1 - 2 input \n",
        "# 2 - 3 hidden layers \n",
        "# 3 - 1 output \n",
        "# use tanh as activation"
      ],
      "metadata": {
        "id": "VZPt1QwYGL3q"
      },
      "execution_count": null,
      "outputs": []
    },
    {
      "cell_type": "code",
      "source": [
        "# define model and forward pass # \n",
        "\n",
        "class SimpleClassfier(nn.Module):\n",
        "  def __init__(self, num_inputs, num_hidden, num_outputs):\n",
        "    super(SimpleClassfier, self).__init__()\n",
        "\n",
        "  # initialize the models \n",
        "    self.linear1 = nn.Linear(num_inputs, num_hidden)\n",
        "    self.act_fn = nn.Tanh() \n",
        "    self.linear2 = nn.Linear(num_hidden, num_outputs)\n",
        "\n",
        "  # fun to forward # \n",
        "  def forward(self, x):\n",
        "    x = self.linear1(x)\n",
        "    x = self.act_fn(x)\n",
        "    x = self.linear2(x)\n",
        "    return x \n",
        "  "
      ],
      "metadata": {
        "id": "yGHBLjVdITS0"
      },
      "execution_count": null,
      "outputs": []
    },
    {
      "cell_type": "code",
      "source": [
        "model = SimpleClassfier(num_inputs=2, num_hidden=4, num_outputs=1)\n",
        "print(model)\n",
        "model"
      ],
      "metadata": {
        "colab": {
          "base_uri": "https://localhost:8080/"
        },
        "id": "-ytHa-TzBe3U",
        "outputId": "0cb6234f-cca0-48f7-f7ec-9b8bd16ceef7"
      },
      "execution_count": null,
      "outputs": [
        {
          "output_type": "stream",
          "name": "stdout",
          "text": [
            "SimpleClassfier(\n",
            "  (linear1): Linear(in_features=2, out_features=4, bias=True)\n",
            "  (act_fn): Tanh()\n",
            "  (linear2): Linear(in_features=4, out_features=1, bias=True)\n",
            ")\n"
          ]
        },
        {
          "output_type": "execute_result",
          "data": {
            "text/plain": [
              "SimpleClassfier(\n",
              "  (linear1): Linear(in_features=2, out_features=4, bias=True)\n",
              "  (act_fn): Tanh()\n",
              "  (linear2): Linear(in_features=4, out_features=1, bias=True)\n",
              ")"
            ]
          },
          "metadata": {},
          "execution_count": 8
        }
      ]
    },
    {
      "cell_type": "code",
      "source": [
        "# check params # \n",
        "for name, param in model.named_parameters():\n",
        "  print(\"Parameter Name {0}, Shape  {1}\".format(name, param.shape))"
      ],
      "metadata": {
        "colab": {
          "base_uri": "https://localhost:8080/"
        },
        "id": "zcsfMPv3BrKM",
        "outputId": "b370d7b7-93ef-42ca-d12e-2bbf10f499a6"
      },
      "execution_count": null,
      "outputs": [
        {
          "output_type": "stream",
          "name": "stdout",
          "text": [
            "Parameter Name linear1.weight, Shape  torch.Size([4, 2])\n",
            "Parameter Name linear1.bias, Shape  torch.Size([4])\n",
            "Parameter Name linear2.weight, Shape  torch.Size([1, 4])\n",
            "Parameter Name linear2.bias, Shape  torch.Size([1])\n"
          ]
        }
      ]
    },
    {
      "cell_type": "code",
      "source": [
        "# create data for XOR \n",
        "# __getitem__is a\n",
        "# using normal list comprehension \n",
        "a = [2,3,\"manish\", 5]\n",
        "print(a[2])\n",
        "\n",
        "# using special method - __getitem(x)__ \n",
        "print(a.__getitem__(2))\n",
        "\n",
        "# using len()\n",
        "a = [2,3,\"manish\",5]\n",
        "print(len(a))\n",
        "\n",
        "# using special method \n",
        "print(a.__len__())"
      ],
      "metadata": {
        "id": "fTjr1G2RCAUD",
        "colab": {
          "base_uri": "https://localhost:8080/"
        },
        "outputId": "6e810aef-761b-4001-a676-2d9f5233a5b5"
      },
      "execution_count": null,
      "outputs": [
        {
          "output_type": "stream",
          "name": "stdout",
          "text": [
            "manish\n",
            "manish\n",
            "4\n",
            "4\n"
          ]
        }
      ]
    },
    {
      "cell_type": "markdown",
      "source": [
        "## Create Data for XOR\n",
        "- using Dataset Class"
      ],
      "metadata": {
        "id": "q41V9sBBv2Fo"
      }
    },
    {
      "cell_type": "code",
      "source": [
        "class XORDataset(data.Dataset):\n",
        "  def __init__(self, size, std=0.1):\n",
        "\n",
        "    super(XORDataset).__init__()\n",
        "    self.size = size \n",
        "    self.std = std \n",
        "    self.generate_continuous_xor()\n",
        "\n",
        "  def generate_continuous_xor(self):\n",
        "    # Each data point in the XOR dataset has two variables, x and y, that can be either 0 or 1\n",
        "    # The label is their XOR combination, i.e. 1 if only x or only y is 1 while the other is 0.\n",
        "    # If x=y, the label is 0.\n",
        "    data = torch.randint(low=0, high=2, size=(self.size, 2), dtype=torch.float32)\n",
        "    label = (data.sum(dim=1) == 1).to(torch.long)\n",
        "    # To make it slightly more challenging, we add a bit of gaussian noise to the data points.\n",
        "    data += self.std * torch.randn(data.shape)\n",
        "\n",
        "    self.data = data\n",
        "    self.label = label\n",
        "  \n",
        "  def __len__(self):\n",
        "    return self.size \n",
        "  \n",
        "  def __getitem__(self, idx ):\n",
        "    data_point = self.data[idx]\n",
        "    data_label = self.label[idx]\n",
        "    return data_point, data_label\n"
      ],
      "metadata": {
        "id": "nHjvWxO0tkzP"
      },
      "execution_count": null,
      "outputs": []
    },
    {
      "cell_type": "code",
      "source": [
        "# create 200 data points\n",
        "dataset = XORDataset(200)\n",
        "print(\"Size of Dataset: \", dataset.__len__())\n",
        "print(\"DataPoint 0: \", dataset.__getitem__(0))\n",
        "print(dataset[0])"
      ],
      "metadata": {
        "colab": {
          "base_uri": "https://localhost:8080/"
        },
        "id": "stuWbGUTuvPv",
        "outputId": "9ec346a6-f48c-4ef0-d7d9-355f06b98789"
      },
      "execution_count": null,
      "outputs": [
        {
          "output_type": "stream",
          "name": "stdout",
          "text": [
            "Size of Dataset:  200\n",
            "DataPoint 0:  (tensor([-0.0266,  0.2101]), tensor(0))\n",
            "(tensor([-0.0266,  0.2101]), tensor(0))\n"
          ]
        }
      ]
    },
    {
      "cell_type": "code",
      "source": [
        "# visualize dataset \n",
        "\n",
        "def visualize_dataset(data, label):\n",
        "  # isinstance() is used to check whether the data is of the same type provided \n",
        "  # here, it means, whether the datapoint is in torch.Tensor point ? If Yes, it returns True else False  \n",
        "  if isinstance(data, torch.Tensor):\n",
        "    # convert data to numpy array on cpu \n",
        "    data = data.cpu().numpy()\n",
        "  \n",
        "  if isinstance(label, torch.Tensor):\n",
        "    label = label.cpu().numpy()\n",
        "  \n",
        "  data_with_value_0 = data[label == 0]\n",
        "  data_with_value_1 = data[label == 1]\n",
        "\n",
        "  # print(data_with_value_0)\n",
        "\n",
        "  plt.figure(figsize = (4,4))\n",
        "  plt.scatter(data_with_value_0[:, 0], data_with_value_0[:,1], edgecolor = \"#333\", label = \"class 0\")\n",
        "  plt.scatter(data_with_value_1[:, 0], data_with_value_1[:,1], edgecolor = \"#333\", label = \"class 1\")\n",
        "  plt.title(\"Dataset Sample\")\n",
        "  plt.xlabel(r\"$x_2$\") \n",
        "  plt.ylabel(r\"$x_1$\")\n",
        "  plt.legend()\n",
        "  \n"
      ],
      "metadata": {
        "id": "PNICHLsXvRw_"
      },
      "execution_count": null,
      "outputs": []
    },
    {
      "cell_type": "code",
      "source": [
        "visualize_dataset(dataset.data, dataset.label)\n",
        "plt.show()"
      ],
      "metadata": {
        "colab": {
          "base_uri": "https://localhost:8080/",
          "height": 297
        },
        "id": "6ZDu68RcySIW",
        "outputId": "3790ac91-0a56-49d8-df71-1e4bcbeed45d"
      },
      "execution_count": null,
      "outputs": [
        {
          "output_type": "display_data",
          "data": {
            "image/png": "[encoded data removed]",
            "text/plain": [
              "<Figure size 288x288 with 1 Axes>"
            ]
          },
          "metadata": {
            "needs_background": "light"
          }
        }
      ]
    },
    {
      "cell_type": "markdown",
      "source": [
        "- using DataLoader Class"
      ],
      "metadata": {
        "id": "pwqFsT-q0w3U"
      }
    },
    {
      "cell_type": "code",
      "source": [
        "# let's create a simple DataLoader \n",
        "import torch.utils.data as data\n",
        "data_loader = data.DataLoader(dataset, batch_size = 8, shuffle = True, drop_last = False, pin_memory = True, num_workers = 0)"
      ],
      "metadata": {
        "id": "UwBIMBgRzxf1"
      },
      "execution_count": null,
      "outputs": []
    },
    {
      "cell_type": "code",
      "source": [
        "data_loader"
      ],
      "metadata": {
        "colab": {
          "base_uri": "https://localhost:8080/"
        },
        "id": "T8sYJ7Nc2XoO",
        "outputId": "8e093ee5-36d5-4b4c-9f26-8849a47b58b6"
      },
      "execution_count": null,
      "outputs": [
        {
          "output_type": "execute_result",
          "data": {
            "text/plain": [
              "<torch.utils.data.dataloader.DataLoader at 0x7f047c666cd0>"
            ]
          },
          "metadata": {},
          "execution_count": 15
        }
      ]
    },
    {
      "cell_type": "code",
      "source": [
        ""
      ],
      "metadata": {
        "id": "eR8ZxCvs2Y_B"
      },
      "execution_count": null,
      "outputs": []
    },
    {
      "cell_type": "markdown",
      "source": [
        "## The Entire Flow of Model\n",
        "- Get a batch of data from dataloader\n",
        "- pass the batch in the model and get the prediction\n",
        "- Calculate loss from pred and actual label \n",
        "- Backpropogate, to calculate gradient for every param\n",
        "- Update param in direction of gradient so as to lower loss"
      ],
      "metadata": {
        "id": "kTKoQkwn4MwP"
      }
    },
    {
      "cell_type": "code",
      "source": [
        "# loss Modules "
      ],
      "metadata": {
        "id": "Z6_ye_2H2c_l"
      },
      "execution_count": null,
      "outputs": []
    },
    {
      "cell_type": "code",
      "source": [
        "# for binary classification model, we have BCE [ Binary CrossEntropy Loss ]\n",
        "'''\n",
        "loss(bce) = -sum(ylog(y^) + (1-y)log(1-y^))\n",
        "y^ - pred value \n",
        "y - original value \n",
        "'''"
      ],
      "metadata": {
        "colab": {
          "base_uri": "https://localhost:8080/",
          "height": 36
        },
        "id": "hIA5ZxQP4jl9",
        "outputId": "912c2151-6df9-4284-ff99-449438d3c5bd"
      },
      "execution_count": null,
      "outputs": [
        {
          "output_type": "execute_result",
          "data": {
            "application/vnd.google.colaboratory.intrinsic+json": {
              "type": "string"
            },
            "text/plain": [
              "'\\nloss(bce) = -sum(ylog(y^) + (1-y)log(1-y^))\\ny^ - pred value \\ny - original value \\n'"
            ]
          },
          "metadata": {},
          "execution_count": 17
        }
      ]
    },
    {
      "cell_type": "code",
      "source": [
        "# since, we did not use sigmoid in last layer and our loss is based on log() of logit. We use this loss\n",
        "loss_module = nn.BCEWithLogitsLoss()\n"
      ],
      "metadata": {
        "id": "NF4jZz0e5bCg"
      },
      "execution_count": null,
      "outputs": []
    },
    {
      "cell_type": "code",
      "source": [
        "# for optimizer, we are using SGD. \n",
        "# momentum is used for faster convergence\n",
        "optimizer = torch.optim.SGD(model.parameters(), lr = 0.01, momentum=0.9)\n"
      ],
      "metadata": {
        "id": "XHH3Jm7G58hu"
      },
      "execution_count": null,
      "outputs": []
    },
    {
      "cell_type": "code",
      "source": [
        "# let's make a bigger data \n",
        "train_dataset = XORDataset(size = 5000)\n",
        "train_data_loader = data.DataLoader(train_dataset, shuffle = True, drop_last = False, num_workers = 0, pin_memory = True, batch_size = 64)\n"
      ],
      "metadata": {
        "id": "wrcDPKik6HFU"
      },
      "execution_count": null,
      "outputs": []
    },
    {
      "cell_type": "code",
      "source": [
        "data, label = next(iter(train_data_loader))"
      ],
      "metadata": {
        "id": "ulIX_ZQp7GCL"
      },
      "execution_count": null,
      "outputs": []
    },
    {
      "cell_type": "code",
      "source": [
        "print(data, label)"
      ],
      "metadata": {
        "colab": {
          "base_uri": "https://localhost:8080/"
        },
        "id": "ZuOF_Yj67bZd",
        "outputId": "5cf18ffc-e977-4505-9f3a-0b8ae76a5d94"
      },
      "execution_count": null,
      "outputs": [
        {
          "output_type": "stream",
          "name": "stdout",
          "text": [
            "tensor([[ 9.9024e-01,  2.2967e-01],\n",
            "        [ 1.1585e+00,  1.7347e-02],\n",
            "        [ 1.0063e+00,  1.0190e+00],\n",
            "        [ 1.0079e+00, -8.7621e-02],\n",
            "        [ 1.1039e-02,  9.7757e-01],\n",
            "        [-4.6208e-02,  8.7413e-01],\n",
            "        [ 1.0784e+00,  1.2718e-01],\n",
            "        [ 1.0057e+00,  1.1087e+00],\n",
            "        [ 1.0681e+00,  9.9611e-01],\n",
            "        [ 1.1517e+00,  1.4548e-01],\n",
            "        [ 1.8653e-02,  1.0556e+00],\n",
            "        [ 9.5692e-04, -1.0056e-01],\n",
            "        [ 1.2069e+00,  1.9724e-02],\n",
            "        [ 8.5145e-01,  1.1908e-02],\n",
            "        [-8.1236e-02,  1.4790e-02],\n",
            "        [ 9.8370e-01,  9.8204e-01],\n",
            "        [ 9.9293e-01,  1.0053e-01],\n",
            "        [ 1.0179e+00,  1.1568e+00],\n",
            "        [ 8.0000e-01,  1.0376e+00],\n",
            "        [ 1.1520e+00,  9.7489e-01],\n",
            "        [ 8.7101e-01,  9.3993e-03],\n",
            "        [ 1.0907e+00,  7.4354e-02],\n",
            "        [ 9.7066e-01,  1.0497e+00],\n",
            "        [ 1.0293e+00, -3.0282e-01],\n",
            "        [ 1.0911e+00,  9.5220e-01],\n",
            "        [ 8.7354e-01,  1.0293e+00],\n",
            "        [ 3.7205e-02,  1.0055e+00],\n",
            "        [ 1.0621e+00,  1.0374e+00],\n",
            "        [ 1.0885e+00, -3.4530e-02],\n",
            "        [ 1.0351e+00,  1.0327e+00],\n",
            "        [ 1.1055e+00, -1.6620e-02],\n",
            "        [ 1.0987e+00,  2.2110e-01],\n",
            "        [ 9.6873e-01,  1.0483e+00],\n",
            "        [ 8.3545e-01, -1.3000e-02],\n",
            "        [ 1.6880e-01, -1.2973e-01],\n",
            "        [ 9.7596e-01, -6.8430e-02],\n",
            "        [ 9.8770e-01,  2.6499e-02],\n",
            "        [ 1.0174e+00,  9.1426e-01],\n",
            "        [-3.8256e-02,  6.2601e-02],\n",
            "        [ 1.2913e-01, -2.8446e-02],\n",
            "        [ 1.0157e+00,  7.8963e-01],\n",
            "        [-8.2079e-02,  4.6980e-02],\n",
            "        [ 9.6445e-01, -1.1127e-01],\n",
            "        [-1.0743e-01,  8.1888e-01],\n",
            "        [ 8.7303e-02,  6.3865e-02],\n",
            "        [ 9.9700e-01,  1.0063e+00],\n",
            "        [ 8.8682e-01,  1.0543e+00],\n",
            "        [ 1.2304e-01, -5.1957e-02],\n",
            "        [ 9.7302e-01,  8.6626e-01],\n",
            "        [-9.8281e-02,  1.0063e+00],\n",
            "        [ 6.8307e-02,  1.0442e+00],\n",
            "        [ 9.2014e-01, -1.1334e-01],\n",
            "        [ 9.9999e-01, -2.8556e-02],\n",
            "        [ 1.0306e+00,  7.6607e-02],\n",
            "        [ 9.6384e-01, -7.3658e-02],\n",
            "        [ 1.1431e+00,  7.8982e-01],\n",
            "        [ 8.8297e-01,  1.2165e-01],\n",
            "        [ 1.1147e+00,  1.0361e+00],\n",
            "        [-5.8467e-03, -2.9303e-02],\n",
            "        [-6.0560e-02, -7.7903e-02],\n",
            "        [ 9.3422e-01,  9.8954e-01],\n",
            "        [ 1.1040e+00,  1.1341e+00],\n",
            "        [ 2.1776e-01, -1.2578e-01],\n",
            "        [ 1.0405e+00, -8.5361e-02]]) tensor([1, 1, 0, 1, 1, 1, 1, 0, 0, 1, 1, 0, 1, 1, 0, 0, 1, 0, 0, 0, 1, 1, 0, 1,\n",
            "        0, 0, 1, 0, 1, 0, 1, 1, 0, 1, 0, 1, 1, 0, 0, 0, 0, 0, 1, 1, 0, 0, 0, 0,\n",
            "        0, 1, 1, 1, 1, 1, 1, 0, 1, 0, 0, 0, 0, 0, 0, 1])\n"
          ]
        }
      ]
    },
    {
      "cell_type": "code",
      "source": [
        "print(data.shape, label.shape)"
      ],
      "metadata": {
        "colab": {
          "base_uri": "https://localhost:8080/"
        },
        "id": "Gb5170wu7ckm",
        "outputId": "9a3d782c-a15c-491f-b6c3-5c0a6e084ae6"
      },
      "execution_count": null,
      "outputs": [
        {
          "output_type": "stream",
          "name": "stdout",
          "text": [
            "torch.Size([64, 2]) torch.Size([64])\n"
          ]
        }
      ]
    },
    {
      "cell_type": "code",
      "source": [
        "# push model to device \n",
        "model.to(device)"
      ],
      "metadata": {
        "colab": {
          "base_uri": "https://localhost:8080/"
        },
        "id": "vExGOQAT7feN",
        "outputId": "c0b45064-dede-4677-d8d2-15180fa58b52"
      },
      "execution_count": null,
      "outputs": [
        {
          "output_type": "execute_result",
          "data": {
            "text/plain": [
              "SimpleClassfier(\n",
              "  (linear1): Linear(in_features=2, out_features=4, bias=True)\n",
              "  (act_fn): Tanh()\n",
              "  (linear2): Linear(in_features=4, out_features=1, bias=True)\n",
              ")"
            ]
          },
          "metadata": {},
          "execution_count": 24
        }
      ]
    },
    {
      "cell_type": "code",
      "source": [
        "# training is model.train() and testing is model.eval()\n",
        "def train_model(model, optimizer, data_loader, loss_module, num_epochs = 200):\n",
        "  model.train()\n",
        "  for epoch in tqdm(range(num_epochs)):\n",
        "    train_loss = 0\n",
        "    for data, label in data_loader:\n",
        "      \n",
        "      \n",
        "      # step 1 - move data and label to device \n",
        "      data = data.to(device)\n",
        "      label = label.to(device)\n",
        "\n",
        "      # step 2 - Calculate prediction \n",
        "      pred = model(data)\n",
        "      # output is in [batchSize, 1], but we need only [BatchSize]\n",
        "      pred = pred.squeeze(dim = 1)\n",
        "\n",
        "      # step 3 - calculate loss \n",
        "      loss = loss_module(pred, label.float() )\n",
        "      train_loss += loss\n",
        "      # step 4 - calculate backprop\n",
        "      optimizer.zero_grad()   # clear grad\n",
        "      loss.backward()         # perform BP\n",
        "      optimizer.step()        # Update weights\n",
        "\n",
        "  if epoch+1 % 10 == 0:\n",
        "    print(\"Loss: \", train_loss / len(data) )\n",
        "    \n",
        "    "
      ],
      "metadata": {
        "id": "6gl9VdIu7qpe"
      },
      "execution_count": null,
      "outputs": []
    },
    {
      "cell_type": "code",
      "source": [
        "# train \n",
        "train_model(model, optimizer, train_data_loader, loss_module)"
      ],
      "metadata": {
        "colab": {
          "base_uri": "https://localhost:8080/",
          "height": 49,
          "referenced_widgets": [
            "24e92e8435f44b3a81605f031930d656",
            "4d5291b33053479ca86c48915480ad89",
            "acdb005dfe5c48649dbe2a13adfc82f1",
            "5343afcd5ce3424dbd31759c110b690b",
            "8c1c9725da3f41b5b44be4e5fb359ac0",
            "2e9d7d1f706949ffb3cf3f71f9660f8a",
            "1ff717bf4ab9432287bb12bee8a4b244",
            "f1baa14223214a959350a9fc84a7b384",
            "65541f9bfc7a4fd18973fef21d2486ef",
            "eb8cdba703764fe8bcb262ed509db779",
            "97a4393c558d46ac843673135af90051"
          ]
        },
        "id": "L9RW77kK8cQ8",
        "outputId": "0e5e7c21-de21-484c-b685-02bb435435f8"
      },
      "execution_count": null,
      "outputs": [
        {
          "output_type": "display_data",
          "data": {
            "application/vnd.jupyter.widget-view+json": {
              "model_id": "24e92e8435f44b3a81605f031930d656",
              "version_minor": 0,
              "version_major": 2
            },
            "text/plain": [
              "  0%|          | 0/200 [00:00<?, ?it/s]"
            ]
          },
          "metadata": {}
        }
      ]
    },
    {
      "cell_type": "code",
      "source": [
        "# save model \n",
        "state_dict = model.state_dict()\n",
        "print(state_dict)"
      ],
      "metadata": {
        "colab": {
          "base_uri": "https://localhost:8080/"
        },
        "id": "LvguiEpA8gRc",
        "outputId": "5f5b495d-cfe0-4773-bcd1-45fc5b513e54"
      },
      "execution_count": null,
      "outputs": [
        {
          "output_type": "stream",
          "name": "stdout",
          "text": [
            "OrderedDict([('linear1.weight', tensor([[-3.2658, -3.3167],\n",
            "        [ 4.3049, -3.0748],\n",
            "        [-0.6503, -0.9281],\n",
            "        [ 2.2913, -3.8830]], device='cuda:0')), ('linear1.bias', tensor([ 1.0519,  1.0507,  1.2271, -0.5548], device='cuda:0')), ('linear2.weight', tensor([[-5.5097, -6.4012,  1.6951,  6.2485]], device='cuda:0')), ('linear2.bias', tensor([1.0135], device='cuda:0'))])\n"
          ]
        }
      ]
    },
    {
      "cell_type": "code",
      "source": [
        "# save using torch.save \n",
        "torch.save(state_dict, \"torch_xor_param_dict.tar\")"
      ],
      "metadata": {
        "id": "oamczflD_J72"
      },
      "execution_count": null,
      "outputs": []
    },
    {
      "cell_type": "code",
      "source": [
        "# load dict \n",
        "state_dict = torch.load(\"torch_xor_param_dict.tar\")\n",
        "# create model and store \n",
        "# new_model = SimpleClassifier(num_inputs=2, num_hidden=4, num_outputs=2)\n",
        "# new_model.load_state_dict = state_dict\n",
        "\n",
        "\n",
        "print(model.state_dict())\n",
        "# print(new_model.state_dict())\n"
      ],
      "metadata": {
        "colab": {
          "base_uri": "https://localhost:8080/"
        },
        "id": "VBaKaps2_V6Z",
        "outputId": "d965a02a-6666-4e30-87e7-c306f1f375ad"
      },
      "execution_count": null,
      "outputs": [
        {
          "output_type": "stream",
          "name": "stdout",
          "text": [
            "OrderedDict([('linear1.weight', tensor([[-3.2658, -3.3167],\n",
            "        [ 4.3049, -3.0748],\n",
            "        [-0.6503, -0.9281],\n",
            "        [ 2.2913, -3.8830]], device='cuda:0')), ('linear1.bias', tensor([ 1.0519,  1.0507,  1.2271, -0.5548], device='cuda:0')), ('linear2.weight', tensor([[-5.5097, -6.4012,  1.6951,  6.2485]], device='cuda:0')), ('linear2.bias', tensor([1.0135], device='cuda:0'))])\n"
          ]
        }
      ]
    },
    {
      "cell_type": "code",
      "source": [
        "## Evaluation\n",
        "# create test data \n",
        "import torch.utils.data as data\n",
        "test_dataset = XORDataset(size = 500)\n",
        "test_data_loader = data.DataLoader(test_dataset, batch_size = 64, shuffle = False)"
      ],
      "metadata": {
        "id": "4MmSA7KKAYLp"
      },
      "execution_count": null,
      "outputs": []
    },
    {
      "cell_type": "code",
      "source": [
        "data_set, label_set = next(iter(test_data_loader))\n",
        "print(data_set, label_set)"
      ],
      "metadata": {
        "colab": {
          "base_uri": "https://localhost:8080/"
        },
        "id": "8N9xVcKXPiEp",
        "outputId": "9409f6af-e7b5-479c-ccb9-4228404302cc"
      },
      "execution_count": null,
      "outputs": [
        {
          "output_type": "stream",
          "name": "stdout",
          "text": [
            "tensor([[ 0.9753,  0.9337],\n",
            "        [ 1.0516,  1.1873],\n",
            "        [ 1.0303,  0.7953],\n",
            "        [ 0.9461,  0.9836],\n",
            "        [ 0.1743,  1.0763],\n",
            "        [ 1.0457, -0.1106],\n",
            "        [ 1.0116,  0.0822],\n",
            "        [-0.1012, -0.0294],\n",
            "        [-0.0263,  0.0096],\n",
            "        [ 0.1316, -0.1880],\n",
            "        [ 0.0725, -0.0196],\n",
            "        [-0.0670, -0.1040],\n",
            "        [ 1.1582,  0.0056],\n",
            "        [ 0.0053,  0.0848],\n",
            "        [ 1.1298,  0.0074],\n",
            "        [-0.0134,  0.1103],\n",
            "        [-0.0797, -0.2082],\n",
            "        [-0.0034,  1.1306],\n",
            "        [ 0.8885, -0.1470],\n",
            "        [ 0.9361, -0.0713],\n",
            "        [-0.0476,  1.0083],\n",
            "        [ 0.7755,  0.9246],\n",
            "        [ 1.2902,  0.1041],\n",
            "        [ 1.1919,  0.8191],\n",
            "        [ 1.0617, -0.1198],\n",
            "        [ 1.0411,  0.9290],\n",
            "        [-0.1562, -0.0326],\n",
            "        [ 0.0105, -0.0966],\n",
            "        [ 1.0527, -0.1081],\n",
            "        [-0.1108, -0.0242],\n",
            "        [ 1.0939, -0.0555],\n",
            "        [-0.2336,  1.1116],\n",
            "        [-0.1905,  0.0403],\n",
            "        [ 0.1159,  1.0431],\n",
            "        [ 0.9178,  1.0508],\n",
            "        [ 0.1022, -0.0091],\n",
            "        [ 0.9608, -0.0189],\n",
            "        [ 0.8833,  0.1040],\n",
            "        [ 1.0105,  0.9403],\n",
            "        [ 0.0285,  0.9386],\n",
            "        [-0.1679,  0.9740],\n",
            "        [ 1.0737,  0.9355],\n",
            "        [ 1.0877, -0.0509],\n",
            "        [-0.0175, -0.0423],\n",
            "        [ 1.0329,  1.0167],\n",
            "        [ 1.0479, -0.1397],\n",
            "        [-0.1305,  0.9487],\n",
            "        [ 0.9510,  1.0905],\n",
            "        [ 0.8239,  0.9630],\n",
            "        [-0.0650, -0.0047],\n",
            "        [ 0.9998,  0.0589],\n",
            "        [ 0.9518,  0.9476],\n",
            "        [ 0.9208,  0.9451],\n",
            "        [ 0.0162,  0.0316],\n",
            "        [ 0.9806,  0.0962],\n",
            "        [ 0.9491, -0.1262],\n",
            "        [ 0.9831,  0.9709],\n",
            "        [ 0.2327,  1.1077],\n",
            "        [ 1.0421,  1.0577],\n",
            "        [ 1.0808,  0.8774],\n",
            "        [ 0.1809,  1.1041],\n",
            "        [-0.1459,  0.9741],\n",
            "        [ 0.9594,  0.8872],\n",
            "        [ 1.0067,  0.0840]]) tensor([0, 0, 0, 0, 1, 1, 1, 0, 0, 0, 0, 0, 1, 0, 1, 0, 0, 1, 1, 1, 1, 0, 1, 0,\n",
            "        1, 0, 0, 0, 1, 0, 1, 1, 0, 1, 0, 0, 1, 1, 0, 1, 1, 0, 1, 0, 0, 1, 1, 0,\n",
            "        0, 0, 1, 0, 0, 0, 1, 1, 0, 1, 0, 0, 1, 1, 0, 1])\n"
          ]
        }
      ]
    },
    {
      "cell_type": "code",
      "source": [
        "print(data_set.shape, label_set.shape)"
      ],
      "metadata": {
        "colab": {
          "base_uri": "https://localhost:8080/"
        },
        "id": "uldbeisVPsdN",
        "outputId": "03696857-e7c7-4a3f-9c19-f96fa3831a5f"
      },
      "execution_count": null,
      "outputs": [
        {
          "output_type": "stream",
          "name": "stdout",
          "text": [
            "torch.Size([64, 2]) torch.Size([64])\n"
          ]
        }
      ]
    },
    {
      "cell_type": "code",
      "source": [
        "# metric is Accuracy\n",
        "# tp+tn / tp+tn+fp+fn"
      ],
      "metadata": {
        "id": "-Uy5giUlPvjP"
      },
      "execution_count": null,
      "outputs": []
    },
    {
      "cell_type": "code",
      "source": [
        "# now no computation graph is required, hence model.eval() and torch.no_grad()"
      ],
      "metadata": {
        "id": "fZ4ars1BPzgN"
      },
      "execution_count": null,
      "outputs": []
    },
    {
      "cell_type": "code",
      "source": [
        "def eval_model(model, data_loader):\n",
        "  model.eval()\n",
        "  true_pred, num_pred = 0.0, 0.0\n",
        "\n",
        "  with torch.no_grad():\n",
        "    for data_input, label_input in data_loader:\n",
        "      data_input = data_input.to(device)\n",
        "      label_input = label_input.to(device)\n",
        "\n",
        "      pred = model(data_input)\n",
        "      pred = pred.squeeze(dim=1)\n",
        "      # sigmoid to map between 0 and 1 \n",
        "      preds = torch.sigmoid(pred)\n",
        "      pred_label = (preds>=0.5).long()\n",
        "\n",
        "      true_pred += (pred_label == label_input).sum()\n",
        "      num_pred += data_input.shape[0]\n",
        "\n",
        "  acc = true_pred / num_pred\n",
        "  print(true_pred, num_pred)\n",
        "  print(\"Accuracy is: \", acc.data*100)"
      ],
      "metadata": {
        "id": "ouYBHGgLP6mg"
      },
      "execution_count": null,
      "outputs": []
    },
    {
      "cell_type": "code",
      "source": [
        "eval_model(model, test_data_loader)"
      ],
      "metadata": {
        "colab": {
          "base_uri": "https://localhost:8080/"
        },
        "id": "5OFJOUDvQvj4",
        "outputId": "a5dd1583-25a8-4141-afe1-6adf2e58c6d8"
      },
      "execution_count": null,
      "outputs": [
        {
          "output_type": "stream",
          "name": "stdout",
          "text": [
            "tensor(500., device='cuda:0') 500.0\n",
            "Accuracy is:  tensor(100., device='cuda:0')\n"
          ]
        }
      ]
    },
    {
      "cell_type": "code",
      "source": [
        "# visualize the prediction \n",
        "\n",
        "%matplotlib inline\n",
        "from IPython.display import set_matplotlib_formats\n",
        "from matplotlib.colors import to_rgba\n",
        "\n",
        "@torch.no_grad()  # Decorator, same effect as \"with torch.no_grad(): ...\" over the whole function.\n",
        "def visualize_classification(model, data, label):\n",
        "    if isinstance(data, torch.Tensor):\n",
        "        data = data.cpu().numpy()\n",
        "    if isinstance(label, torch.Tensor):\n",
        "        label = label.cpu().numpy()\n",
        "    data_0 = data[label == 0]\n",
        "    data_1 = data[label == 1]\n",
        "\n",
        "    plt.figure(figsize=(4, 4))\n",
        "    plt.scatter(data_0[:, 0], data_0[:, 1], edgecolor=\"#333\", label=\"Class 0\")\n",
        "    plt.scatter(data_1[:, 0], data_1[:, 1], edgecolor=\"#333\", label=\"Class 1\")\n",
        "    plt.title(\"Dataset samples\")\n",
        "    plt.ylabel(r\"$x_2$\")\n",
        "    plt.xlabel(r\"$x_1$\")\n",
        "    plt.legend()\n",
        "\n",
        "    # Let's make use of a lot of operations we have learned above\n",
        "    model.to(device)\n",
        "    c0 = torch.Tensor(to_rgba(\"C0\")).to(device)\n",
        "    c1 = torch.Tensor(to_rgba(\"C1\")).to(device)\n",
        "    x1 = torch.arange(-0.5, 1.5, step=0.01, device=device)\n",
        "    x2 = torch.arange(-0.5, 1.5, step=0.01, device=device)\n",
        "    xx1, xx2 = torch.meshgrid(x1, x2)  # Meshgrid function as in numpy\n",
        "    model_inputs = torch.stack([xx1, xx2], dim=-1)\n",
        "    preds = model(model_inputs)\n",
        "    preds = torch.sigmoid(preds)\n",
        "    # Specifying \"None\" in a dimension creates a new one\n",
        "    output_image = (1 - preds) * c0[None, None] + preds * c1[None, None]\n",
        "    output_image = (\n",
        "        output_image.cpu().numpy()\n",
        "    )  # Convert to numpy array. This only works for tensors on CPU, hence first push to CPU\n",
        "    plt.imshow(output_image, origin=\"lower\", extent=(-0.5, 1.5, -0.5, 1.5))\n",
        "    plt.grid(False)\n",
        "\n",
        "\n",
        "visualize_classification(model, dataset.data, dataset.label)\n",
        "plt.show()"
      ],
      "metadata": {
        "colab": {
          "base_uri": "https://localhost:8080/",
          "height": 353
        },
        "id": "3hkKOOLRQytB",
        "outputId": "2bcf9687-96be-4829-b8cf-03650661f923"
      },
      "execution_count": null,
      "outputs": [
        {
          "output_type": "stream",
          "name": "stderr",
          "text": [
            "/usr/local/lib/python3.7/dist-packages/torch/functional.py:445: UserWarning: torch.meshgrid: in an upcoming release, it will be required to pass the indexing argument. (Triggered internally at  ../aten/src/ATen/native/TensorShape.cpp:2157.)\n",
            "  return _VF.meshgrid(tensors, **kwargs)  # type: ignore[attr-defined]\n"
          ]
        },
        {
          "output_type": "display_data",
          "data": {
            "image/png": "[encoded data removed]",
            "text/plain": [
              "<Figure size 288x288 with 1 Axes>"
            ]
          },
          "metadata": {
            "needs_background": "light"
          }
        }
      ]
    },
    {
      "cell_type": "code",
      "source": [
        "## WOOHOOO ##"
      ],
      "metadata": {
        "id": "kzGdq1v7RdSD"
      },
      "execution_count": null,
      "outputs": []
    }
  ]
}