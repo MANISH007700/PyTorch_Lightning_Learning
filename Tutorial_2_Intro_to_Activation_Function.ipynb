{
  "nbformat": 4,
  "nbformat_minor": 0,
  "metadata": {
    "colab": {
      "name": "Tutorial 2: Intro to Activation Function",
      "provenance": [],
      "collapsed_sections": [],
      "authorship_tag": "ABX9TyPLSD0lvU2kCt+L0vJrxhwE",
      "include_colab_link": true
    },
    "kernelspec": {
      "name": "python3",
      "display_name": "Python 3"
    },
    "language_info": {
      "name": "python"
    },
    "accelerator": "GPU",
    "widgets": {
      "application/vnd.jupyter.widget-state+json": {
        "be25a43b2c6144be81fdbec806c4ad09": {
          "model_module": "@jupyter-widgets/controls",
          "model_name": "HBoxModel",
          "model_module_version": "1.5.0",
          "state": {
            "_view_name": "HBoxView",
            "_dom_classes": [],
            "_model_name": "HBoxModel",
            "_view_module": "@jupyter-widgets/controls",
            "_model_module_version": "1.5.0",
            "_view_count": null,
            "_view_module_version": "1.5.0",
            "box_style": "",
            "layout": "IPY_MODEL_77d12a89569c4f0692cc5ba2f7224919",
            "_model_module": "@jupyter-widgets/controls",
            "children": [
              "IPY_MODEL_b85cf0f7ae2e48989b4b6ea3b2625bd5",
              "IPY_MODEL_be2240b2764e46dbb4a41797d547acfb",
              "IPY_MODEL_87c2770cb2944e439cf6e5c72e6bb84e"
            ]
          }
        },
        "77d12a89569c4f0692cc5ba2f7224919": {
          "model_module": "@jupyter-widgets/base",
          "model_name": "LayoutModel",
          "model_module_version": "1.2.0",
          "state": {
            "_view_name": "LayoutView",
            "grid_template_rows": null,
            "right": null,
            "justify_content": null,
            "_view_module": "@jupyter-widgets/base",
            "overflow": null,
            "_model_module_version": "1.2.0",
            "_view_count": null,
            "flex_flow": null,
            "width": null,
            "min_width": null,
            "border": null,
            "align_items": null,
            "bottom": null,
            "_model_module": "@jupyter-widgets/base",
            "top": null,
            "grid_column": null,
            "overflow_y": null,
            "overflow_x": null,
            "grid_auto_flow": null,
            "grid_area": null,
            "grid_template_columns": null,
            "flex": null,
            "_model_name": "LayoutModel",
            "justify_items": null,
            "grid_row": null,
            "max_height": null,
            "align_content": null,
            "visibility": null,
            "align_self": null,
            "height": null,
            "min_height": null,
            "padding": null,
            "grid_auto_rows": null,
            "grid_gap": null,
            "max_width": null,
            "order": null,
            "_view_module_version": "1.2.0",
            "grid_template_areas": null,
            "object_position": null,
            "object_fit": null,
            "grid_auto_columns": null,
            "margin": null,
            "display": null,
            "left": null
          }
        },
        "b85cf0f7ae2e48989b4b6ea3b2625bd5": {
          "model_module": "@jupyter-widgets/controls",
          "model_name": "HTMLModel",
          "model_module_version": "1.5.0",
          "state": {
            "_view_name": "HTMLView",
            "style": "IPY_MODEL_1d843eabff554640b660aef136555cde",
            "_dom_classes": [],
            "description": "",
            "_model_name": "HTMLModel",
            "placeholder": "​",
            "_view_module": "@jupyter-widgets/controls",
            "_model_module_version": "1.5.0",
            "value": "",
            "_view_count": null,
            "_view_module_version": "1.5.0",
            "description_tooltip": null,
            "_model_module": "@jupyter-widgets/controls",
            "layout": "IPY_MODEL_364f9ccd7ba344619ad60a603e9275db"
          }
        },
        "be2240b2764e46dbb4a41797d547acfb": {
          "model_module": "@jupyter-widgets/controls",
          "model_name": "FloatProgressModel",
          "model_module_version": "1.5.0",
          "state": {
            "_view_name": "ProgressView",
            "style": "IPY_MODEL_df7c79591495415ca3dc3d0e8f0969c9",
            "_dom_classes": [],
            "description": "",
            "_model_name": "FloatProgressModel",
            "bar_style": "success",
            "max": 26421880,
            "_view_module": "@jupyter-widgets/controls",
            "_model_module_version": "1.5.0",
            "value": 26421880,
            "_view_count": null,
            "_view_module_version": "1.5.0",
            "orientation": "horizontal",
            "min": 0,
            "description_tooltip": null,
            "_model_module": "@jupyter-widgets/controls",
            "layout": "IPY_MODEL_17f34f39442e4ce3a679f514f137ba14"
          }
        },
        "87c2770cb2944e439cf6e5c72e6bb84e": {
          "model_module": "@jupyter-widgets/controls",
          "model_name": "HTMLModel",
          "model_module_version": "1.5.0",
          "state": {
            "_view_name": "HTMLView",
            "style": "IPY_MODEL_d00d9f97bf744281876402d0ebfc971c",
            "_dom_classes": [],
            "description": "",
            "_model_name": "HTMLModel",
            "placeholder": "​",
            "_view_module": "@jupyter-widgets/controls",
            "_model_module_version": "1.5.0",
            "value": " 26422272/? [00:01&lt;00:00, 22268500.27it/s]",
            "_view_count": null,
            "_view_module_version": "1.5.0",
            "description_tooltip": null,
            "_model_module": "@jupyter-widgets/controls",
            "layout": "IPY_MODEL_4017fdd2af9d4ce996ed1694f28575eb"
          }
        },
        "1d843eabff554640b660aef136555cde": {
          "model_module": "@jupyter-widgets/controls",
          "model_name": "DescriptionStyleModel",
          "model_module_version": "1.5.0",
          "state": {
            "_view_name": "StyleView",
            "_model_name": "DescriptionStyleModel",
            "description_width": "",
            "_view_module": "@jupyter-widgets/base",
            "_model_module_version": "1.5.0",
            "_view_count": null,
            "_view_module_version": "1.2.0",
            "_model_module": "@jupyter-widgets/controls"
          }
        },
        "364f9ccd7ba344619ad60a603e9275db": {
          "model_module": "@jupyter-widgets/base",
          "model_name": "LayoutModel",
          "model_module_version": "1.2.0",
          "state": {
            "_view_name": "LayoutView",
            "grid_template_rows": null,
            "right": null,
            "justify_content": null,
            "_view_module": "@jupyter-widgets/base",
            "overflow": null,
            "_model_module_version": "1.2.0",
            "_view_count": null,
            "flex_flow": null,
            "width": null,
            "min_width": null,
            "border": null,
            "align_items": null,
            "bottom": null,
            "_model_module": "@jupyter-widgets/base",
            "top": null,
            "grid_column": null,
            "overflow_y": null,
            "overflow_x": null,
            "grid_auto_flow": null,
            "grid_area": null,
            "grid_template_columns": null,
            "flex": null,
            "_model_name": "LayoutModel",
            "justify_items": null,
            "grid_row": null,
            "max_height": null,
            "align_content": null,
            "visibility": null,
            "align_self": null,
            "height": null,
            "min_height": null,
            "padding": null,
            "grid_auto_rows": null,
            "grid_gap": null,
            "max_width": null,
            "order": null,
            "_view_module_version": "1.2.0",
            "grid_template_areas": null,
            "object_position": null,
            "object_fit": null,
            "grid_auto_columns": null,
            "margin": null,
            "display": null,
            "left": null
          }
        },
        "df7c79591495415ca3dc3d0e8f0969c9": {
          "model_module": "@jupyter-widgets/controls",
          "model_name": "ProgressStyleModel",
          "model_module_version": "1.5.0",
          "state": {
            "_view_name": "StyleView",
            "_model_name": "ProgressStyleModel",
            "description_width": "",
            "_view_module": "@jupyter-widgets/base",
            "_model_module_version": "1.5.0",
            "_view_count": null,
            "_view_module_version": "1.2.0",
            "bar_color": null,
            "_model_module": "@jupyter-widgets/controls"
          }
        },
        "17f34f39442e4ce3a679f514f137ba14": {
          "model_module": "@jupyter-widgets/base",
          "model_name": "LayoutModel",
          "model_module_version": "1.2.0",
          "state": {
            "_view_name": "LayoutView",
            "grid_template_rows": null,
            "right": null,
            "justify_content": null,
            "_view_module": "@jupyter-widgets/base",
            "overflow": null,
            "_model_module_version": "1.2.0",
            "_view_count": null,
            "flex_flow": null,
            "width": null,
            "min_width": null,
            "border": null,
            "align_items": null,
            "bottom": null,
            "_model_module": "@jupyter-widgets/base",
            "top": null,
            "grid_column": null,
            "overflow_y": null,
            "overflow_x": null,
            "grid_auto_flow": null,
            "grid_area": null,
            "grid_template_columns": null,
            "flex": null,
            "_model_name": "LayoutModel",
            "justify_items": null,
            "grid_row": null,
            "max_height": null,
            "align_content": null,
            "visibility": null,
            "align_self": null,
            "height": null,
            "min_height": null,
            "padding": null,
            "grid_auto_rows": null,
            "grid_gap": null,
            "max_width": null,
            "order": null,
            "_view_module_version": "1.2.0",
            "grid_template_areas": null,
            "object_position": null,
            "object_fit": null,
            "grid_auto_columns": null,
            "margin": null,
            "display": null,
            "left": null
          }
        },
        "d00d9f97bf744281876402d0ebfc971c": {
          "model_module": "@jupyter-widgets/controls",
          "model_name": "DescriptionStyleModel",
          "model_module_version": "1.5.0",
          "state": {
            "_view_name": "StyleView",
            "_model_name": "DescriptionStyleModel",
            "description_width": "",
            "_view_module": "@jupyter-widgets/base",
            "_model_module_version": "1.5.0",
            "_view_count": null,
            "_view_module_version": "1.2.0",
            "_model_module": "@jupyter-widgets/controls"
          }
        },
        "4017fdd2af9d4ce996ed1694f28575eb": {
          "model_module": "@jupyter-widgets/base",
          "model_name": "LayoutModel",
          "model_module_version": "1.2.0",
          "state": {
            "_view_name": "LayoutView",
            "grid_template_rows": null,
            "right": null,
            "justify_content": null,
            "_view_module": "@jupyter-widgets/base",
            "overflow": null,
            "_model_module_version": "1.2.0",
            "_view_count": null,
            "flex_flow": null,
            "width": null,
            "min_width": null,
            "border": null,
            "align_items": null,
            "bottom": null,
            "_model_module": "@jupyter-widgets/base",
            "top": null,
            "grid_column": null,
            "overflow_y": null,
            "overflow_x": null,
            "grid_auto_flow": null,
            "grid_area": null,
            "grid_template_columns": null,
            "flex": null,
            "_model_name": "LayoutModel",
            "justify_items": null,
            "grid_row": null,
            "max_height": null,
            "align_content": null,
            "visibility": null,
            "align_self": null,
            "height": null,
            "min_height": null,
            "padding": null,
            "grid_auto_rows": null,
            "grid_gap": null,
            "max_width": null,
            "order": null,
            "_view_module_version": "1.2.0",
            "grid_template_areas": null,
            "object_position": null,
            "object_fit": null,
            "grid_auto_columns": null,
            "margin": null,
            "display": null,
            "left": null
          }
        },
        "d5b8b8005d414c76a5a3a6b98ebfb37b": {
          "model_module": "@jupyter-widgets/controls",
          "model_name": "HBoxModel",
          "model_module_version": "1.5.0",
          "state": {
            "_view_name": "HBoxView",
            "_dom_classes": [],
            "_model_name": "HBoxModel",
            "_view_module": "@jupyter-widgets/controls",
            "_model_module_version": "1.5.0",
            "_view_count": null,
            "_view_module_version": "1.5.0",
            "box_style": "",
            "layout": "IPY_MODEL_949d40638bfa425997ae1a226f6c63a4",
            "_model_module": "@jupyter-widgets/controls",
            "children": [
              "IPY_MODEL_4d44158f14414494b7516f71e363b155",
              "IPY_MODEL_9ecdc5adee9f43d9bafb1f04c1936e94",
              "IPY_MODEL_99160fe67e4e42adb3ba3157d0348679"
            ]
          }
        },
        "949d40638bfa425997ae1a226f6c63a4": {
          "model_module": "@jupyter-widgets/base",
          "model_name": "LayoutModel",
          "model_module_version": "1.2.0",
          "state": {
            "_view_name": "LayoutView",
            "grid_template_rows": null,
            "right": null,
            "justify_content": null,
            "_view_module": "@jupyter-widgets/base",
            "overflow": null,
            "_model_module_version": "1.2.0",
            "_view_count": null,
            "flex_flow": null,
            "width": null,
            "min_width": null,
            "border": null,
            "align_items": null,
            "bottom": null,
            "_model_module": "@jupyter-widgets/base",
            "top": null,
            "grid_column": null,
            "overflow_y": null,
            "overflow_x": null,
            "grid_auto_flow": null,
            "grid_area": null,
            "grid_template_columns": null,
            "flex": null,
            "_model_name": "LayoutModel",
            "justify_items": null,
            "grid_row": null,
            "max_height": null,
            "align_content": null,
            "visibility": null,
            "align_self": null,
            "height": null,
            "min_height": null,
            "padding": null,
            "grid_auto_rows": null,
            "grid_gap": null,
            "max_width": null,
            "order": null,
            "_view_module_version": "1.2.0",
            "grid_template_areas": null,
            "object_position": null,
            "object_fit": null,
            "grid_auto_columns": null,
            "margin": null,
            "display": null,
            "left": null
          }
        },
        "4d44158f14414494b7516f71e363b155": {
          "model_module": "@jupyter-widgets/controls",
          "model_name": "HTMLModel",
          "model_module_version": "1.5.0",
          "state": {
            "_view_name": "HTMLView",
            "style": "IPY_MODEL_04de0abb1ffa428ba16fe1bce2aa45b0",
            "_dom_classes": [],
            "description": "",
            "_model_name": "HTMLModel",
            "placeholder": "​",
            "_view_module": "@jupyter-widgets/controls",
            "_model_module_version": "1.5.0",
            "value": "",
            "_view_count": null,
            "_view_module_version": "1.5.0",
            "description_tooltip": null,
            "_model_module": "@jupyter-widgets/controls",
            "layout": "IPY_MODEL_2bb4b7157fe34029be485808bcb9b234"
          }
        },
        "9ecdc5adee9f43d9bafb1f04c1936e94": {
          "model_module": "@jupyter-widgets/controls",
          "model_name": "FloatProgressModel",
          "model_module_version": "1.5.0",
          "state": {
            "_view_name": "ProgressView",
            "style": "IPY_MODEL_2c5761ba502e4c7d9ba9b9d36b2acf8b",
            "_dom_classes": [],
            "description": "",
            "_model_name": "FloatProgressModel",
            "bar_style": "success",
            "max": 29515,
            "_view_module": "@jupyter-widgets/controls",
            "_model_module_version": "1.5.0",
            "value": 29515,
            "_view_count": null,
            "_view_module_version": "1.5.0",
            "orientation": "horizontal",
            "min": 0,
            "description_tooltip": null,
            "_model_module": "@jupyter-widgets/controls",
            "layout": "IPY_MODEL_81b9d04292ac42e8986babf82cff28dd"
          }
        },
        "99160fe67e4e42adb3ba3157d0348679": {
          "model_module": "@jupyter-widgets/controls",
          "model_name": "HTMLModel",
          "model_module_version": "1.5.0",
          "state": {
            "_view_name": "HTMLView",
            "style": "IPY_MODEL_4c1faefd5a1545cbb5414ed3ea4474dc",
            "_dom_classes": [],
            "description": "",
            "_model_name": "HTMLModel",
            "placeholder": "​",
            "_view_module": "@jupyter-widgets/controls",
            "_model_module_version": "1.5.0",
            "value": " 29696/? [00:00&lt;00:00, 7373.03it/s]",
            "_view_count": null,
            "_view_module_version": "1.5.0",
            "description_tooltip": null,
            "_model_module": "@jupyter-widgets/controls",
            "layout": "IPY_MODEL_ad4a2b64a05a477ba4fa196c1305ae6f"
          }
        },
        "04de0abb1ffa428ba16fe1bce2aa45b0": {
          "model_module": "@jupyter-widgets/controls",
          "model_name": "DescriptionStyleModel",
          "model_module_version": "1.5.0",
          "state": {
            "_view_name": "StyleView",
            "_model_name": "DescriptionStyleModel",
            "description_width": "",
            "_view_module": "@jupyter-widgets/base",
            "_model_module_version": "1.5.0",
            "_view_count": null,
            "_view_module_version": "1.2.0",
            "_model_module": "@jupyter-widgets/controls"
          }
        },
        "2bb4b7157fe34029be485808bcb9b234": {
          "model_module": "@jupyter-widgets/base",
          "model_name": "LayoutModel",
          "model_module_version": "1.2.0",
          "state": {
            "_view_name": "LayoutView",
            "grid_template_rows": null,
            "right": null,
            "justify_content": null,
            "_view_module": "@jupyter-widgets/base",
            "overflow": null,
            "_model_module_version": "1.2.0",
            "_view_count": null,
            "flex_flow": null,
            "width": null,
            "min_width": null,
            "border": null,
            "align_items": null,
            "bottom": null,
            "_model_module": "@jupyter-widgets/base",
            "top": null,
            "grid_column": null,
            "overflow_y": null,
            "overflow_x": null,
            "grid_auto_flow": null,
            "grid_area": null,
            "grid_template_columns": null,
            "flex": null,
            "_model_name": "LayoutModel",
            "justify_items": null,
            "grid_row": null,
            "max_height": null,
            "align_content": null,
            "visibility": null,
            "align_self": null,
            "height": null,
            "min_height": null,
            "padding": null,
            "grid_auto_rows": null,
            "grid_gap": null,
            "max_width": null,
            "order": null,
            "_view_module_version": "1.2.0",
            "grid_template_areas": null,
            "object_position": null,
            "object_fit": null,
            "grid_auto_columns": null,
            "margin": null,
            "display": null,
            "left": null
          }
        },
        "2c5761ba502e4c7d9ba9b9d36b2acf8b": {
          "model_module": "@jupyter-widgets/controls",
          "model_name": "ProgressStyleModel",
          "model_module_version": "1.5.0",
          "state": {
            "_view_name": "StyleView",
            "_model_name": "ProgressStyleModel",
            "description_width": "",
            "_view_module": "@jupyter-widgets/base",
            "_model_module_version": "1.5.0",
            "_view_count": null,
            "_view_module_version": "1.2.0",
            "bar_color": null,
            "_model_module": "@jupyter-widgets/controls"
          }
        },
        "81b9d04292ac42e8986babf82cff28dd": {
          "model_module": "@jupyter-widgets/base",
          "model_name": "LayoutModel",
          "model_module_version": "1.2.0",
          "state": {
            "_view_name": "LayoutView",
            "grid_template_rows": null,
            "right": null,
            "justify_content": null,
            "_view_module": "@jupyter-widgets/base",
            "overflow": null,
            "_model_module_version": "1.2.0",
            "_view_count": null,
            "flex_flow": null,
            "width": null,
            "min_width": null,
            "border": null,
            "align_items": null,
            "bottom": null,
            "_model_module": "@jupyter-widgets/base",
            "top": null,
            "grid_column": null,
            "overflow_y": null,
            "overflow_x": null,
            "grid_auto_flow": null,
            "grid_area": null,
            "grid_template_columns": null,
            "flex": null,
            "_model_name": "LayoutModel",
            "justify_items": null,
            "grid_row": null,
            "max_height": null,
            "align_content": null,
            "visibility": null,
            "align_self": null,
            "height": null,
            "min_height": null,
            "padding": null,
            "grid_auto_rows": null,
            "grid_gap": null,
            "max_width": null,
            "order": null,
            "_view_module_version": "1.2.0",
            "grid_template_areas": null,
            "object_position": null,
            "object_fit": null,
            "grid_auto_columns": null,
            "margin": null,
            "display": null,
            "left": null
          }
        },
        "4c1faefd5a1545cbb5414ed3ea4474dc": {
          "model_module": "@jupyter-widgets/controls",
          "model_name": "DescriptionStyleModel",
          "model_module_version": "1.5.0",
          "state": {
            "_view_name": "StyleView",
            "_model_name": "DescriptionStyleModel",
            "description_width": "",
            "_view_module": "@jupyter-widgets/base",
            "_model_module_version": "1.5.0",
            "_view_count": null,
            "_view_module_version": "1.2.0",
            "_model_module": "@jupyter-widgets/controls"
          }
        },
        "ad4a2b64a05a477ba4fa196c1305ae6f": {
          "model_module": "@jupyter-widgets/base",
          "model_name": "LayoutModel",
          "model_module_version": "1.2.0",
          "state": {
            "_view_name": "LayoutView",
            "grid_template_rows": null,
            "right": null,
            "justify_content": null,
            "_view_module": "@jupyter-widgets/base",
            "overflow": null,
            "_model_module_version": "1.2.0",
            "_view_count": null,
            "flex_flow": null,
            "width": null,
            "min_width": null,
            "border": null,
            "align_items": null,
            "bottom": null,
            "_model_module": "@jupyter-widgets/base",
            "top": null,
            "grid_column": null,
            "overflow_y": null,
            "overflow_x": null,
            "grid_auto_flow": null,
            "grid_area": null,
            "grid_template_columns": null,
            "flex": null,
            "_model_name": "LayoutModel",
            "justify_items": null,
            "grid_row": null,
            "max_height": null,
            "align_content": null,
            "visibility": null,
            "align_self": null,
            "height": null,
            "min_height": null,
            "padding": null,
            "grid_auto_rows": null,
            "grid_gap": null,
            "max_width": null,
            "order": null,
            "_view_module_version": "1.2.0",
            "grid_template_areas": null,
            "object_position": null,
            "object_fit": null,
            "grid_auto_columns": null,
            "margin": null,
            "display": null,
            "left": null
          }
        },
        "50ba831aa677421bb9db775597605b49": {
          "model_module": "@jupyter-widgets/controls",
          "model_name": "HBoxModel",
          "model_module_version": "1.5.0",
          "state": {
            "_view_name": "HBoxView",
            "_dom_classes": [],
            "_model_name": "HBoxModel",
            "_view_module": "@jupyter-widgets/controls",
            "_model_module_version": "1.5.0",
            "_view_count": null,
            "_view_module_version": "1.5.0",
            "box_style": "",
            "layout": "IPY_MODEL_467a2bb7642949f2a504921b23be393e",
            "_model_module": "@jupyter-widgets/controls",
            "children": [
              "IPY_MODEL_d4c215320b824006948a4bcd5f4f07fa",
              "IPY_MODEL_35b3e9b9107047559ec1fdc7aee3e320",
              "IPY_MODEL_c5789112583142988631f83ea2415104"
            ]
          }
        },
        "467a2bb7642949f2a504921b23be393e": {
          "model_module": "@jupyter-widgets/base",
          "model_name": "LayoutModel",
          "model_module_version": "1.2.0",
          "state": {
            "_view_name": "LayoutView",
            "grid_template_rows": null,
            "right": null,
            "justify_content": null,
            "_view_module": "@jupyter-widgets/base",
            "overflow": null,
            "_model_module_version": "1.2.0",
            "_view_count": null,
            "flex_flow": null,
            "width": null,
            "min_width": null,
            "border": null,
            "align_items": null,
            "bottom": null,
            "_model_module": "@jupyter-widgets/base",
            "top": null,
            "grid_column": null,
            "overflow_y": null,
            "overflow_x": null,
            "grid_auto_flow": null,
            "grid_area": null,
            "grid_template_columns": null,
            "flex": null,
            "_model_name": "LayoutModel",
            "justify_items": null,
            "grid_row": null,
            "max_height": null,
            "align_content": null,
            "visibility": null,
            "align_self": null,
            "height": null,
            "min_height": null,
            "padding": null,
            "grid_auto_rows": null,
            "grid_gap": null,
            "max_width": null,
            "order": null,
            "_view_module_version": "1.2.0",
            "grid_template_areas": null,
            "object_position": null,
            "object_fit": null,
            "grid_auto_columns": null,
            "margin": null,
            "display": null,
            "left": null
          }
        },
        "d4c215320b824006948a4bcd5f4f07fa": {
          "model_module": "@jupyter-widgets/controls",
          "model_name": "HTMLModel",
          "model_module_version": "1.5.0",
          "state": {
            "_view_name": "HTMLView",
            "style": "IPY_MODEL_c18e0a4959114144863910c8fb663dcb",
            "_dom_classes": [],
            "description": "",
            "_model_name": "HTMLModel",
            "placeholder": "​",
            "_view_module": "@jupyter-widgets/controls",
            "_model_module_version": "1.5.0",
            "value": "",
            "_view_count": null,
            "_view_module_version": "1.5.0",
            "description_tooltip": null,
            "_model_module": "@jupyter-widgets/controls",
            "layout": "IPY_MODEL_156e99e66a034a21b9b7af2679f449cb"
          }
        },
        "35b3e9b9107047559ec1fdc7aee3e320": {
          "model_module": "@jupyter-widgets/controls",
          "model_name": "FloatProgressModel",
          "model_module_version": "1.5.0",
          "state": {
            "_view_name": "ProgressView",
            "style": "IPY_MODEL_734de6e1fd7f4bd29fa1e2b7e0b5d994",
            "_dom_classes": [],
            "description": "",
            "_model_name": "FloatProgressModel",
            "bar_style": "success",
            "max": 4422102,
            "_view_module": "@jupyter-widgets/controls",
            "_model_module_version": "1.5.0",
            "value": 4422102,
            "_view_count": null,
            "_view_module_version": "1.5.0",
            "orientation": "horizontal",
            "min": 0,
            "description_tooltip": null,
            "_model_module": "@jupyter-widgets/controls",
            "layout": "IPY_MODEL_fea8636eb8cf4b0db2860c496ca0ba09"
          }
        },
        "c5789112583142988631f83ea2415104": {
          "model_module": "@jupyter-widgets/controls",
          "model_name": "HTMLModel",
          "model_module_version": "1.5.0",
          "state": {
            "_view_name": "HTMLView",
            "style": "IPY_MODEL_23c4ab230d17415bae1248210e3c7220",
            "_dom_classes": [],
            "description": "",
            "_model_name": "HTMLModel",
            "placeholder": "​",
            "_view_module": "@jupyter-widgets/controls",
            "_model_module_version": "1.5.0",
            "value": " 4422656/? [00:00&lt;00:00, 7767054.49it/s]",
            "_view_count": null,
            "_view_module_version": "1.5.0",
            "description_tooltip": null,
            "_model_module": "@jupyter-widgets/controls",
            "layout": "IPY_MODEL_c95860f9a8c8494dab911081fc122a02"
          }
        },
        "c18e0a4959114144863910c8fb663dcb": {
          "model_module": "@jupyter-widgets/controls",
          "model_name": "DescriptionStyleModel",
          "model_module_version": "1.5.0",
          "state": {
            "_view_name": "StyleView",
            "_model_name": "DescriptionStyleModel",
            "description_width": "",
            "_view_module": "@jupyter-widgets/base",
            "_model_module_version": "1.5.0",
            "_view_count": null,
            "_view_module_version": "1.2.0",
            "_model_module": "@jupyter-widgets/controls"
          }
        },
        "156e99e66a034a21b9b7af2679f449cb": {
          "model_module": "@jupyter-widgets/base",
          "model_name": "LayoutModel",
          "model_module_version": "1.2.0",
          "state": {
            "_view_name": "LayoutView",
            "grid_template_rows": null,
            "right": null,
            "justify_content": null,
            "_view_module": "@jupyter-widgets/base",
            "overflow": null,
            "_model_module_version": "1.2.0",
            "_view_count": null,
            "flex_flow": null,
            "width": null,
            "min_width": null,
            "border": null,
            "align_items": null,
            "bottom": null,
            "_model_module": "@jupyter-widgets/base",
            "top": null,
            "grid_column": null,
            "overflow_y": null,
            "overflow_x": null,
            "grid_auto_flow": null,
            "grid_area": null,
            "grid_template_columns": null,
            "flex": null,
            "_model_name": "LayoutModel",
            "justify_items": null,
            "grid_row": null,
            "max_height": null,
            "align_content": null,
            "visibility": null,
            "align_self": null,
            "height": null,
            "min_height": null,
            "padding": null,
            "grid_auto_rows": null,
            "grid_gap": null,
            "max_width": null,
            "order": null,
            "_view_module_version": "1.2.0",
            "grid_template_areas": null,
            "object_position": null,
            "object_fit": null,
            "grid_auto_columns": null,
            "margin": null,
            "display": null,
            "left": null
          }
        },
        "734de6e1fd7f4bd29fa1e2b7e0b5d994": {
          "model_module": "@jupyter-widgets/controls",
          "model_name": "ProgressStyleModel",
          "model_module_version": "1.5.0",
          "state": {
            "_view_name": "StyleView",
            "_model_name": "ProgressStyleModel",
            "description_width": "",
            "_view_module": "@jupyter-widgets/base",
            "_model_module_version": "1.5.0",
            "_view_count": null,
            "_view_module_version": "1.2.0",
            "bar_color": null,
            "_model_module": "@jupyter-widgets/controls"
          }
        },
        "fea8636eb8cf4b0db2860c496ca0ba09": {
          "model_module": "@jupyter-widgets/base",
          "model_name": "LayoutModel",
          "model_module_version": "1.2.0",
          "state": {
            "_view_name": "LayoutView",
            "grid_template_rows": null,
            "right": null,
            "justify_content": null,
            "_view_module": "@jupyter-widgets/base",
            "overflow": null,
            "_model_module_version": "1.2.0",
            "_view_count": null,
            "flex_flow": null,
            "width": null,
            "min_width": null,
            "border": null,
            "align_items": null,
            "bottom": null,
            "_model_module": "@jupyter-widgets/base",
            "top": null,
            "grid_column": null,
            "overflow_y": null,
            "overflow_x": null,
            "grid_auto_flow": null,
            "grid_area": null,
            "grid_template_columns": null,
            "flex": null,
            "_model_name": "LayoutModel",
            "justify_items": null,
            "grid_row": null,
            "max_height": null,
            "align_content": null,
            "visibility": null,
            "align_self": null,
            "height": null,
            "min_height": null,
            "padding": null,
            "grid_auto_rows": null,
            "grid_gap": null,
            "max_width": null,
            "order": null,
            "_view_module_version": "1.2.0",
            "grid_template_areas": null,
            "object_position": null,
            "object_fit": null,
            "grid_auto_columns": null,
            "margin": null,
            "display": null,
            "left": null
          }
        },
        "23c4ab230d17415bae1248210e3c7220": {
          "model_module": "@jupyter-widgets/controls",
          "model_name": "DescriptionStyleModel",
          "model_module_version": "1.5.0",
          "state": {
            "_view_name": "StyleView",
            "_model_name": "DescriptionStyleModel",
            "description_width": "",
            "_view_module": "@jupyter-widgets/base",
            "_model_module_version": "1.5.0",
            "_view_count": null,
            "_view_module_version": "1.2.0",
            "_model_module": "@jupyter-widgets/controls"
          }
        },
        "c95860f9a8c8494dab911081fc122a02": {
          "model_module": "@jupyter-widgets/base",
          "model_name": "LayoutModel",
          "model_module_version": "1.2.0",
          "state": {
            "_view_name": "LayoutView",
            "grid_template_rows": null,
            "right": null,
            "justify_content": null,
            "_view_module": "@jupyter-widgets/base",
            "overflow": null,
            "_model_module_version": "1.2.0",
            "_view_count": null,
            "flex_flow": null,
            "width": null,
            "min_width": null,
            "border": null,
            "align_items": null,
            "bottom": null,
            "_model_module": "@jupyter-widgets/base",
            "top": null,
            "grid_column": null,
            "overflow_y": null,
            "overflow_x": null,
            "grid_auto_flow": null,
            "grid_area": null,
            "grid_template_columns": null,
            "flex": null,
            "_model_name": "LayoutModel",
            "justify_items": null,
            "grid_row": null,
            "max_height": null,
            "align_content": null,
            "visibility": null,
            "align_self": null,
            "height": null,
            "min_height": null,
            "padding": null,
            "grid_auto_rows": null,
            "grid_gap": null,
            "max_width": null,
            "order": null,
            "_view_module_version": "1.2.0",
            "grid_template_areas": null,
            "object_position": null,
            "object_fit": null,
            "grid_auto_columns": null,
            "margin": null,
            "display": null,
            "left": null
          }
        },
        "232b42f26a0842c99cc27bfbf7fd0241": {
          "model_module": "@jupyter-widgets/controls",
          "model_name": "HBoxModel",
          "model_module_version": "1.5.0",
          "state": {
            "_view_name": "HBoxView",
            "_dom_classes": [],
            "_model_name": "HBoxModel",
            "_view_module": "@jupyter-widgets/controls",
            "_model_module_version": "1.5.0",
            "_view_count": null,
            "_view_module_version": "1.5.0",
            "box_style": "",
            "layout": "IPY_MODEL_5f0c8be12de9452095ef9660c598fd17",
            "_model_module": "@jupyter-widgets/controls",
            "children": [
              "IPY_MODEL_1fdb973ea1a5468fb514216585a85999",
              "IPY_MODEL_94b3041073094d5c98bf95f65739c705",
              "IPY_MODEL_dd069896be274c8db69eb786f0e39544"
            ]
          }
        },
        "5f0c8be12de9452095ef9660c598fd17": {
          "model_module": "@jupyter-widgets/base",
          "model_name": "LayoutModel",
          "model_module_version": "1.2.0",
          "state": {
            "_view_name": "LayoutView",
            "grid_template_rows": null,
            "right": null,
            "justify_content": null,
            "_view_module": "@jupyter-widgets/base",
            "overflow": null,
            "_model_module_version": "1.2.0",
            "_view_count": null,
            "flex_flow": null,
            "width": null,
            "min_width": null,
            "border": null,
            "align_items": null,
            "bottom": null,
            "_model_module": "@jupyter-widgets/base",
            "top": null,
            "grid_column": null,
            "overflow_y": null,
            "overflow_x": null,
            "grid_auto_flow": null,
            "grid_area": null,
            "grid_template_columns": null,
            "flex": null,
            "_model_name": "LayoutModel",
            "justify_items": null,
            "grid_row": null,
            "max_height": null,
            "align_content": null,
            "visibility": null,
            "align_self": null,
            "height": null,
            "min_height": null,
            "padding": null,
            "grid_auto_rows": null,
            "grid_gap": null,
            "max_width": null,
            "order": null,
            "_view_module_version": "1.2.0",
            "grid_template_areas": null,
            "object_position": null,
            "object_fit": null,
            "grid_auto_columns": null,
            "margin": null,
            "display": null,
            "left": null
          }
        },
        "1fdb973ea1a5468fb514216585a85999": {
          "model_module": "@jupyter-widgets/controls",
          "model_name": "HTMLModel",
          "model_module_version": "1.5.0",
          "state": {
            "_view_name": "HTMLView",
            "style": "IPY_MODEL_7c075fa59cb34fd5a122d138fb7b6c35",
            "_dom_classes": [],
            "description": "",
            "_model_name": "HTMLModel",
            "placeholder": "​",
            "_view_module": "@jupyter-widgets/controls",
            "_model_module_version": "1.5.0",
            "value": "",
            "_view_count": null,
            "_view_module_version": "1.5.0",
            "description_tooltip": null,
            "_model_module": "@jupyter-widgets/controls",
            "layout": "IPY_MODEL_84d04fcf4bb04fde9693e58e89e64d0a"
          }
        },
        "94b3041073094d5c98bf95f65739c705": {
          "model_module": "@jupyter-widgets/controls",
          "model_name": "FloatProgressModel",
          "model_module_version": "1.5.0",
          "state": {
            "_view_name": "ProgressView",
            "style": "IPY_MODEL_ba85c3b645984a8784eee20cbd0b275f",
            "_dom_classes": [],
            "description": "",
            "_model_name": "FloatProgressModel",
            "bar_style": "success",
            "max": 5148,
            "_view_module": "@jupyter-widgets/controls",
            "_model_module_version": "1.5.0",
            "value": 5148,
            "_view_count": null,
            "_view_module_version": "1.5.0",
            "orientation": "horizontal",
            "min": 0,
            "description_tooltip": null,
            "_model_module": "@jupyter-widgets/controls",
            "layout": "IPY_MODEL_e1729a0d87db4efcac8e54c07521d627"
          }
        },
        "dd069896be274c8db69eb786f0e39544": {
          "model_module": "@jupyter-widgets/controls",
          "model_name": "HTMLModel",
          "model_module_version": "1.5.0",
          "state": {
            "_view_name": "HTMLView",
            "style": "IPY_MODEL_af9504ccdbed49588fe11699e597d5a4",
            "_dom_classes": [],
            "description": "",
            "_model_name": "HTMLModel",
            "placeholder": "​",
            "_view_module": "@jupyter-widgets/controls",
            "_model_module_version": "1.5.0",
            "value": " 6144/? [00:00&lt;00:00, 119898.59it/s]",
            "_view_count": null,
            "_view_module_version": "1.5.0",
            "description_tooltip": null,
            "_model_module": "@jupyter-widgets/controls",
            "layout": "IPY_MODEL_781c150e061e49658c766b1d106802ed"
          }
        },
        "7c075fa59cb34fd5a122d138fb7b6c35": {
          "model_module": "@jupyter-widgets/controls",
          "model_name": "DescriptionStyleModel",
          "model_module_version": "1.5.0",
          "state": {
            "_view_name": "StyleView",
            "_model_name": "DescriptionStyleModel",
            "description_width": "",
            "_view_module": "@jupyter-widgets/base",
            "_model_module_version": "1.5.0",
            "_view_count": null,
            "_view_module_version": "1.2.0",
            "_model_module": "@jupyter-widgets/controls"
          }
        },
        "84d04fcf4bb04fde9693e58e89e64d0a": {
          "model_module": "@jupyter-widgets/base",
          "model_name": "LayoutModel",
          "model_module_version": "1.2.0",
          "state": {
            "_view_name": "LayoutView",
            "grid_template_rows": null,
            "right": null,
            "justify_content": null,
            "_view_module": "@jupyter-widgets/base",
            "overflow": null,
            "_model_module_version": "1.2.0",
            "_view_count": null,
            "flex_flow": null,
            "width": null,
            "min_width": null,
            "border": null,
            "align_items": null,
            "bottom": null,
            "_model_module": "@jupyter-widgets/base",
            "top": null,
            "grid_column": null,
            "overflow_y": null,
            "overflow_x": null,
            "grid_auto_flow": null,
            "grid_area": null,
            "grid_template_columns": null,
            "flex": null,
            "_model_name": "LayoutModel",
            "justify_items": null,
            "grid_row": null,
            "max_height": null,
            "align_content": null,
            "visibility": null,
            "align_self": null,
            "height": null,
            "min_height": null,
            "padding": null,
            "grid_auto_rows": null,
            "grid_gap": null,
            "max_width": null,
            "order": null,
            "_view_module_version": "1.2.0",
            "grid_template_areas": null,
            "object_position": null,
            "object_fit": null,
            "grid_auto_columns": null,
            "margin": null,
            "display": null,
            "left": null
          }
        },
        "ba85c3b645984a8784eee20cbd0b275f": {
          "model_module": "@jupyter-widgets/controls",
          "model_name": "ProgressStyleModel",
          "model_module_version": "1.5.0",
          "state": {
            "_view_name": "StyleView",
            "_model_name": "ProgressStyleModel",
            "description_width": "",
            "_view_module": "@jupyter-widgets/base",
            "_model_module_version": "1.5.0",
            "_view_count": null,
            "_view_module_version": "1.2.0",
            "bar_color": null,
            "_model_module": "@jupyter-widgets/controls"
          }
        },
        "e1729a0d87db4efcac8e54c07521d627": {
          "model_module": "@jupyter-widgets/base",
          "model_name": "LayoutModel",
          "model_module_version": "1.2.0",
          "state": {
            "_view_name": "LayoutView",
            "grid_template_rows": null,
            "right": null,
            "justify_content": null,
            "_view_module": "@jupyter-widgets/base",
            "overflow": null,
            "_model_module_version": "1.2.0",
            "_view_count": null,
            "flex_flow": null,
            "width": null,
            "min_width": null,
            "border": null,
            "align_items": null,
            "bottom": null,
            "_model_module": "@jupyter-widgets/base",
            "top": null,
            "grid_column": null,
            "overflow_y": null,
            "overflow_x": null,
            "grid_auto_flow": null,
            "grid_area": null,
            "grid_template_columns": null,
            "flex": null,
            "_model_name": "LayoutModel",
            "justify_items": null,
            "grid_row": null,
            "max_height": null,
            "align_content": null,
            "visibility": null,
            "align_self": null,
            "height": null,
            "min_height": null,
            "padding": null,
            "grid_auto_rows": null,
            "grid_gap": null,
            "max_width": null,
            "order": null,
            "_view_module_version": "1.2.0",
            "grid_template_areas": null,
            "object_position": null,
            "object_fit": null,
            "grid_auto_columns": null,
            "margin": null,
            "display": null,
            "left": null
          }
        },
        "af9504ccdbed49588fe11699e597d5a4": {
          "model_module": "@jupyter-widgets/controls",
          "model_name": "DescriptionStyleModel",
          "model_module_version": "1.5.0",
          "state": {
            "_view_name": "StyleView",
            "_model_name": "DescriptionStyleModel",
            "description_width": "",
            "_view_module": "@jupyter-widgets/base",
            "_model_module_version": "1.5.0",
            "_view_count": null,
            "_view_module_version": "1.2.0",
            "_model_module": "@jupyter-widgets/controls"
          }
        },
        "781c150e061e49658c766b1d106802ed": {
          "model_module": "@jupyter-widgets/base",
          "model_name": "LayoutModel",
          "model_module_version": "1.2.0",
          "state": {
            "_view_name": "LayoutView",
            "grid_template_rows": null,
            "right": null,
            "justify_content": null,
            "_view_module": "@jupyter-widgets/base",
            "overflow": null,
            "_model_module_version": "1.2.0",
            "_view_count": null,
            "flex_flow": null,
            "width": null,
            "min_width": null,
            "border": null,
            "align_items": null,
            "bottom": null,
            "_model_module": "@jupyter-widgets/base",
            "top": null,
            "grid_column": null,
            "overflow_y": null,
            "overflow_x": null,
            "grid_auto_flow": null,
            "grid_area": null,
            "grid_template_columns": null,
            "flex": null,
            "_model_name": "LayoutModel",
            "justify_items": null,
            "grid_row": null,
            "max_height": null,
            "align_content": null,
            "visibility": null,
            "align_self": null,
            "height": null,
            "min_height": null,
            "padding": null,
            "grid_auto_rows": null,
            "grid_gap": null,
            "max_width": null,
            "order": null,
            "_view_module_version": "1.2.0",
            "grid_template_areas": null,
            "object_position": null,
            "object_fit": null,
            "grid_auto_columns": null,
            "margin": null,
            "display": null,
            "left": null
          }
        }
      }
    }
  },
  "cells": [
    {
      "cell_type": "markdown",
      "metadata": {
        "id": "view-in-github",
        "colab_type": "text"
      },
      "source": [
        "<a href=\"https://colab.research.google.com/github/MANISH007700/PyTorch_Lightning_Learning/blob/master/Tutorial_2_Intro_to_Activation_Function.ipynb\" target=\"_parent\"><img src=\"https://colab.research.google.com/assets/colab-badge.svg\" alt=\"Open In Colab\"/></a>"
      ]
    },
    {
      "cell_type": "code",
      "execution_count": 1,
      "metadata": {
        "id": "AdRJxRlnq1EI"
      },
      "outputs": [],
      "source": [
        ""
      ]
    },
    {
      "cell_type": "markdown",
      "source": [
        "## Install dependencies and packages"
      ],
      "metadata": {
        "id": "XE_cMYzArRdv"
      }
    },
    {
      "cell_type": "code",
      "source": [
        "# ! pip install --quiet \"torchmetrics>=0.3\" \"torch>=1.6, <1.9\" \"pytorch-lightning>=1.3\" \"torchvision\" \"seaborn\" \"matplotlib\""
      ],
      "metadata": {
        "id": "b-1uwaN7rUn6"
      },
      "execution_count": 2,
      "outputs": []
    },
    {
      "cell_type": "markdown",
      "source": [
        "## Import libs and pkges"
      ],
      "metadata": {
        "id": "tRmcS6Cmrgqd"
      }
    },
    {
      "cell_type": "code",
      "source": [
        "import os\n",
        "import json\n",
        "import math \n",
        "import urllib.request \n",
        "from urllib.error import HTTPError\n",
        "import warnings\n",
        "warnings.filterwarnings(\"ignore\")\n",
        "\n",
        "import numpy as np \n",
        "import matplotlib.pyplot as plt \n",
        "import seaborn as sb \n",
        "\n",
        "import torch \n",
        "import torch.nn as nn \n",
        "import torch.nn.functional as F \n",
        "import torch.utils.data as data \n",
        "import torch.optim as optim \n",
        "import torchvision\n",
        "from torchvision import transforms \n",
        "from torchvision.datasets import FashionMNIST \n",
        "from tqdm.notebook import tqdm \n",
        "\n",
        "%matplotlib inline \n",
        "from IPython.display import set_matplotlib_formats \n",
        "set_matplotlib_formats(\"svg\", \"pdf\") # for exports \n",
        "sb.set()\n"
      ],
      "metadata": {
        "id": "kwjR5OCsrW2W"
      },
      "execution_count": 3,
      "outputs": []
    },
    {
      "cell_type": "code",
      "source": [
        "# make dataset folders and checkpoint folders \n",
        "# dataset - store data\n",
        "# checkpoint - store trained model and weights \n",
        "\n",
        "DATASET_PATH = os.environ.get(\"PATH_DATASETS\", \"data/\")\n",
        "# print(DATASET_PATH) \n",
        "CHECKPOINT_PATH = os.environ.get(\"PATH_CHECKPOINTS\", \"saved_models/activation_function/\")\n",
        "# print(CHECKPOINT_PATH)"
      ],
      "metadata": {
        "id": "ZOqIdUHRs3Ns"
      },
      "execution_count": 4,
      "outputs": []
    },
    {
      "cell_type": "code",
      "source": [
        "# function for setting sead for reproducibility\n",
        "def set_seed(seed):\n",
        "  np.random.seed(seed)    # setting seed for numpy \n",
        "  torch.manual_seed(seed) # for torch \n",
        "  if torch.cuda.is_available():\n",
        "    torch.cuda.manual_seed(seed)\n",
        "    torch.cuda.manual_seed_all(seed)\n",
        "\n",
        "set_seed(84)\n",
        "\n",
        "# deterministic is important for reproducibility\n",
        "# benchmark set to False and deterministic set to True \n",
        "torch.backends.cudnn.deterministic = True \n",
        "torch.backends.cudnn.benchmark = False \n",
        "\n",
        "# fetch the device \n",
        "device = torch.device(\"cpu\")\n",
        "if torch.cuda.is_available():\n",
        "  device = torch.device(\"cuda\")\n",
        "print(device)"
      ],
      "metadata": {
        "colab": {
          "base_uri": "https://localhost:8080/"
        },
        "id": "bdTQx844t1Wl",
        "outputId": "6fd918ee-ec5a-454a-c14c-d692fb2d8a01"
      },
      "execution_count": 5,
      "outputs": [
        {
          "output_type": "stream",
          "name": "stdout",
          "text": [
            "cuda\n"
          ]
        }
      ]
    },
    {
      "cell_type": "markdown",
      "source": [
        "## Download Model and pretrained files "
      ],
      "metadata": {
        "id": "biXC0Sfbw1tp"
      }
    },
    {
      "cell_type": "code",
      "source": [
        "#github url where all the models is saved \n",
        "base_url = \"https://raw.githubusercontent.com/phlippe/saved_models/main/tutorial3/\"\n",
        "# files to download \n",
        "pretrained_files = [\n",
        "    \"FashionMNIST_relu.config\",\n",
        "    \"FashionMNIST_relu.tar\",\n",
        "    \"FashionMNIST_sigmoid.config\",\n",
        "    \"FashionMNIST_sigmoid.tar\",\n",
        "    \"FashionMNIST_tanh.config\",\n",
        "    \"FashionMNIST_tanh.tar\"\n",
        "]\n",
        "\n",
        "# create checkpoint path, if it doesn't exist yet\n",
        "os.makedirs(CHECKPOINT_PATH, exist_ok = True)\n",
        "\n",
        "# for each model, try downloading it if not present \n",
        "for filename in pretrained_files:\n",
        "  filepath = os.path.join(CHECKPOINT_PATH, filename)\n",
        "  if not os.path.isfile(filepath):\n",
        "    file_url = base_url + filename \n",
        "    print(\"Downloading {file}\", filename)\n",
        "    try:\n",
        "      # download file and store in file path\n",
        "      urllib.request.urlretrieve(file_url, filepath)\n",
        "    except HTTPError as e:\n",
        "      print(\"Something went wrong with the provided link, please check again or manually download files from github\")\n"
      ],
      "metadata": {
        "id": "Z2kAzjkTw56-",
        "colab": {
          "base_uri": "https://localhost:8080/"
        },
        "outputId": "283bcfc3-7050-42f7-9076-308c8bcc2d1d"
      },
      "execution_count": 6,
      "outputs": [
        {
          "output_type": "stream",
          "name": "stdout",
          "text": [
            "Downloading {file} FashionMNIST_relu.config\n",
            "Downloading {file} FashionMNIST_relu.tar\n",
            "Downloading {file} FashionMNIST_sigmoid.config\n",
            "Downloading {file} FashionMNIST_sigmoid.tar\n",
            "Downloading {file} FashionMNIST_tanh.config\n",
            "Downloading {file} FashionMNIST_tanh.tar\n"
          ]
        }
      ]
    },
    {
      "cell_type": "markdown",
      "source": [
        "## Common Activation Function"
      ],
      "metadata": {
        "id": "JnO9Iz0cyhx-"
      }
    },
    {
      "cell_type": "code",
      "source": [
        "# let' try building our own activation fn\n",
        "# we can already use from torch.nn too, \n",
        "'''\n",
        "nn.Sigmoid, nn.Tanh work as a module \n",
        "torch.sigmoid, torch.tanh work as function\n",
        "'''\n",
        "\n",
        "class ActivationFunction(nn.Module):\n",
        "  def __init__(self):\n",
        "    super().__init__()\n",
        "\n",
        "    self.name = self.__class__.__name__ \n",
        "    self.config = {\"name\": self.name}\n",
        "  "
      ],
      "metadata": {
        "id": "nPogoXEwxLn7"
      },
      "execution_count": 7,
      "outputs": []
    },
    {
      "cell_type": "code",
      "source": [
        "# let's implement sigmoid and tanh and relu\n",
        "class Sigmoid(ActivationFunction):\n",
        "  def forward(self, x):\n",
        "    return 1 / (1 + torch.exp(-x))\n",
        "    # return 1 / (1 + torch.exp(-x))\n",
        "\n",
        "class Tanh(ActivationFunction):\n",
        "  def forward(self, x):\n",
        "    x_exp, neg_x_exp = torch.exp(x), torch.exp(-x)\n",
        "    return (x_exp - neg_x_exp) / (x_exp + neg_x_exp)\n",
        "\n",
        "class ReLU(ActivationFunction):\n",
        "  def forward(self, x):\n",
        "    return x*(x > 0).float()"
      ],
      "metadata": {
        "id": "vE1SIaJY2U1w"
      },
      "execution_count": 8,
      "outputs": []
    },
    {
      "cell_type": "code",
      "source": [
        "# store in dict \n",
        "act_fn_by_name = {\n",
        "    \"sigmoid\": Sigmoid, \n",
        "    \"tanh\": Tanh, \n",
        "    \"relu\": ReLU\n",
        "}"
      ],
      "metadata": {
        "id": "1SSCkt2v3kLL"
      },
      "execution_count": 9,
      "outputs": []
    },
    {
      "cell_type": "code",
      "source": [
        "# let's visualize act fn. You need all 3, input, act output and act gradient\n",
        "def get_grads(act, x):\n",
        "  # make a clone \n",
        "  x = x.clone().requires_grad_()\n",
        "  out = act(x)            # finding output from act\n",
        "  out.sum().backward()    # summing grad\n",
        "  return x.grad \n",
        "\n"
      ],
      "metadata": {
        "id": "sOhM_9U-3mH3"
      },
      "execution_count": 10,
      "outputs": []
    },
    {
      "cell_type": "code",
      "source": [
        "# visualize now \n",
        "def viz_act_fn(act_fn, x, ax):\n",
        "  y = act_fn(x)    \n",
        "  y_grads = get_grads(act_fn, x)\n",
        "  x, y, y_grads = x.cpu().numpy(), y.cpu().numpy(), y_grads.cpu().numpy()\n",
        "\n",
        "  ax.plot(x, y, linewidth=2, label = \"ActFn\")\n",
        "  ax.plot(x, y_grads, linewidth=2, label = \"Gradient\")\n",
        "  ax.set_title(act_fn.name)\n",
        "  ax.legend()\n",
        "  ax.set_ylim(-1.5, x.max())\n",
        "\n",
        "\n",
        "act_fns = [act_fn() for act_fn in act_fn_by_name.values()]\n",
        "x = torch.linspace(-5, 5, 1000)  # Range on which we want to visualize the activation functions\n",
        "# Plotting\n",
        "cols = 2\n",
        "rows = math.ceil(len(act_fns) / float(cols))\n",
        "fig, ax = plt.subplots(rows, cols, figsize=(cols * 4, rows * 4))\n",
        "for i, act_fn in enumerate(act_fns):\n",
        "    viz_act_fn(act_fn, x, ax[divmod(i, cols)])\n",
        "fig.subplots_adjust(hspace=0.3)\n",
        "plt.show()\n"
      ],
      "metadata": {
        "colab": {
          "base_uri": "https://localhost:8080/",
          "height": 687
        },
        "id": "AC1pdXKO8c4c",
        "outputId": "bc1b416d-53ad-4c78-c528-741d93c5d885"
      },
      "execution_count": 11,
      "outputs": [
        {
          "output_type": "display_data",
          "data": {
            "application/pdf": "[encoded data removed]",
            "text/plain": [
              "<Figure size 576x576 with 4 Axes>"
            ],
            "image/svg+xml": "<?xml version=\"1.0\" encoding=\"utf-8\" standalone=\"no\"?>\n<!DOCTYPE svg PUBLIC \"-//W3C//DTD SVG 1.1//EN\"\n  \"http://www.w3.org/Graphics/SVG/1.1/DTD/svg11.dtd\">\n<!-- Created with matplotlib (https://matplotlib.org/) -->\n<svg height=\"484.544062pt\" version=\"1.1\" viewBox=\"0 0 495.263125 484.544062\" width=\"495.263125pt\" xmlns=\"http://www.w3.org/2000/svg\" xmlns:xlink=\"http://www.w3.org/1999/xlink\">\n <defs>\n  <style type=\"text/css\">\n*{stroke-linecap:butt;stroke-linejoin:round;}\n  </style>\n </defs>\n <g id=\"figure_1\">\n  <g id=\"patch_1\">\n   <path d=\"M 0 484.544062 \nL 495.263125 484.544062 \nL 495.263125 0 \nL 0 0 \nz\n\" style=\"fill:#ffffff;\"/>\n  </g>\n  <g id=\"axes_1\">\n   <g id=\"patch_2\">\n    <path d=\"M 32.916406 211.396386 \nL 235.825497 211.396386 \nL 235.825497 22.318125 \nL 32.916406 22.318125 \nz\n\" style=\"fill:#eaeaf2;\"/>\n   </g>\n   <g id=\"matplotlib.axis_1\">\n    <g id=\"xtick_1\">\n     <g id=\"line2d_1\">\n      <path clip-path=\"url(#pcc9d4bb644)\" d=\"M 60.585828 211.396386 \nL 60.585828 22.318125 \n\" style=\"fill:none;stroke:#ffffff;stroke-linecap:round;\"/>\n     </g>\n     <g id=\"text_1\">\n      <!-- −4 -->\n      <defs>\n       <path d=\"M 10.59375 35.5 \nL 73.1875 35.5 \nL 73.1875 27.203125 \nL 10.59375 27.203125 \nz\n\" id=\"DejaVuSans-8722\"/>\n       <path d=\"M 37.796875 64.3125 \nL 12.890625 25.390625 \nL 37.796875 25.390625 \nz\nM 35.203125 72.90625 \nL 47.609375 72.90625 \nL 47.609375 25.390625 \nL 58.015625 25.390625 \nL 58.015625 17.1875 \nL 47.609375 17.1875 \nL 47.609375 0 \nL 37.796875 0 \nL 37.796875 17.1875 \nL 4.890625 17.1875 \nL 4.890625 26.703125 \nz\n\" id=\"DejaVuSans-52\"/>\n      </defs>\n      <g style=\"fill:#262626;\" transform=\"translate(52.477625 229.254667)scale(0.11 -0.11)\">\n       <use xlink:href=\"#DejaVuSans-8722\"/>\n       <use x=\"83.789062\" xlink:href=\"#DejaVuSans-52\"/>\n      </g>\n     </g>\n    </g>\n    <g id=\"xtick_2\">\n     <g id=\"line2d_2\">\n      <path clip-path=\"url(#pcc9d4bb644)\" d=\"M 97.47839 211.396386 \nL 97.47839 22.318125 \n\" style=\"fill:none;stroke:#ffffff;stroke-linecap:round;\"/>\n     </g>\n     <g id=\"text_2\">\n      <!-- −2 -->\n      <defs>\n       <path d=\"M 19.1875 8.296875 \nL 53.609375 8.296875 \nL 53.609375 0 \nL 7.328125 0 \nL 7.328125 8.296875 \nQ 12.9375 14.109375 22.625 23.890625 \nQ 32.328125 33.6875 34.8125 36.53125 \nQ 39.546875 41.84375 41.421875 45.53125 \nQ 43.3125 49.21875 43.3125 52.78125 \nQ 43.3125 58.59375 39.234375 62.25 \nQ 35.15625 65.921875 28.609375 65.921875 \nQ 23.96875 65.921875 18.8125 64.3125 \nQ 13.671875 62.703125 7.8125 59.421875 \nL 7.8125 69.390625 \nQ 13.765625 71.78125 18.9375 73 \nQ 24.125 74.21875 28.421875 74.21875 \nQ 39.75 74.21875 46.484375 68.546875 \nQ 53.21875 62.890625 53.21875 53.421875 \nQ 53.21875 48.921875 51.53125 44.890625 \nQ 49.859375 40.875 45.40625 35.40625 \nQ 44.1875 33.984375 37.640625 27.21875 \nQ 31.109375 20.453125 19.1875 8.296875 \nz\n\" id=\"DejaVuSans-50\"/>\n      </defs>\n      <g style=\"fill:#262626;\" transform=\"translate(89.370187 229.254667)scale(0.11 -0.11)\">\n       <use xlink:href=\"#DejaVuSans-8722\"/>\n       <use x=\"83.789062\" xlink:href=\"#DejaVuSans-50\"/>\n      </g>\n     </g>\n    </g>\n    <g id=\"xtick_3\">\n     <g id=\"line2d_3\">\n      <path clip-path=\"url(#pcc9d4bb644)\" d=\"M 134.370952 211.396386 \nL 134.370952 22.318125 \n\" style=\"fill:none;stroke:#ffffff;stroke-linecap:round;\"/>\n     </g>\n     <g id=\"text_3\">\n      <!-- 0 -->\n      <defs>\n       <path d=\"M 31.78125 66.40625 \nQ 24.171875 66.40625 20.328125 58.90625 \nQ 16.5 51.421875 16.5 36.375 \nQ 16.5 21.390625 20.328125 13.890625 \nQ 24.171875 6.390625 31.78125 6.390625 \nQ 39.453125 6.390625 43.28125 13.890625 \nQ 47.125 21.390625 47.125 36.375 \nQ 47.125 51.421875 43.28125 58.90625 \nQ 39.453125 66.40625 31.78125 66.40625 \nz\nM 31.78125 74.21875 \nQ 44.046875 74.21875 50.515625 64.515625 \nQ 56.984375 54.828125 56.984375 36.375 \nQ 56.984375 17.96875 50.515625 8.265625 \nQ 44.046875 -1.421875 31.78125 -1.421875 \nQ 19.53125 -1.421875 13.0625 8.265625 \nQ 6.59375 17.96875 6.59375 36.375 \nQ 6.59375 54.828125 13.0625 64.515625 \nQ 19.53125 74.21875 31.78125 74.21875 \nz\n\" id=\"DejaVuSans-48\"/>\n      </defs>\n      <g style=\"fill:#262626;\" transform=\"translate(130.871577 229.254667)scale(0.11 -0.11)\">\n       <use xlink:href=\"#DejaVuSans-48\"/>\n      </g>\n     </g>\n    </g>\n    <g id=\"xtick_4\">\n     <g id=\"line2d_4\">\n      <path clip-path=\"url(#pcc9d4bb644)\" d=\"M 171.263514 211.396386 \nL 171.263514 22.318125 \n\" style=\"fill:none;stroke:#ffffff;stroke-linecap:round;\"/>\n     </g>\n     <g id=\"text_4\">\n      <!-- 2 -->\n      <g style=\"fill:#262626;\" transform=\"translate(167.764139 229.254667)scale(0.11 -0.11)\">\n       <use xlink:href=\"#DejaVuSans-50\"/>\n      </g>\n     </g>\n    </g>\n    <g id=\"xtick_5\">\n     <g id=\"line2d_5\">\n      <path clip-path=\"url(#pcc9d4bb644)\" d=\"M 208.156076 211.396386 \nL 208.156076 22.318125 \n\" style=\"fill:none;stroke:#ffffff;stroke-linecap:round;\"/>\n     </g>\n     <g id=\"text_5\">\n      <!-- 4 -->\n      <g style=\"fill:#262626;\" transform=\"translate(204.656701 229.254667)scale(0.11 -0.11)\">\n       <use xlink:href=\"#DejaVuSans-52\"/>\n      </g>\n     </g>\n    </g>\n   </g>\n   <g id=\"matplotlib.axis_2\">\n    <g id=\"ytick_1\">\n     <g id=\"line2d_6\">\n      <path clip-path=\"url(#pcc9d4bb644)\" d=\"M 32.916406 196.851904 \nL 235.825497 196.851904 \n\" style=\"fill:none;stroke:#ffffff;stroke-linecap:round;\"/>\n     </g>\n     <g id=\"text_6\">\n      <!-- −1 -->\n      <defs>\n       <path d=\"M 12.40625 8.296875 \nL 28.515625 8.296875 \nL 28.515625 63.921875 \nL 10.984375 60.40625 \nL 10.984375 69.390625 \nL 28.421875 72.90625 \nL 38.28125 72.90625 \nL 38.28125 8.296875 \nL 54.390625 8.296875 \nL 54.390625 0 \nL 12.40625 0 \nz\n\" id=\"DejaVuSans-49\"/>\n      </defs>\n      <g style=\"fill:#262626;\" transform=\"translate(7.2 201.031045)scale(0.11 -0.11)\">\n       <use xlink:href=\"#DejaVuSans-8722\"/>\n       <use x=\"83.789062\" xlink:href=\"#DejaVuSans-49\"/>\n      </g>\n     </g>\n    </g>\n    <g id=\"ytick_2\">\n     <g id=\"line2d_7\">\n      <path clip-path=\"url(#pcc9d4bb644)\" d=\"M 32.916406 167.762941 \nL 235.825497 167.762941 \n\" style=\"fill:none;stroke:#ffffff;stroke-linecap:round;\"/>\n     </g>\n     <g id=\"text_7\">\n      <!-- 0 -->\n      <g style=\"fill:#262626;\" transform=\"translate(16.417656 171.942082)scale(0.11 -0.11)\">\n       <use xlink:href=\"#DejaVuSans-48\"/>\n      </g>\n     </g>\n    </g>\n    <g id=\"ytick_3\">\n     <g id=\"line2d_8\">\n      <path clip-path=\"url(#pcc9d4bb644)\" d=\"M 32.916406 138.673978 \nL 235.825497 138.673978 \n\" style=\"fill:none;stroke:#ffffff;stroke-linecap:round;\"/>\n     </g>\n     <g id=\"text_8\">\n      <!-- 1 -->\n      <g style=\"fill:#262626;\" transform=\"translate(16.417656 142.853118)scale(0.11 -0.11)\">\n       <use xlink:href=\"#DejaVuSans-49\"/>\n      </g>\n     </g>\n    </g>\n    <g id=\"ytick_4\">\n     <g id=\"line2d_9\">\n      <path clip-path=\"url(#pcc9d4bb644)\" d=\"M 32.916406 109.585015 \nL 235.825497 109.585015 \n\" style=\"fill:none;stroke:#ffffff;stroke-linecap:round;\"/>\n     </g>\n     <g id=\"text_9\">\n      <!-- 2 -->\n      <g style=\"fill:#262626;\" transform=\"translate(16.417656 113.764155)scale(0.11 -0.11)\">\n       <use xlink:href=\"#DejaVuSans-50\"/>\n      </g>\n     </g>\n    </g>\n    <g id=\"ytick_5\">\n     <g id=\"line2d_10\">\n      <path clip-path=\"url(#pcc9d4bb644)\" d=\"M 32.916406 80.496051 \nL 235.825497 80.496051 \n\" style=\"fill:none;stroke:#ffffff;stroke-linecap:round;\"/>\n     </g>\n     <g id=\"text_10\">\n      <!-- 3 -->\n      <defs>\n       <path d=\"M 40.578125 39.3125 \nQ 47.65625 37.796875 51.625 33 \nQ 55.609375 28.21875 55.609375 21.1875 \nQ 55.609375 10.40625 48.1875 4.484375 \nQ 40.765625 -1.421875 27.09375 -1.421875 \nQ 22.515625 -1.421875 17.65625 -0.515625 \nQ 12.796875 0.390625 7.625 2.203125 \nL 7.625 11.71875 \nQ 11.71875 9.328125 16.59375 8.109375 \nQ 21.484375 6.890625 26.8125 6.890625 \nQ 36.078125 6.890625 40.9375 10.546875 \nQ 45.796875 14.203125 45.796875 21.1875 \nQ 45.796875 27.640625 41.28125 31.265625 \nQ 36.765625 34.90625 28.71875 34.90625 \nL 20.21875 34.90625 \nL 20.21875 43.015625 \nL 29.109375 43.015625 \nQ 36.375 43.015625 40.234375 45.921875 \nQ 44.09375 48.828125 44.09375 54.296875 \nQ 44.09375 59.90625 40.109375 62.90625 \nQ 36.140625 65.921875 28.71875 65.921875 \nQ 24.65625 65.921875 20.015625 65.03125 \nQ 15.375 64.15625 9.8125 62.3125 \nL 9.8125 71.09375 \nQ 15.4375 72.65625 20.34375 73.4375 \nQ 25.25 74.21875 29.59375 74.21875 \nQ 40.828125 74.21875 47.359375 69.109375 \nQ 53.90625 64.015625 53.90625 55.328125 \nQ 53.90625 49.265625 50.4375 45.09375 \nQ 46.96875 40.921875 40.578125 39.3125 \nz\n\" id=\"DejaVuSans-51\"/>\n      </defs>\n      <g style=\"fill:#262626;\" transform=\"translate(16.417656 84.675192)scale(0.11 -0.11)\">\n       <use xlink:href=\"#DejaVuSans-51\"/>\n      </g>\n     </g>\n    </g>\n    <g id=\"ytick_6\">\n     <g id=\"line2d_11\">\n      <path clip-path=\"url(#pcc9d4bb644)\" d=\"M 32.916406 51.407088 \nL 235.825497 51.407088 \n\" style=\"fill:none;stroke:#ffffff;stroke-linecap:round;\"/>\n     </g>\n     <g id=\"text_11\">\n      <!-- 4 -->\n      <g style=\"fill:#262626;\" transform=\"translate(16.417656 55.586229)scale(0.11 -0.11)\">\n       <use xlink:href=\"#DejaVuSans-52\"/>\n      </g>\n     </g>\n    </g>\n    <g id=\"ytick_7\">\n     <g id=\"line2d_12\">\n      <path clip-path=\"url(#pcc9d4bb644)\" d=\"M 32.916406 22.318125 \nL 235.825497 22.318125 \n\" style=\"fill:none;stroke:#ffffff;stroke-linecap:round;\"/>\n     </g>\n     <g id=\"text_12\">\n      <!-- 5 -->\n      <defs>\n       <path d=\"M 10.796875 72.90625 \nL 49.515625 72.90625 \nL 49.515625 64.59375 \nL 19.828125 64.59375 \nL 19.828125 46.734375 \nQ 21.96875 47.46875 24.109375 47.828125 \nQ 26.265625 48.1875 28.421875 48.1875 \nQ 40.625 48.1875 47.75 41.5 \nQ 54.890625 34.8125 54.890625 23.390625 \nQ 54.890625 11.625 47.5625 5.09375 \nQ 40.234375 -1.421875 26.90625 -1.421875 \nQ 22.3125 -1.421875 17.546875 -0.640625 \nQ 12.796875 0.140625 7.71875 1.703125 \nL 7.71875 11.625 \nQ 12.109375 9.234375 16.796875 8.0625 \nQ 21.484375 6.890625 26.703125 6.890625 \nQ 35.15625 6.890625 40.078125 11.328125 \nQ 45.015625 15.765625 45.015625 23.390625 \nQ 45.015625 31 40.078125 35.4375 \nQ 35.15625 39.890625 26.703125 39.890625 \nQ 22.75 39.890625 18.8125 39.015625 \nQ 14.890625 38.140625 10.796875 36.28125 \nz\n\" id=\"DejaVuSans-53\"/>\n      </defs>\n      <g style=\"fill:#262626;\" transform=\"translate(16.417656 26.497266)scale(0.11 -0.11)\">\n       <use xlink:href=\"#DejaVuSans-53\"/>\n      </g>\n     </g>\n    </g>\n   </g>\n   <g id=\"line2d_13\">\n    <path clip-path=\"url(#pcc9d4bb644)\" d=\"M 42.139547 167.568253 \nL 59.127111 167.278859 \nL 70.759903 166.86656 \nL 79.62298 166.340662 \nL 87.008879 165.690204 \nL 93.471536 164.905969 \nL 99.380255 163.967993 \nL 104.91968 162.862678 \nL 110.274455 161.563921 \nL 115.629231 160.030975 \nL 121.168655 158.211956 \nL 127.631316 155.846316 \nL 150.342959 147.287663 \nL 155.882383 145.584022 \nL 161.237158 144.172078 \nL 166.591936 142.992466 \nL 172.131358 142.000333 \nL 178.040078 141.166761 \nL 184.687387 140.458788 \nL 192.257932 139.88295 \nL 201.305657 139.426385 \nL 212.753801 139.083377 \nL 226.602357 138.868665 \nL 226.602357 138.868665 \n\" style=\"fill:none;stroke:#4c72b0;stroke-linecap:round;stroke-width:2;\"/>\n   </g>\n   <g id=\"line2d_14\">\n    <path clip-path=\"url(#pcc9d4bb644)\" d=\"M 42.139547 167.569556 \nL 59.311763 167.282287 \nL 71.313845 166.869377 \nL 80.915512 166.32226 \nL 89.224647 165.631151 \nL 97.164487 164.748205 \nL 105.842917 163.552159 \nL 122.461187 161.198869 \nL 127.815964 160.715533 \nL 132.616798 160.507116 \nL 137.232991 160.534292 \nL 142.033824 160.795636 \nL 147.203953 161.304225 \nL 153.85126 162.193367 \nL 174.347127 165.081439 \nL 182.286967 165.886946 \nL 190.596102 166.504856 \nL 200.197773 166.987111 \nL 211.83056 167.3392 \nL 226.602357 167.569556 \nL 226.602357 167.569556 \n\" style=\"fill:none;stroke:#dd8452;stroke-linecap:round;stroke-width:2;\"/>\n   </g>\n   <g id=\"patch_3\">\n    <path d=\"M 32.916406 211.396386 \nL 32.916406 22.318125 \n\" style=\"fill:none;stroke:#ffffff;stroke-linecap:square;stroke-linejoin:miter;stroke-width:1.25;\"/>\n   </g>\n   <g id=\"patch_4\">\n    <path d=\"M 235.825497 211.396386 \nL 235.825497 22.318125 \n\" style=\"fill:none;stroke:#ffffff;stroke-linecap:square;stroke-linejoin:miter;stroke-width:1.25;\"/>\n   </g>\n   <g id=\"patch_5\">\n    <path d=\"M 32.916406 211.396386 \nL 235.825497 211.396386 \n\" style=\"fill:none;stroke:#ffffff;stroke-linecap:square;stroke-linejoin:miter;stroke-width:1.25;\"/>\n   </g>\n   <g id=\"patch_6\">\n    <path d=\"M 32.916406 22.318125 \nL 235.825497 22.318125 \n\" style=\"fill:none;stroke:#ffffff;stroke-linecap:square;stroke-linejoin:miter;stroke-width:1.25;\"/>\n   </g>\n   <g id=\"text_13\">\n    <!-- Sigmoid -->\n    <defs>\n     <path d=\"M 53.515625 70.515625 \nL 53.515625 60.890625 \nQ 47.90625 63.578125 42.921875 64.890625 \nQ 37.9375 66.21875 33.296875 66.21875 \nQ 25.25 66.21875 20.875 63.09375 \nQ 16.5 59.96875 16.5 54.203125 \nQ 16.5 49.359375 19.40625 46.890625 \nQ 22.3125 44.4375 30.421875 42.921875 \nL 36.375 41.703125 \nQ 47.40625 39.59375 52.65625 34.296875 \nQ 57.90625 29 57.90625 20.125 \nQ 57.90625 9.515625 50.796875 4.046875 \nQ 43.703125 -1.421875 29.984375 -1.421875 \nQ 24.8125 -1.421875 18.96875 -0.25 \nQ 13.140625 0.921875 6.890625 3.21875 \nL 6.890625 13.375 \nQ 12.890625 10.015625 18.65625 8.296875 \nQ 24.421875 6.59375 29.984375 6.59375 \nQ 38.421875 6.59375 43.015625 9.90625 \nQ 47.609375 13.234375 47.609375 19.390625 \nQ 47.609375 24.75 44.3125 27.78125 \nQ 41.015625 30.8125 33.5 32.328125 \nL 27.484375 33.5 \nQ 16.453125 35.6875 11.515625 40.375 \nQ 6.59375 45.0625 6.59375 53.421875 \nQ 6.59375 63.09375 13.40625 68.65625 \nQ 20.21875 74.21875 32.171875 74.21875 \nQ 37.3125 74.21875 42.625 73.28125 \nQ 47.953125 72.359375 53.515625 70.515625 \nz\n\" id=\"DejaVuSans-83\"/>\n     <path d=\"M 9.421875 54.6875 \nL 18.40625 54.6875 \nL 18.40625 0 \nL 9.421875 0 \nz\nM 9.421875 75.984375 \nL 18.40625 75.984375 \nL 18.40625 64.59375 \nL 9.421875 64.59375 \nz\n\" id=\"DejaVuSans-105\"/>\n     <path d=\"M 45.40625 27.984375 \nQ 45.40625 37.75 41.375 43.109375 \nQ 37.359375 48.484375 30.078125 48.484375 \nQ 22.859375 48.484375 18.828125 43.109375 \nQ 14.796875 37.75 14.796875 27.984375 \nQ 14.796875 18.265625 18.828125 12.890625 \nQ 22.859375 7.515625 30.078125 7.515625 \nQ 37.359375 7.515625 41.375 12.890625 \nQ 45.40625 18.265625 45.40625 27.984375 \nz\nM 54.390625 6.78125 \nQ 54.390625 -7.171875 48.1875 -13.984375 \nQ 42 -20.796875 29.203125 -20.796875 \nQ 24.46875 -20.796875 20.265625 -20.09375 \nQ 16.0625 -19.390625 12.109375 -17.921875 \nL 12.109375 -9.1875 \nQ 16.0625 -11.328125 19.921875 -12.34375 \nQ 23.78125 -13.375 27.78125 -13.375 \nQ 36.625 -13.375 41.015625 -8.765625 \nQ 45.40625 -4.15625 45.40625 5.171875 \nL 45.40625 9.625 \nQ 42.625 4.78125 38.28125 2.390625 \nQ 33.9375 0 27.875 0 \nQ 17.828125 0 11.671875 7.65625 \nQ 5.515625 15.328125 5.515625 27.984375 \nQ 5.515625 40.671875 11.671875 48.328125 \nQ 17.828125 56 27.875 56 \nQ 33.9375 56 38.28125 53.609375 \nQ 42.625 51.21875 45.40625 46.390625 \nL 45.40625 54.6875 \nL 54.390625 54.6875 \nz\n\" id=\"DejaVuSans-103\"/>\n     <path d=\"M 52 44.1875 \nQ 55.375 50.25 60.0625 53.125 \nQ 64.75 56 71.09375 56 \nQ 79.640625 56 84.28125 50.015625 \nQ 88.921875 44.046875 88.921875 33.015625 \nL 88.921875 0 \nL 79.890625 0 \nL 79.890625 32.71875 \nQ 79.890625 40.578125 77.09375 44.375 \nQ 74.3125 48.1875 68.609375 48.1875 \nQ 61.625 48.1875 57.5625 43.546875 \nQ 53.515625 38.921875 53.515625 30.90625 \nL 53.515625 0 \nL 44.484375 0 \nL 44.484375 32.71875 \nQ 44.484375 40.625 41.703125 44.40625 \nQ 38.921875 48.1875 33.109375 48.1875 \nQ 26.21875 48.1875 22.15625 43.53125 \nQ 18.109375 38.875 18.109375 30.90625 \nL 18.109375 0 \nL 9.078125 0 \nL 9.078125 54.6875 \nL 18.109375 54.6875 \nL 18.109375 46.1875 \nQ 21.1875 51.21875 25.484375 53.609375 \nQ 29.78125 56 35.6875 56 \nQ 41.65625 56 45.828125 52.96875 \nQ 50 49.953125 52 44.1875 \nz\n\" id=\"DejaVuSans-109\"/>\n     <path d=\"M 30.609375 48.390625 \nQ 23.390625 48.390625 19.1875 42.75 \nQ 14.984375 37.109375 14.984375 27.296875 \nQ 14.984375 17.484375 19.15625 11.84375 \nQ 23.34375 6.203125 30.609375 6.203125 \nQ 37.796875 6.203125 41.984375 11.859375 \nQ 46.1875 17.53125 46.1875 27.296875 \nQ 46.1875 37.015625 41.984375 42.703125 \nQ 37.796875 48.390625 30.609375 48.390625 \nz\nM 30.609375 56 \nQ 42.328125 56 49.015625 48.375 \nQ 55.71875 40.765625 55.71875 27.296875 \nQ 55.71875 13.875 49.015625 6.21875 \nQ 42.328125 -1.421875 30.609375 -1.421875 \nQ 18.84375 -1.421875 12.171875 6.21875 \nQ 5.515625 13.875 5.515625 27.296875 \nQ 5.515625 40.765625 12.171875 48.375 \nQ 18.84375 56 30.609375 56 \nz\n\" id=\"DejaVuSans-111\"/>\n     <path d=\"M 45.40625 46.390625 \nL 45.40625 75.984375 \nL 54.390625 75.984375 \nL 54.390625 0 \nL 45.40625 0 \nL 45.40625 8.203125 \nQ 42.578125 3.328125 38.25 0.953125 \nQ 33.9375 -1.421875 27.875 -1.421875 \nQ 17.96875 -1.421875 11.734375 6.484375 \nQ 5.515625 14.40625 5.515625 27.296875 \nQ 5.515625 40.1875 11.734375 48.09375 \nQ 17.96875 56 27.875 56 \nQ 33.9375 56 38.25 53.625 \nQ 42.578125 51.265625 45.40625 46.390625 \nz\nM 14.796875 27.296875 \nQ 14.796875 17.390625 18.875 11.75 \nQ 22.953125 6.109375 30.078125 6.109375 \nQ 37.203125 6.109375 41.296875 11.75 \nQ 45.40625 17.390625 45.40625 27.296875 \nQ 45.40625 37.203125 41.296875 42.84375 \nQ 37.203125 48.484375 30.078125 48.484375 \nQ 22.953125 48.484375 18.875 42.84375 \nQ 14.796875 37.203125 14.796875 27.296875 \nz\n\" id=\"DejaVuSans-100\"/>\n    </defs>\n    <g style=\"fill:#262626;\" transform=\"translate(110.094389 16.318125)scale(0.12 -0.12)\">\n     <use xlink:href=\"#DejaVuSans-83\"/>\n     <use x=\"63.476562\" xlink:href=\"#DejaVuSans-105\"/>\n     <use x=\"91.259766\" xlink:href=\"#DejaVuSans-103\"/>\n     <use x=\"154.736328\" xlink:href=\"#DejaVuSans-109\"/>\n     <use x=\"252.148438\" xlink:href=\"#DejaVuSans-111\"/>\n     <use x=\"313.330078\" xlink:href=\"#DejaVuSans-105\"/>\n     <use x=\"341.113281\" xlink:href=\"#DejaVuSans-100\"/>\n    </g>\n   </g>\n   <g id=\"legend_1\">\n    <g id=\"patch_7\">\n     <path d=\"M 145.047997 63.41 \nL 228.125497 63.41 \nQ 230.325497 63.41 230.325497 61.21 \nL 230.325497 30.018125 \nQ 230.325497 27.818125 228.125497 27.818125 \nL 145.047997 27.818125 \nQ 142.847997 27.818125 142.847997 30.018125 \nL 142.847997 61.21 \nQ 142.847997 63.41 145.047997 63.41 \nz\n\" style=\"fill:#eaeaf2;opacity:0.8;stroke:#cccccc;stroke-linejoin:miter;\"/>\n    </g>\n    <g id=\"line2d_15\">\n     <path d=\"M 147.247997 36.726406 \nL 169.247997 36.726406 \n\" style=\"fill:none;stroke:#4c72b0;stroke-linecap:round;stroke-width:2;\"/>\n    </g>\n    <g id=\"line2d_16\"/>\n    <g id=\"text_14\">\n     <!-- ActFn -->\n     <defs>\n      <path d=\"M 34.1875 63.1875 \nL 20.796875 26.90625 \nL 47.609375 26.90625 \nz\nM 28.609375 72.90625 \nL 39.796875 72.90625 \nL 67.578125 0 \nL 57.328125 0 \nL 50.6875 18.703125 \nL 17.828125 18.703125 \nL 11.1875 0 \nL 0.78125 0 \nz\n\" id=\"DejaVuSans-65\"/>\n      <path d=\"M 48.78125 52.59375 \nL 48.78125 44.1875 \nQ 44.96875 46.296875 41.140625 47.34375 \nQ 37.3125 48.390625 33.40625 48.390625 \nQ 24.65625 48.390625 19.8125 42.84375 \nQ 14.984375 37.3125 14.984375 27.296875 \nQ 14.984375 17.28125 19.8125 11.734375 \nQ 24.65625 6.203125 33.40625 6.203125 \nQ 37.3125 6.203125 41.140625 7.25 \nQ 44.96875 8.296875 48.78125 10.40625 \nL 48.78125 2.09375 \nQ 45.015625 0.34375 40.984375 -0.53125 \nQ 36.96875 -1.421875 32.421875 -1.421875 \nQ 20.0625 -1.421875 12.78125 6.34375 \nQ 5.515625 14.109375 5.515625 27.296875 \nQ 5.515625 40.671875 12.859375 48.328125 \nQ 20.21875 56 33.015625 56 \nQ 37.15625 56 41.109375 55.140625 \nQ 45.0625 54.296875 48.78125 52.59375 \nz\n\" id=\"DejaVuSans-99\"/>\n      <path d=\"M 18.3125 70.21875 \nL 18.3125 54.6875 \nL 36.8125 54.6875 \nL 36.8125 47.703125 \nL 18.3125 47.703125 \nL 18.3125 18.015625 \nQ 18.3125 11.328125 20.140625 9.421875 \nQ 21.96875 7.515625 27.59375 7.515625 \nL 36.8125 7.515625 \nL 36.8125 0 \nL 27.59375 0 \nQ 17.1875 0 13.234375 3.875 \nQ 9.28125 7.765625 9.28125 18.015625 \nL 9.28125 47.703125 \nL 2.6875 47.703125 \nL 2.6875 54.6875 \nL 9.28125 54.6875 \nL 9.28125 70.21875 \nz\n\" id=\"DejaVuSans-116\"/>\n      <path d=\"M 9.8125 72.90625 \nL 51.703125 72.90625 \nL 51.703125 64.59375 \nL 19.671875 64.59375 \nL 19.671875 43.109375 \nL 48.578125 43.109375 \nL 48.578125 34.8125 \nL 19.671875 34.8125 \nL 19.671875 0 \nL 9.8125 0 \nz\n\" id=\"DejaVuSans-70\"/>\n      <path d=\"M 54.890625 33.015625 \nL 54.890625 0 \nL 45.90625 0 \nL 45.90625 32.71875 \nQ 45.90625 40.484375 42.875 44.328125 \nQ 39.84375 48.1875 33.796875 48.1875 \nQ 26.515625 48.1875 22.3125 43.546875 \nQ 18.109375 38.921875 18.109375 30.90625 \nL 18.109375 0 \nL 9.078125 0 \nL 9.078125 54.6875 \nL 18.109375 54.6875 \nL 18.109375 46.1875 \nQ 21.34375 51.125 25.703125 53.5625 \nQ 30.078125 56 35.796875 56 \nQ 45.21875 56 50.046875 50.171875 \nQ 54.890625 44.34375 54.890625 33.015625 \nz\n\" id=\"DejaVuSans-110\"/>\n     </defs>\n     <g style=\"fill:#262626;\" transform=\"translate(178.047997 40.576406)scale(0.11 -0.11)\">\n      <use xlink:href=\"#DejaVuSans-65\"/>\n      <use x=\"66.658203\" xlink:href=\"#DejaVuSans-99\"/>\n      <use x=\"121.638672\" xlink:href=\"#DejaVuSans-116\"/>\n      <use x=\"160.847656\" xlink:href=\"#DejaVuSans-70\"/>\n      <use x=\"218.367188\" xlink:href=\"#DejaVuSans-110\"/>\n     </g>\n    </g>\n    <g id=\"line2d_17\">\n     <path d=\"M 147.247997 52.872344 \nL 169.247997 52.872344 \n\" style=\"fill:none;stroke:#dd8452;stroke-linecap:round;stroke-width:2;\"/>\n    </g>\n    <g id=\"line2d_18\"/>\n    <g id=\"text_15\">\n     <!-- Gradient -->\n     <defs>\n      <path d=\"M 59.515625 10.40625 \nL 59.515625 29.984375 \nL 43.40625 29.984375 \nL 43.40625 38.09375 \nL 69.28125 38.09375 \nL 69.28125 6.78125 \nQ 63.578125 2.734375 56.6875 0.65625 \nQ 49.8125 -1.421875 42 -1.421875 \nQ 24.90625 -1.421875 15.25 8.5625 \nQ 5.609375 18.5625 5.609375 36.375 \nQ 5.609375 54.25 15.25 64.234375 \nQ 24.90625 74.21875 42 74.21875 \nQ 49.125 74.21875 55.546875 72.453125 \nQ 61.96875 70.703125 67.390625 67.28125 \nL 67.390625 56.78125 \nQ 61.921875 61.421875 55.765625 63.765625 \nQ 49.609375 66.109375 42.828125 66.109375 \nQ 29.4375 66.109375 22.71875 58.640625 \nQ 16.015625 51.171875 16.015625 36.375 \nQ 16.015625 21.625 22.71875 14.15625 \nQ 29.4375 6.6875 42.828125 6.6875 \nQ 48.046875 6.6875 52.140625 7.59375 \nQ 56.25 8.5 59.515625 10.40625 \nz\n\" id=\"DejaVuSans-71\"/>\n      <path d=\"M 41.109375 46.296875 \nQ 39.59375 47.171875 37.8125 47.578125 \nQ 36.03125 48 33.890625 48 \nQ 26.265625 48 22.1875 43.046875 \nQ 18.109375 38.09375 18.109375 28.8125 \nL 18.109375 0 \nL 9.078125 0 \nL 9.078125 54.6875 \nL 18.109375 54.6875 \nL 18.109375 46.1875 \nQ 20.953125 51.171875 25.484375 53.578125 \nQ 30.03125 56 36.53125 56 \nQ 37.453125 56 38.578125 55.875 \nQ 39.703125 55.765625 41.0625 55.515625 \nz\n\" id=\"DejaVuSans-114\"/>\n      <path d=\"M 34.28125 27.484375 \nQ 23.390625 27.484375 19.1875 25 \nQ 14.984375 22.515625 14.984375 16.5 \nQ 14.984375 11.71875 18.140625 8.90625 \nQ 21.296875 6.109375 26.703125 6.109375 \nQ 34.1875 6.109375 38.703125 11.40625 \nQ 43.21875 16.703125 43.21875 25.484375 \nL 43.21875 27.484375 \nz\nM 52.203125 31.203125 \nL 52.203125 0 \nL 43.21875 0 \nL 43.21875 8.296875 \nQ 40.140625 3.328125 35.546875 0.953125 \nQ 30.953125 -1.421875 24.3125 -1.421875 \nQ 15.921875 -1.421875 10.953125 3.296875 \nQ 6 8.015625 6 15.921875 \nQ 6 25.140625 12.171875 29.828125 \nQ 18.359375 34.515625 30.609375 34.515625 \nL 43.21875 34.515625 \nL 43.21875 35.40625 \nQ 43.21875 41.609375 39.140625 45 \nQ 35.0625 48.390625 27.6875 48.390625 \nQ 23 48.390625 18.546875 47.265625 \nQ 14.109375 46.140625 10.015625 43.890625 \nL 10.015625 52.203125 \nQ 14.9375 54.109375 19.578125 55.046875 \nQ 24.21875 56 28.609375 56 \nQ 40.484375 56 46.34375 49.84375 \nQ 52.203125 43.703125 52.203125 31.203125 \nz\n\" id=\"DejaVuSans-97\"/>\n      <path d=\"M 56.203125 29.59375 \nL 56.203125 25.203125 \nL 14.890625 25.203125 \nQ 15.484375 15.921875 20.484375 11.0625 \nQ 25.484375 6.203125 34.421875 6.203125 \nQ 39.59375 6.203125 44.453125 7.46875 \nQ 49.3125 8.734375 54.109375 11.28125 \nL 54.109375 2.78125 \nQ 49.265625 0.734375 44.1875 -0.34375 \nQ 39.109375 -1.421875 33.890625 -1.421875 \nQ 20.796875 -1.421875 13.15625 6.1875 \nQ 5.515625 13.8125 5.515625 26.8125 \nQ 5.515625 40.234375 12.765625 48.109375 \nQ 20.015625 56 32.328125 56 \nQ 43.359375 56 49.78125 48.890625 \nQ 56.203125 41.796875 56.203125 29.59375 \nz\nM 47.21875 32.234375 \nQ 47.125 39.59375 43.09375 43.984375 \nQ 39.0625 48.390625 32.421875 48.390625 \nQ 24.90625 48.390625 20.390625 44.140625 \nQ 15.875 39.890625 15.1875 32.171875 \nz\n\" id=\"DejaVuSans-101\"/>\n     </defs>\n     <g style=\"fill:#262626;\" transform=\"translate(178.047997 56.722344)scale(0.11 -0.11)\">\n      <use xlink:href=\"#DejaVuSans-71\"/>\n      <use x=\"77.490234\" xlink:href=\"#DejaVuSans-114\"/>\n      <use x=\"118.603516\" xlink:href=\"#DejaVuSans-97\"/>\n      <use x=\"179.882812\" xlink:href=\"#DejaVuSans-100\"/>\n      <use x=\"243.359375\" xlink:href=\"#DejaVuSans-105\"/>\n      <use x=\"271.142578\" xlink:href=\"#DejaVuSans-101\"/>\n      <use x=\"332.666016\" xlink:href=\"#DejaVuSans-110\"/>\n      <use x=\"396.044922\" xlink:href=\"#DejaVuSans-116\"/>\n     </g>\n    </g>\n   </g>\n  </g>\n  <g id=\"axes_2\">\n   <g id=\"patch_8\">\n    <path d=\"M 276.407315 211.396386 \nL 479.316406 211.396386 \nL 479.316406 22.318125 \nL 276.407315 22.318125 \nz\n\" style=\"fill:#eaeaf2;\"/>\n   </g>\n   <g id=\"matplotlib.axis_3\">\n    <g id=\"xtick_6\">\n     <g id=\"line2d_19\">\n      <path clip-path=\"url(#p40424b4fd6)\" d=\"M 304.076737 211.396386 \nL 304.076737 22.318125 \n\" style=\"fill:none;stroke:#ffffff;stroke-linecap:round;\"/>\n     </g>\n     <g id=\"text_16\">\n      <!-- −4 -->\n      <g style=\"fill:#262626;\" transform=\"translate(295.968534 229.254667)scale(0.11 -0.11)\">\n       <use xlink:href=\"#DejaVuSans-8722\"/>\n       <use x=\"83.789062\" xlink:href=\"#DejaVuSans-52\"/>\n      </g>\n     </g>\n    </g>\n    <g id=\"xtick_7\">\n     <g id=\"line2d_20\">\n      <path clip-path=\"url(#p40424b4fd6)\" d=\"M 340.969299 211.396386 \nL 340.969299 22.318125 \n\" style=\"fill:none;stroke:#ffffff;stroke-linecap:round;\"/>\n     </g>\n     <g id=\"text_17\">\n      <!-- −2 -->\n      <g style=\"fill:#262626;\" transform=\"translate(332.861096 229.254667)scale(0.11 -0.11)\">\n       <use xlink:href=\"#DejaVuSans-8722\"/>\n       <use x=\"83.789062\" xlink:href=\"#DejaVuSans-50\"/>\n      </g>\n     </g>\n    </g>\n    <g id=\"xtick_8\">\n     <g id=\"line2d_21\">\n      <path clip-path=\"url(#p40424b4fd6)\" d=\"M 377.861861 211.396386 \nL 377.861861 22.318125 \n\" style=\"fill:none;stroke:#ffffff;stroke-linecap:round;\"/>\n     </g>\n     <g id=\"text_18\">\n      <!-- 0 -->\n      <g style=\"fill:#262626;\" transform=\"translate(374.362486 229.254667)scale(0.11 -0.11)\">\n       <use xlink:href=\"#DejaVuSans-48\"/>\n      </g>\n     </g>\n    </g>\n    <g id=\"xtick_9\">\n     <g id=\"line2d_22\">\n      <path clip-path=\"url(#p40424b4fd6)\" d=\"M 414.754423 211.396386 \nL 414.754423 22.318125 \n\" style=\"fill:none;stroke:#ffffff;stroke-linecap:round;\"/>\n     </g>\n     <g id=\"text_19\">\n      <!-- 2 -->\n      <g style=\"fill:#262626;\" transform=\"translate(411.255048 229.254667)scale(0.11 -0.11)\">\n       <use xlink:href=\"#DejaVuSans-50\"/>\n      </g>\n     </g>\n    </g>\n    <g id=\"xtick_10\">\n     <g id=\"line2d_23\">\n      <path clip-path=\"url(#p40424b4fd6)\" d=\"M 451.646985 211.396386 \nL 451.646985 22.318125 \n\" style=\"fill:none;stroke:#ffffff;stroke-linecap:round;\"/>\n     </g>\n     <g id=\"text_20\">\n      <!-- 4 -->\n      <g style=\"fill:#262626;\" transform=\"translate(448.14761 229.254667)scale(0.11 -0.11)\">\n       <use xlink:href=\"#DejaVuSans-52\"/>\n      </g>\n     </g>\n    </g>\n   </g>\n   <g id=\"matplotlib.axis_4\">\n    <g id=\"ytick_8\">\n     <g id=\"line2d_24\">\n      <path clip-path=\"url(#p40424b4fd6)\" d=\"M 276.407315 196.851904 \nL 479.316406 196.851904 \n\" style=\"fill:none;stroke:#ffffff;stroke-linecap:round;\"/>\n     </g>\n     <g id=\"text_21\">\n      <!-- −1 -->\n      <g style=\"fill:#262626;\" transform=\"translate(250.690909 201.031045)scale(0.11 -0.11)\">\n       <use xlink:href=\"#DejaVuSans-8722\"/>\n       <use x=\"83.789062\" xlink:href=\"#DejaVuSans-49\"/>\n      </g>\n     </g>\n    </g>\n    <g id=\"ytick_9\">\n     <g id=\"line2d_25\">\n      <path clip-path=\"url(#p40424b4fd6)\" d=\"M 276.407315 167.762941 \nL 479.316406 167.762941 \n\" style=\"fill:none;stroke:#ffffff;stroke-linecap:round;\"/>\n     </g>\n     <g id=\"text_22\">\n      <!-- 0 -->\n      <g style=\"fill:#262626;\" transform=\"translate(259.908565 171.942082)scale(0.11 -0.11)\">\n       <use xlink:href=\"#DejaVuSans-48\"/>\n      </g>\n     </g>\n    </g>\n    <g id=\"ytick_10\">\n     <g id=\"line2d_26\">\n      <path clip-path=\"url(#p40424b4fd6)\" d=\"M 276.407315 138.673978 \nL 479.316406 138.673978 \n\" style=\"fill:none;stroke:#ffffff;stroke-linecap:round;\"/>\n     </g>\n     <g id=\"text_23\">\n      <!-- 1 -->\n      <g style=\"fill:#262626;\" transform=\"translate(259.908565 142.853118)scale(0.11 -0.11)\">\n       <use xlink:href=\"#DejaVuSans-49\"/>\n      </g>\n     </g>\n    </g>\n    <g id=\"ytick_11\">\n     <g id=\"line2d_27\">\n      <path clip-path=\"url(#p40424b4fd6)\" d=\"M 276.407315 109.585015 \nL 479.316406 109.585015 \n\" style=\"fill:none;stroke:#ffffff;stroke-linecap:round;\"/>\n     </g>\n     <g id=\"text_24\">\n      <!-- 2 -->\n      <g style=\"fill:#262626;\" transform=\"translate(259.908565 113.764155)scale(0.11 -0.11)\">\n       <use xlink:href=\"#DejaVuSans-50\"/>\n      </g>\n     </g>\n    </g>\n    <g id=\"ytick_12\">\n     <g id=\"line2d_28\">\n      <path clip-path=\"url(#p40424b4fd6)\" d=\"M 276.407315 80.496051 \nL 479.316406 80.496051 \n\" style=\"fill:none;stroke:#ffffff;stroke-linecap:round;\"/>\n     </g>\n     <g id=\"text_25\">\n      <!-- 3 -->\n      <g style=\"fill:#262626;\" transform=\"translate(259.908565 84.675192)scale(0.11 -0.11)\">\n       <use xlink:href=\"#DejaVuSans-51\"/>\n      </g>\n     </g>\n    </g>\n    <g id=\"ytick_13\">\n     <g id=\"line2d_29\">\n      <path clip-path=\"url(#p40424b4fd6)\" d=\"M 276.407315 51.407088 \nL 479.316406 51.407088 \n\" style=\"fill:none;stroke:#ffffff;stroke-linecap:round;\"/>\n     </g>\n     <g id=\"text_26\">\n      <!-- 4 -->\n      <g style=\"fill:#262626;\" transform=\"translate(259.908565 55.586229)scale(0.11 -0.11)\">\n       <use xlink:href=\"#DejaVuSans-52\"/>\n      </g>\n     </g>\n    </g>\n    <g id=\"ytick_14\">\n     <g id=\"line2d_30\">\n      <path clip-path=\"url(#p40424b4fd6)\" d=\"M 276.407315 22.318125 \nL 479.316406 22.318125 \n\" style=\"fill:none;stroke:#ffffff;stroke-linecap:round;\"/>\n     </g>\n     <g id=\"text_27\">\n      <!-- 5 -->\n      <g style=\"fill:#262626;\" transform=\"translate(259.908565 26.497266)scale(0.11 -0.11)\">\n       <use xlink:href=\"#DejaVuSans-53\"/>\n      </g>\n     </g>\n    </g>\n   </g>\n   <g id=\"line2d_31\">\n    <path clip-path=\"url(#p40424b4fd6)\" d=\"M 285.630456 196.84926 \nL 321.082764 196.728807 \nL 331.238377 196.483256 \nL 337.701039 196.113759 \nL 342.50187 195.620353 \nL 346.379466 194.997258 \nL 349.518473 194.278591 \nL 352.288186 193.430266 \nL 354.873248 192.407918 \nL 357.273666 191.214865 \nL 359.489437 189.86786 \nL 361.705205 188.251674 \nL 363.920975 186.338289 \nL 366.136743 184.108633 \nL 368.352514 181.557848 \nL 370.752931 178.449508 \nL 373.522642 174.482211 \nL 377.400239 168.490746 \nL 382.939669 159.951776 \nL 385.709381 156.083974 \nL 388.109797 153.082542 \nL 390.325568 150.638237 \nL 392.541336 148.51536 \nL 394.757106 146.703703 \nL 396.972874 145.180655 \nL 399.188645 143.916296 \nL 401.58906 142.800223 \nL 404.174125 141.846656 \nL 406.943838 141.057363 \nL 410.082845 140.390106 \nL 413.775792 139.835176 \nL 418.20733 139.397675 \nL 423.931403 139.065295 \nL 432.05589 138.836787 \nL 445.535155 138.711812 \nL 470.093266 138.676622 \nL 470.093266 138.676622 \n\" style=\"fill:none;stroke:#4c72b0;stroke-linecap:round;stroke-width:2;\"/>\n   </g>\n   <g id=\"line2d_32\">\n    <path clip-path=\"url(#p40424b4fd6)\" d=\"M 285.630456 167.757656 \nL 315.358696 167.630604 \nL 325.14501 167.382199 \nL 331.423024 167.015687 \nL 336.039208 166.540598 \nL 339.916807 165.922285 \nL 343.055812 165.209434 \nL 345.825524 164.368621 \nL 348.410589 163.356717 \nL 350.811005 162.178547 \nL 353.026775 160.85308 \nL 355.242545 159.271603 \nL 357.458314 157.415937 \nL 359.858731 155.094109 \nL 362.443795 152.267401 \nL 366.321391 147.63517 \nL 369.829693 143.560348 \nL 371.860815 141.547777 \nL 373.522642 140.226064 \nL 374.815174 139.453303 \nL 376.107707 138.935454 \nL 377.215591 138.709657 \nL 378.323476 138.692187 \nL 379.431368 138.883554 \nL 380.539252 139.278293 \nL 381.831784 139.980774 \nL 383.308964 141.07003 \nL 384.970791 142.599958 \nL 387.001913 144.790923 \nL 390.510215 148.979239 \nL 394.387812 153.515619 \nL 396.972874 156.205012 \nL 399.373292 158.378658 \nL 401.58906 160.095755 \nL 403.804831 161.54627 \nL 406.205248 162.843964 \nL 408.605664 163.893093 \nL 411.190729 164.789132 \nL 414.145089 165.572803 \nL 417.468741 166.217594 \nL 421.34634 166.738553 \nL 426.147171 167.14983 \nL 432.425185 167.450908 \nL 441.657557 167.647873 \nL 458.460478 167.744301 \nL 470.093266 167.757656 \nL 470.093266 167.757656 \n\" style=\"fill:none;stroke:#dd8452;stroke-linecap:round;stroke-width:2;\"/>\n   </g>\n   <g id=\"patch_9\">\n    <path d=\"M 276.407315 211.396386 \nL 276.407315 22.318125 \n\" style=\"fill:none;stroke:#ffffff;stroke-linecap:square;stroke-linejoin:miter;stroke-width:1.25;\"/>\n   </g>\n   <g id=\"patch_10\">\n    <path d=\"M 479.316406 211.396386 \nL 479.316406 22.318125 \n\" style=\"fill:none;stroke:#ffffff;stroke-linecap:square;stroke-linejoin:miter;stroke-width:1.25;\"/>\n   </g>\n   <g id=\"patch_11\">\n    <path d=\"M 276.407315 211.396386 \nL 479.316406 211.396386 \n\" style=\"fill:none;stroke:#ffffff;stroke-linecap:square;stroke-linejoin:miter;stroke-width:1.25;\"/>\n   </g>\n   <g id=\"patch_12\">\n    <path d=\"M 276.407315 22.318125 \nL 479.316406 22.318125 \n\" style=\"fill:none;stroke:#ffffff;stroke-linecap:square;stroke-linejoin:miter;stroke-width:1.25;\"/>\n   </g>\n   <g id=\"text_28\">\n    <!-- Tanh -->\n    <defs>\n     <path d=\"M -0.296875 72.90625 \nL 61.375 72.90625 \nL 61.375 64.59375 \nL 35.5 64.59375 \nL 35.5 0 \nL 25.59375 0 \nL 25.59375 64.59375 \nL -0.296875 64.59375 \nz\n\" id=\"DejaVuSans-84\"/>\n     <path d=\"M 54.890625 33.015625 \nL 54.890625 0 \nL 45.90625 0 \nL 45.90625 32.71875 \nQ 45.90625 40.484375 42.875 44.328125 \nQ 39.84375 48.1875 33.796875 48.1875 \nQ 26.515625 48.1875 22.3125 43.546875 \nQ 18.109375 38.921875 18.109375 30.90625 \nL 18.109375 0 \nL 9.078125 0 \nL 9.078125 75.984375 \nL 18.109375 75.984375 \nL 18.109375 46.1875 \nQ 21.34375 51.125 25.703125 53.5625 \nQ 30.078125 56 35.796875 56 \nQ 45.21875 56 50.046875 50.171875 \nQ 54.890625 44.34375 54.890625 33.015625 \nz\n\" id=\"DejaVuSans-104\"/>\n    </defs>\n    <g style=\"fill:#262626;\" transform=\"translate(363.905298 16.318125)scale(0.12 -0.12)\">\n     <use xlink:href=\"#DejaVuSans-84\"/>\n     <use x=\"44.583984\" xlink:href=\"#DejaVuSans-97\"/>\n     <use x=\"105.863281\" xlink:href=\"#DejaVuSans-110\"/>\n     <use x=\"169.242188\" xlink:href=\"#DejaVuSans-104\"/>\n    </g>\n   </g>\n   <g id=\"legend_2\">\n    <g id=\"patch_13\">\n     <path d=\"M 388.538906 63.41 \nL 471.616406 63.41 \nQ 473.816406 63.41 473.816406 61.21 \nL 473.816406 30.018125 \nQ 473.816406 27.818125 471.616406 27.818125 \nL 388.538906 27.818125 \nQ 386.338906 27.818125 386.338906 30.018125 \nL 386.338906 61.21 \nQ 386.338906 63.41 388.538906 63.41 \nz\n\" style=\"fill:#eaeaf2;opacity:0.8;stroke:#cccccc;stroke-linejoin:miter;\"/>\n    </g>\n    <g id=\"line2d_33\">\n     <path d=\"M 390.738906 36.726406 \nL 412.738906 36.726406 \n\" style=\"fill:none;stroke:#4c72b0;stroke-linecap:round;stroke-width:2;\"/>\n    </g>\n    <g id=\"line2d_34\"/>\n    <g id=\"text_29\">\n     <!-- ActFn -->\n     <g style=\"fill:#262626;\" transform=\"translate(421.538906 40.576406)scale(0.11 -0.11)\">\n      <use xlink:href=\"#DejaVuSans-65\"/>\n      <use x=\"66.658203\" xlink:href=\"#DejaVuSans-99\"/>\n      <use x=\"121.638672\" xlink:href=\"#DejaVuSans-116\"/>\n      <use x=\"160.847656\" xlink:href=\"#DejaVuSans-70\"/>\n      <use x=\"218.367188\" xlink:href=\"#DejaVuSans-110\"/>\n     </g>\n    </g>\n    <g id=\"line2d_35\">\n     <path d=\"M 390.738906 52.872344 \nL 412.738906 52.872344 \n\" style=\"fill:none;stroke:#dd8452;stroke-linecap:round;stroke-width:2;\"/>\n    </g>\n    <g id=\"line2d_36\"/>\n    <g id=\"text_30\">\n     <!-- Gradient -->\n     <g style=\"fill:#262626;\" transform=\"translate(421.538906 56.722344)scale(0.11 -0.11)\">\n      <use xlink:href=\"#DejaVuSans-71\"/>\n      <use x=\"77.490234\" xlink:href=\"#DejaVuSans-114\"/>\n      <use x=\"118.603516\" xlink:href=\"#DejaVuSans-97\"/>\n      <use x=\"179.882812\" xlink:href=\"#DejaVuSans-100\"/>\n      <use x=\"243.359375\" xlink:href=\"#DejaVuSans-105\"/>\n      <use x=\"271.142578\" xlink:href=\"#DejaVuSans-101\"/>\n      <use x=\"332.666016\" xlink:href=\"#DejaVuSans-110\"/>\n      <use x=\"396.044922\" xlink:href=\"#DejaVuSans-116\"/>\n     </g>\n    </g>\n   </g>\n  </g>\n  <g id=\"axes_3\">\n   <g id=\"patch_14\">\n    <path d=\"M 32.916406 457.198125 \nL 235.825497 457.198125 \nL 235.825497 268.119864 \nL 32.916406 268.119864 \nz\n\" style=\"fill:#eaeaf2;\"/>\n   </g>\n   <g id=\"matplotlib.axis_5\">\n    <g id=\"xtick_11\">\n     <g id=\"line2d_37\">\n      <path clip-path=\"url(#p5f26291588)\" d=\"M 60.585828 457.198125 \nL 60.585828 268.119864 \n\" style=\"fill:none;stroke:#ffffff;stroke-linecap:round;\"/>\n     </g>\n     <g id=\"text_31\">\n      <!-- −4 -->\n      <g style=\"fill:#262626;\" transform=\"translate(52.477625 475.056406)scale(0.11 -0.11)\">\n       <use xlink:href=\"#DejaVuSans-8722\"/>\n       <use x=\"83.789062\" xlink:href=\"#DejaVuSans-52\"/>\n      </g>\n     </g>\n    </g>\n    <g id=\"xtick_12\">\n     <g id=\"line2d_38\">\n      <path clip-path=\"url(#p5f26291588)\" d=\"M 97.47839 457.198125 \nL 97.47839 268.119864 \n\" style=\"fill:none;stroke:#ffffff;stroke-linecap:round;\"/>\n     </g>\n     <g id=\"text_32\">\n      <!-- −2 -->\n      <g style=\"fill:#262626;\" transform=\"translate(89.370187 475.056406)scale(0.11 -0.11)\">\n       <use xlink:href=\"#DejaVuSans-8722\"/>\n       <use x=\"83.789062\" xlink:href=\"#DejaVuSans-50\"/>\n      </g>\n     </g>\n    </g>\n    <g id=\"xtick_13\">\n     <g id=\"line2d_39\">\n      <path clip-path=\"url(#p5f26291588)\" d=\"M 134.370952 457.198125 \nL 134.370952 268.119864 \n\" style=\"fill:none;stroke:#ffffff;stroke-linecap:round;\"/>\n     </g>\n     <g id=\"text_33\">\n      <!-- 0 -->\n      <g style=\"fill:#262626;\" transform=\"translate(130.871577 475.056406)scale(0.11 -0.11)\">\n       <use xlink:href=\"#DejaVuSans-48\"/>\n      </g>\n     </g>\n    </g>\n    <g id=\"xtick_14\">\n     <g id=\"line2d_40\">\n      <path clip-path=\"url(#p5f26291588)\" d=\"M 171.263514 457.198125 \nL 171.263514 268.119864 \n\" style=\"fill:none;stroke:#ffffff;stroke-linecap:round;\"/>\n     </g>\n     <g id=\"text_34\">\n      <!-- 2 -->\n      <g style=\"fill:#262626;\" transform=\"translate(167.764139 475.056406)scale(0.11 -0.11)\">\n       <use xlink:href=\"#DejaVuSans-50\"/>\n      </g>\n     </g>\n    </g>\n    <g id=\"xtick_15\">\n     <g id=\"line2d_41\">\n      <path clip-path=\"url(#p5f26291588)\" d=\"M 208.156076 457.198125 \nL 208.156076 268.119864 \n\" style=\"fill:none;stroke:#ffffff;stroke-linecap:round;\"/>\n     </g>\n     <g id=\"text_35\">\n      <!-- 4 -->\n      <g style=\"fill:#262626;\" transform=\"translate(204.656701 475.056406)scale(0.11 -0.11)\">\n       <use xlink:href=\"#DejaVuSans-52\"/>\n      </g>\n     </g>\n    </g>\n   </g>\n   <g id=\"matplotlib.axis_6\">\n    <g id=\"ytick_15\">\n     <g id=\"line2d_42\">\n      <path clip-path=\"url(#p5f26291588)\" d=\"M 32.916406 442.653643 \nL 235.825497 442.653643 \n\" style=\"fill:none;stroke:#ffffff;stroke-linecap:round;\"/>\n     </g>\n     <g id=\"text_36\">\n      <!-- −1 -->\n      <g style=\"fill:#262626;\" transform=\"translate(7.2 446.832784)scale(0.11 -0.11)\">\n       <use xlink:href=\"#DejaVuSans-8722\"/>\n       <use x=\"83.789062\" xlink:href=\"#DejaVuSans-49\"/>\n      </g>\n     </g>\n    </g>\n    <g id=\"ytick_16\">\n     <g id=\"line2d_43\">\n      <path clip-path=\"url(#p5f26291588)\" d=\"M 32.916406 413.56468 \nL 235.825497 413.56468 \n\" style=\"fill:none;stroke:#ffffff;stroke-linecap:round;\"/>\n     </g>\n     <g id=\"text_37\">\n      <!-- 0 -->\n      <g style=\"fill:#262626;\" transform=\"translate(16.417656 417.743821)scale(0.11 -0.11)\">\n       <use xlink:href=\"#DejaVuSans-48\"/>\n      </g>\n     </g>\n    </g>\n    <g id=\"ytick_17\">\n     <g id=\"line2d_44\">\n      <path clip-path=\"url(#p5f26291588)\" d=\"M 32.916406 384.475717 \nL 235.825497 384.475717 \n\" style=\"fill:none;stroke:#ffffff;stroke-linecap:round;\"/>\n     </g>\n     <g id=\"text_38\">\n      <!-- 1 -->\n      <g style=\"fill:#262626;\" transform=\"translate(16.417656 388.654858)scale(0.11 -0.11)\">\n       <use xlink:href=\"#DejaVuSans-49\"/>\n      </g>\n     </g>\n    </g>\n    <g id=\"ytick_18\">\n     <g id=\"line2d_45\">\n      <path clip-path=\"url(#p5f26291588)\" d=\"M 32.916406 355.386754 \nL 235.825497 355.386754 \n\" style=\"fill:none;stroke:#ffffff;stroke-linecap:round;\"/>\n     </g>\n     <g id=\"text_39\">\n      <!-- 2 -->\n      <g style=\"fill:#262626;\" transform=\"translate(16.417656 359.565894)scale(0.11 -0.11)\">\n       <use xlink:href=\"#DejaVuSans-50\"/>\n      </g>\n     </g>\n    </g>\n    <g id=\"ytick_19\">\n     <g id=\"line2d_46\">\n      <path clip-path=\"url(#p5f26291588)\" d=\"M 32.916406 326.297791 \nL 235.825497 326.297791 \n\" style=\"fill:none;stroke:#ffffff;stroke-linecap:round;\"/>\n     </g>\n     <g id=\"text_40\">\n      <!-- 3 -->\n      <g style=\"fill:#262626;\" transform=\"translate(16.417656 330.476931)scale(0.11 -0.11)\">\n       <use xlink:href=\"#DejaVuSans-51\"/>\n      </g>\n     </g>\n    </g>\n    <g id=\"ytick_20\">\n     <g id=\"line2d_47\">\n      <path clip-path=\"url(#p5f26291588)\" d=\"M 32.916406 297.208827 \nL 235.825497 297.208827 \n\" style=\"fill:none;stroke:#ffffff;stroke-linecap:round;\"/>\n     </g>\n     <g id=\"text_41\">\n      <!-- 4 -->\n      <g style=\"fill:#262626;\" transform=\"translate(16.417656 301.387968)scale(0.11 -0.11)\">\n       <use xlink:href=\"#DejaVuSans-52\"/>\n      </g>\n     </g>\n    </g>\n    <g id=\"ytick_21\">\n     <g id=\"line2d_48\">\n      <path clip-path=\"url(#p5f26291588)\" d=\"M 32.916406 268.119864 \nL 235.825497 268.119864 \n\" style=\"fill:none;stroke:#ffffff;stroke-linecap:round;\"/>\n     </g>\n     <g id=\"text_42\">\n      <!-- 5 -->\n      <g style=\"fill:#262626;\" transform=\"translate(16.417656 272.299005)scale(0.11 -0.11)\">\n       <use xlink:href=\"#DejaVuSans-53\"/>\n      </g>\n     </g>\n    </g>\n   </g>\n   <g id=\"line2d_49\">\n    <path clip-path=\"url(#p5f26291588)\" d=\"M 42.139547 413.56468 \nL 134.278624 413.56468 \nL 134.463272 413.419095 \nL 226.602357 268.119864 \nL 226.602357 268.119864 \n\" style=\"fill:none;stroke:#4c72b0;stroke-linecap:round;stroke-width:2;\"/>\n   </g>\n   <g id=\"line2d_50\">\n    <path clip-path=\"url(#p5f26291588)\" d=\"M 42.139547 413.56468 \nL 134.278624 413.56468 \nL 134.463272 384.475717 \nL 226.602357 384.475717 \nL 226.602357 384.475717 \n\" style=\"fill:none;stroke:#dd8452;stroke-linecap:round;stroke-width:2;\"/>\n   </g>\n   <g id=\"patch_15\">\n    <path d=\"M 32.916406 457.198125 \nL 32.916406 268.119864 \n\" style=\"fill:none;stroke:#ffffff;stroke-linecap:square;stroke-linejoin:miter;stroke-width:1.25;\"/>\n   </g>\n   <g id=\"patch_16\">\n    <path d=\"M 235.825497 457.198125 \nL 235.825497 268.119864 \n\" style=\"fill:none;stroke:#ffffff;stroke-linecap:square;stroke-linejoin:miter;stroke-width:1.25;\"/>\n   </g>\n   <g id=\"patch_17\">\n    <path d=\"M 32.916406 457.198125 \nL 235.825497 457.198125 \n\" style=\"fill:none;stroke:#ffffff;stroke-linecap:square;stroke-linejoin:miter;stroke-width:1.25;\"/>\n   </g>\n   <g id=\"patch_18\">\n    <path d=\"M 32.916406 268.119864 \nL 235.825497 268.119864 \n\" style=\"fill:none;stroke:#ffffff;stroke-linecap:square;stroke-linejoin:miter;stroke-width:1.25;\"/>\n   </g>\n   <g id=\"text_43\">\n    <!-- ReLU -->\n    <defs>\n     <path d=\"M 44.390625 34.1875 \nQ 47.5625 33.109375 50.5625 29.59375 \nQ 53.5625 26.078125 56.59375 19.921875 \nL 66.609375 0 \nL 56 0 \nL 46.6875 18.703125 \nQ 43.0625 26.03125 39.671875 28.421875 \nQ 36.28125 30.8125 30.421875 30.8125 \nL 19.671875 30.8125 \nL 19.671875 0 \nL 9.8125 0 \nL 9.8125 72.90625 \nL 32.078125 72.90625 \nQ 44.578125 72.90625 50.734375 67.671875 \nQ 56.890625 62.453125 56.890625 51.90625 \nQ 56.890625 45.015625 53.6875 40.46875 \nQ 50.484375 35.9375 44.390625 34.1875 \nz\nM 19.671875 64.796875 \nL 19.671875 38.921875 \nL 32.078125 38.921875 \nQ 39.203125 38.921875 42.84375 42.21875 \nQ 46.484375 45.515625 46.484375 51.90625 \nQ 46.484375 58.296875 42.84375 61.546875 \nQ 39.203125 64.796875 32.078125 64.796875 \nz\n\" id=\"DejaVuSans-82\"/>\n     <path d=\"M 9.8125 72.90625 \nL 19.671875 72.90625 \nL 19.671875 8.296875 \nL 55.171875 8.296875 \nL 55.171875 0 \nL 9.8125 0 \nz\n\" id=\"DejaVuSans-76\"/>\n     <path d=\"M 8.6875 72.90625 \nL 18.609375 72.90625 \nL 18.609375 28.609375 \nQ 18.609375 16.890625 22.84375 11.734375 \nQ 27.09375 6.59375 36.625 6.59375 \nQ 46.09375 6.59375 50.34375 11.734375 \nQ 54.59375 16.890625 54.59375 28.609375 \nL 54.59375 72.90625 \nL 64.5 72.90625 \nL 64.5 27.390625 \nQ 64.5 13.140625 57.4375 5.859375 \nQ 50.390625 -1.421875 36.625 -1.421875 \nQ 22.796875 -1.421875 15.734375 5.859375 \nQ 8.6875 13.140625 8.6875 27.390625 \nz\n\" id=\"DejaVuSans-85\"/>\n    </defs>\n    <g style=\"fill:#262626;\" transform=\"translate(119.345639 262.119864)scale(0.12 -0.12)\">\n     <use xlink:href=\"#DejaVuSans-82\"/>\n     <use x=\"64.982422\" xlink:href=\"#DejaVuSans-101\"/>\n     <use x=\"126.505859\" xlink:href=\"#DejaVuSans-76\"/>\n     <use x=\"177.21875\" xlink:href=\"#DejaVuSans-85\"/>\n    </g>\n   </g>\n   <g id=\"legend_3\">\n    <g id=\"patch_19\">\n     <path d=\"M 40.616406 309.211739 \nL 123.693906 309.211739 \nQ 125.893906 309.211739 125.893906 307.011739 \nL 125.893906 275.819864 \nQ 125.893906 273.619864 123.693906 273.619864 \nL 40.616406 273.619864 \nQ 38.416406 273.619864 38.416406 275.819864 \nL 38.416406 307.011739 \nQ 38.416406 309.211739 40.616406 309.211739 \nz\n\" style=\"fill:#eaeaf2;opacity:0.8;stroke:#cccccc;stroke-linejoin:miter;\"/>\n    </g>\n    <g id=\"line2d_51\">\n     <path d=\"M 42.816406 282.528145 \nL 64.816406 282.528145 \n\" style=\"fill:none;stroke:#4c72b0;stroke-linecap:round;stroke-width:2;\"/>\n    </g>\n    <g id=\"line2d_52\"/>\n    <g id=\"text_44\">\n     <!-- ActFn -->\n     <g style=\"fill:#262626;\" transform=\"translate(73.616406 286.378145)scale(0.11 -0.11)\">\n      <use xlink:href=\"#DejaVuSans-65\"/>\n      <use x=\"66.658203\" xlink:href=\"#DejaVuSans-99\"/>\n      <use x=\"121.638672\" xlink:href=\"#DejaVuSans-116\"/>\n      <use x=\"160.847656\" xlink:href=\"#DejaVuSans-70\"/>\n      <use x=\"218.367188\" xlink:href=\"#DejaVuSans-110\"/>\n     </g>\n    </g>\n    <g id=\"line2d_53\">\n     <path d=\"M 42.816406 298.674083 \nL 64.816406 298.674083 \n\" style=\"fill:none;stroke:#dd8452;stroke-linecap:round;stroke-width:2;\"/>\n    </g>\n    <g id=\"line2d_54\"/>\n    <g id=\"text_45\">\n     <!-- Gradient -->\n     <g style=\"fill:#262626;\" transform=\"translate(73.616406 302.524083)scale(0.11 -0.11)\">\n      <use xlink:href=\"#DejaVuSans-71\"/>\n      <use x=\"77.490234\" xlink:href=\"#DejaVuSans-114\"/>\n      <use x=\"118.603516\" xlink:href=\"#DejaVuSans-97\"/>\n      <use x=\"179.882812\" xlink:href=\"#DejaVuSans-100\"/>\n      <use x=\"243.359375\" xlink:href=\"#DejaVuSans-105\"/>\n      <use x=\"271.142578\" xlink:href=\"#DejaVuSans-101\"/>\n      <use x=\"332.666016\" xlink:href=\"#DejaVuSans-110\"/>\n      <use x=\"396.044922\" xlink:href=\"#DejaVuSans-116\"/>\n     </g>\n    </g>\n   </g>\n  </g>\n  <g id=\"axes_4\">\n   <g id=\"patch_20\">\n    <path d=\"M 276.407315 457.198125 \nL 479.316406 457.198125 \nL 479.316406 268.119864 \nL 276.407315 268.119864 \nz\n\" style=\"fill:#eaeaf2;\"/>\n   </g>\n   <g id=\"matplotlib.axis_7\">\n    <g id=\"xtick_16\">\n     <g id=\"line2d_55\">\n      <path clip-path=\"url(#pc5dfa33bfa)\" d=\"M 276.407315 457.198125 \nL 276.407315 268.119864 \n\" style=\"fill:none;stroke:#ffffff;stroke-linecap:round;\"/>\n     </g>\n     <g id=\"text_46\">\n      <!-- 0.0 -->\n      <defs>\n       <path d=\"M 10.6875 12.40625 \nL 21 12.40625 \nL 21 0 \nL 10.6875 0 \nz\n\" id=\"DejaVuSans-46\"/>\n      </defs>\n      <g style=\"fill:#262626;\" transform=\"translate(267.660597 475.056406)scale(0.11 -0.11)\">\n       <use xlink:href=\"#DejaVuSans-48\"/>\n       <use x=\"63.623047\" xlink:href=\"#DejaVuSans-46\"/>\n       <use x=\"95.410156\" xlink:href=\"#DejaVuSans-48\"/>\n      </g>\n     </g>\n    </g>\n    <g id=\"xtick_17\">\n     <g id=\"line2d_56\">\n      <path clip-path=\"url(#pc5dfa33bfa)\" d=\"M 316.989134 457.198125 \nL 316.989134 268.119864 \n\" style=\"fill:none;stroke:#ffffff;stroke-linecap:round;\"/>\n     </g>\n     <g id=\"text_47\">\n      <!-- 0.2 -->\n      <g style=\"fill:#262626;\" transform=\"translate(308.242415 475.056406)scale(0.11 -0.11)\">\n       <use xlink:href=\"#DejaVuSans-48\"/>\n       <use x=\"63.623047\" xlink:href=\"#DejaVuSans-46\"/>\n       <use x=\"95.410156\" xlink:href=\"#DejaVuSans-50\"/>\n      </g>\n     </g>\n    </g>\n    <g id=\"xtick_18\">\n     <g id=\"line2d_57\">\n      <path clip-path=\"url(#pc5dfa33bfa)\" d=\"M 357.570952 457.198125 \nL 357.570952 268.119864 \n\" style=\"fill:none;stroke:#ffffff;stroke-linecap:round;\"/>\n     </g>\n     <g id=\"text_48\">\n      <!-- 0.4 -->\n      <g style=\"fill:#262626;\" transform=\"translate(348.824233 475.056406)scale(0.11 -0.11)\">\n       <use xlink:href=\"#DejaVuSans-48\"/>\n       <use x=\"63.623047\" xlink:href=\"#DejaVuSans-46\"/>\n       <use x=\"95.410156\" xlink:href=\"#DejaVuSans-52\"/>\n      </g>\n     </g>\n    </g>\n    <g id=\"xtick_19\">\n     <g id=\"line2d_58\">\n      <path clip-path=\"url(#pc5dfa33bfa)\" d=\"M 398.15277 457.198125 \nL 398.15277 268.119864 \n\" style=\"fill:none;stroke:#ffffff;stroke-linecap:round;\"/>\n     </g>\n     <g id=\"text_49\">\n      <!-- 0.6 -->\n      <defs>\n       <path d=\"M 33.015625 40.375 \nQ 26.375 40.375 22.484375 35.828125 \nQ 18.609375 31.296875 18.609375 23.390625 \nQ 18.609375 15.53125 22.484375 10.953125 \nQ 26.375 6.390625 33.015625 6.390625 \nQ 39.65625 6.390625 43.53125 10.953125 \nQ 47.40625 15.53125 47.40625 23.390625 \nQ 47.40625 31.296875 43.53125 35.828125 \nQ 39.65625 40.375 33.015625 40.375 \nz\nM 52.59375 71.296875 \nL 52.59375 62.3125 \nQ 48.875 64.0625 45.09375 64.984375 \nQ 41.3125 65.921875 37.59375 65.921875 \nQ 27.828125 65.921875 22.671875 59.328125 \nQ 17.53125 52.734375 16.796875 39.40625 \nQ 19.671875 43.65625 24.015625 45.921875 \nQ 28.375 48.1875 33.59375 48.1875 \nQ 44.578125 48.1875 50.953125 41.515625 \nQ 57.328125 34.859375 57.328125 23.390625 \nQ 57.328125 12.15625 50.6875 5.359375 \nQ 44.046875 -1.421875 33.015625 -1.421875 \nQ 20.359375 -1.421875 13.671875 8.265625 \nQ 6.984375 17.96875 6.984375 36.375 \nQ 6.984375 53.65625 15.1875 63.9375 \nQ 23.390625 74.21875 37.203125 74.21875 \nQ 40.921875 74.21875 44.703125 73.484375 \nQ 48.484375 72.75 52.59375 71.296875 \nz\n\" id=\"DejaVuSans-54\"/>\n      </defs>\n      <g style=\"fill:#262626;\" transform=\"translate(389.406051 475.056406)scale(0.11 -0.11)\">\n       <use xlink:href=\"#DejaVuSans-48\"/>\n       <use x=\"63.623047\" xlink:href=\"#DejaVuSans-46\"/>\n       <use x=\"95.410156\" xlink:href=\"#DejaVuSans-54\"/>\n      </g>\n     </g>\n    </g>\n    <g id=\"xtick_20\">\n     <g id=\"line2d_59\">\n      <path clip-path=\"url(#pc5dfa33bfa)\" d=\"M 438.734588 457.198125 \nL 438.734588 268.119864 \n\" style=\"fill:none;stroke:#ffffff;stroke-linecap:round;\"/>\n     </g>\n     <g id=\"text_50\">\n      <!-- 0.8 -->\n      <defs>\n       <path d=\"M 31.78125 34.625 \nQ 24.75 34.625 20.71875 30.859375 \nQ 16.703125 27.09375 16.703125 20.515625 \nQ 16.703125 13.921875 20.71875 10.15625 \nQ 24.75 6.390625 31.78125 6.390625 \nQ 38.8125 6.390625 42.859375 10.171875 \nQ 46.921875 13.96875 46.921875 20.515625 \nQ 46.921875 27.09375 42.890625 30.859375 \nQ 38.875 34.625 31.78125 34.625 \nz\nM 21.921875 38.8125 \nQ 15.578125 40.375 12.03125 44.71875 \nQ 8.5 49.078125 8.5 55.328125 \nQ 8.5 64.0625 14.71875 69.140625 \nQ 20.953125 74.21875 31.78125 74.21875 \nQ 42.671875 74.21875 48.875 69.140625 \nQ 55.078125 64.0625 55.078125 55.328125 \nQ 55.078125 49.078125 51.53125 44.71875 \nQ 48 40.375 41.703125 38.8125 \nQ 48.828125 37.15625 52.796875 32.3125 \nQ 56.78125 27.484375 56.78125 20.515625 \nQ 56.78125 9.90625 50.3125 4.234375 \nQ 43.84375 -1.421875 31.78125 -1.421875 \nQ 19.734375 -1.421875 13.25 4.234375 \nQ 6.78125 9.90625 6.78125 20.515625 \nQ 6.78125 27.484375 10.78125 32.3125 \nQ 14.796875 37.15625 21.921875 38.8125 \nz\nM 18.3125 54.390625 \nQ 18.3125 48.734375 21.84375 45.5625 \nQ 25.390625 42.390625 31.78125 42.390625 \nQ 38.140625 42.390625 41.71875 45.5625 \nQ 45.3125 48.734375 45.3125 54.390625 \nQ 45.3125 60.0625 41.71875 63.234375 \nQ 38.140625 66.40625 31.78125 66.40625 \nQ 25.390625 66.40625 21.84375 63.234375 \nQ 18.3125 60.0625 18.3125 54.390625 \nz\n\" id=\"DejaVuSans-56\"/>\n      </defs>\n      <g style=\"fill:#262626;\" transform=\"translate(429.987869 475.056406)scale(0.11 -0.11)\">\n       <use xlink:href=\"#DejaVuSans-48\"/>\n       <use x=\"63.623047\" xlink:href=\"#DejaVuSans-46\"/>\n       <use x=\"95.410156\" xlink:href=\"#DejaVuSans-56\"/>\n      </g>\n     </g>\n    </g>\n    <g id=\"xtick_21\">\n     <g id=\"line2d_60\">\n      <path clip-path=\"url(#pc5dfa33bfa)\" d=\"M 479.316406 457.198125 \nL 479.316406 268.119864 \n\" style=\"fill:none;stroke:#ffffff;stroke-linecap:round;\"/>\n     </g>\n     <g id=\"text_51\">\n      <!-- 1.0 -->\n      <g style=\"fill:#262626;\" transform=\"translate(470.569687 475.056406)scale(0.11 -0.11)\">\n       <use xlink:href=\"#DejaVuSans-49\"/>\n       <use x=\"63.623047\" xlink:href=\"#DejaVuSans-46\"/>\n       <use x=\"95.410156\" xlink:href=\"#DejaVuSans-48\"/>\n      </g>\n     </g>\n    </g>\n   </g>\n   <g id=\"matplotlib.axis_8\">\n    <g id=\"ytick_22\">\n     <g id=\"line2d_61\">\n      <path clip-path=\"url(#pc5dfa33bfa)\" d=\"M 276.407315 457.198125 \nL 479.316406 457.198125 \n\" style=\"fill:none;stroke:#ffffff;stroke-linecap:round;\"/>\n     </g>\n     <g id=\"text_52\">\n      <!-- 0.0 -->\n      <g style=\"fill:#262626;\" transform=\"translate(249.413878 461.377266)scale(0.11 -0.11)\">\n       <use xlink:href=\"#DejaVuSans-48\"/>\n       <use x=\"63.623047\" xlink:href=\"#DejaVuSans-46\"/>\n       <use x=\"95.410156\" xlink:href=\"#DejaVuSans-48\"/>\n      </g>\n     </g>\n    </g>\n    <g id=\"ytick_23\">\n     <g id=\"line2d_62\">\n      <path clip-path=\"url(#pc5dfa33bfa)\" d=\"M 276.407315 419.382473 \nL 479.316406 419.382473 \n\" style=\"fill:none;stroke:#ffffff;stroke-linecap:round;\"/>\n     </g>\n     <g id=\"text_53\">\n      <!-- 0.2 -->\n      <g style=\"fill:#262626;\" transform=\"translate(249.413878 423.561613)scale(0.11 -0.11)\">\n       <use xlink:href=\"#DejaVuSans-48\"/>\n       <use x=\"63.623047\" xlink:href=\"#DejaVuSans-46\"/>\n       <use x=\"95.410156\" xlink:href=\"#DejaVuSans-50\"/>\n      </g>\n     </g>\n    </g>\n    <g id=\"ytick_24\">\n     <g id=\"line2d_63\">\n      <path clip-path=\"url(#pc5dfa33bfa)\" d=\"M 276.407315 381.566821 \nL 479.316406 381.566821 \n\" style=\"fill:none;stroke:#ffffff;stroke-linecap:round;\"/>\n     </g>\n     <g id=\"text_54\">\n      <!-- 0.4 -->\n      <g style=\"fill:#262626;\" transform=\"translate(249.413878 385.745961)scale(0.11 -0.11)\">\n       <use xlink:href=\"#DejaVuSans-48\"/>\n       <use x=\"63.623047\" xlink:href=\"#DejaVuSans-46\"/>\n       <use x=\"95.410156\" xlink:href=\"#DejaVuSans-52\"/>\n      </g>\n     </g>\n    </g>\n    <g id=\"ytick_25\">\n     <g id=\"line2d_64\">\n      <path clip-path=\"url(#pc5dfa33bfa)\" d=\"M 276.407315 343.751168 \nL 479.316406 343.751168 \n\" style=\"fill:none;stroke:#ffffff;stroke-linecap:round;\"/>\n     </g>\n     <g id=\"text_55\">\n      <!-- 0.6 -->\n      <g style=\"fill:#262626;\" transform=\"translate(249.413878 347.930309)scale(0.11 -0.11)\">\n       <use xlink:href=\"#DejaVuSans-48\"/>\n       <use x=\"63.623047\" xlink:href=\"#DejaVuSans-46\"/>\n       <use x=\"95.410156\" xlink:href=\"#DejaVuSans-54\"/>\n      </g>\n     </g>\n    </g>\n    <g id=\"ytick_26\">\n     <g id=\"line2d_65\">\n      <path clip-path=\"url(#pc5dfa33bfa)\" d=\"M 276.407315 305.935516 \nL 479.316406 305.935516 \n\" style=\"fill:none;stroke:#ffffff;stroke-linecap:round;\"/>\n     </g>\n     <g id=\"text_56\">\n      <!-- 0.8 -->\n      <g style=\"fill:#262626;\" transform=\"translate(249.413878 310.114657)scale(0.11 -0.11)\">\n       <use xlink:href=\"#DejaVuSans-48\"/>\n       <use x=\"63.623047\" xlink:href=\"#DejaVuSans-46\"/>\n       <use x=\"95.410156\" xlink:href=\"#DejaVuSans-56\"/>\n      </g>\n     </g>\n    </g>\n    <g id=\"ytick_27\">\n     <g id=\"line2d_66\">\n      <path clip-path=\"url(#pc5dfa33bfa)\" d=\"M 276.407315 268.119864 \nL 479.316406 268.119864 \n\" style=\"fill:none;stroke:#ffffff;stroke-linecap:round;\"/>\n     </g>\n     <g id=\"text_57\">\n      <!-- 1.0 -->\n      <g style=\"fill:#262626;\" transform=\"translate(249.413878 272.299005)scale(0.11 -0.11)\">\n       <use xlink:href=\"#DejaVuSans-49\"/>\n       <use x=\"63.623047\" xlink:href=\"#DejaVuSans-46\"/>\n       <use x=\"95.410156\" xlink:href=\"#DejaVuSans-48\"/>\n      </g>\n     </g>\n    </g>\n   </g>\n   <g id=\"patch_21\">\n    <path d=\"M 276.407315 457.198125 \nL 276.407315 268.119864 \n\" style=\"fill:none;stroke:#ffffff;stroke-linecap:square;stroke-linejoin:miter;stroke-width:1.25;\"/>\n   </g>\n   <g id=\"patch_22\">\n    <path d=\"M 479.316406 457.198125 \nL 479.316406 268.119864 \n\" style=\"fill:none;stroke:#ffffff;stroke-linecap:square;stroke-linejoin:miter;stroke-width:1.25;\"/>\n   </g>\n   <g id=\"patch_23\">\n    <path d=\"M 276.407315 457.198125 \nL 479.316406 457.198125 \n\" style=\"fill:none;stroke:#ffffff;stroke-linecap:square;stroke-linejoin:miter;stroke-width:1.25;\"/>\n   </g>\n   <g id=\"patch_24\">\n    <path d=\"M 276.407315 268.119864 \nL 479.316406 268.119864 \n\" style=\"fill:none;stroke:#ffffff;stroke-linecap:square;stroke-linejoin:miter;stroke-width:1.25;\"/>\n   </g>\n  </g>\n </g>\n <defs>\n  <clipPath id=\"pcc9d4bb644\">\n   <rect height=\"189.078261\" width=\"202.909091\" x=\"32.916406\" y=\"22.318125\"/>\n  </clipPath>\n  <clipPath id=\"p40424b4fd6\">\n   <rect height=\"189.078261\" width=\"202.909091\" x=\"276.407315\" y=\"22.318125\"/>\n  </clipPath>\n  <clipPath id=\"p5f26291588\">\n   <rect height=\"189.078261\" width=\"202.909091\" x=\"32.916406\" y=\"268.119864\"/>\n  </clipPath>\n  <clipPath id=\"pc5dfa33bfa\">\n   <rect height=\"189.078261\" width=\"202.909091\" x=\"276.407315\" y=\"268.119864\"/>\n  </clipPath>\n </defs>\n</svg>\n"
          },
          "metadata": {}
        }
      ]
    },
    {
      "cell_type": "markdown",
      "source": [
        "## Let's Create the Model for FashionMNIST"
      ],
      "metadata": {
        "id": "gWe6zxsuImuE"
      }
    },
    {
      "cell_type": "code",
      "source": [
        "class FashionMNISTNetwork(nn.Module):\n",
        "  # 28*28 image \n",
        "  # 10 classes \n",
        "  def __init__(self, act_fn, x=None, num_inputs = 784, num_hidden_1 = 256, num_hidden_2 = 128, num_hidden_3 = 64, num_outputs = 10):\n",
        "    super().__init__()\n",
        "\n",
        "    self.linear1 = nn.Linear(num_inputs, num_hidden_1)\n",
        "    self.act1 = act_fn()\n",
        "    self.linear2 = nn.Linear(num_hidden_1, num_hidden_2)\n",
        "    self.act2 = act_fn()\n",
        "    self.linear3 = nn.Linear(num_hidden_2, num_hidden_3)\n",
        "    self.act3 = act_fn()\n",
        "    self.linear4 = nn.Linear(num_hidden_3, num_outputs)\n",
        "    \n",
        "    # save all hyper params \n",
        "    self.config ={\n",
        "        \"act_fn\": act_fn().config, \n",
        "        \"input_size\": num_inputs, \n",
        "        \"hidden_size\": [num_hidden_1, num_hidden_2, num_hidden_3], \n",
        "        \"output_size\": num_outputs\n",
        "    }\n",
        "  \n",
        "  def forward(self, x):\n",
        "    # reshape first\n",
        "    # need 1 column only, decide how much row should be given \n",
        "    x = x.view(-1, 1)\n",
        "    x = self.linear1(x)\n",
        "    x = self.act1(x)\n",
        "    x = self.linear2(x)\n",
        "    x = self.act2(x)\n",
        "    x = self.linear3(x)\n",
        "    x = self.act3(x)\n",
        "    x = self.linear4(x)\n",
        "    return x\n",
        "\n"
      ],
      "metadata": {
        "id": "URFK7uiM9PTt"
      },
      "execution_count": 35,
      "outputs": []
    },
    {
      "cell_type": "code",
      "source": [
        "for key, value in act_fn_by_name.items():\n",
        "\n",
        "  model = FashionMNISTNetwork(value)\n",
        "  for name, param in model.named_parameters():\n",
        "    print(\"Name {0}, Param {1}\".format(name, param))\n",
        "    print(model)\n",
        "  break"
      ],
      "metadata": {
        "colab": {
          "base_uri": "https://localhost:8080/"
        },
        "id": "2EYwclEcK9cs",
        "outputId": "608d0899-7e11-45cb-a32f-b25bd359add0"
      },
      "execution_count": 36,
      "outputs": [
        {
          "output_type": "stream",
          "name": "stdout",
          "text": [
            "Name linear1.weight, Param Parameter containing:\n",
            "tensor([[-0.0021, -0.0067, -0.0189,  ..., -0.0307, -0.0276, -0.0291],\n",
            "        [-0.0013, -0.0151, -0.0053,  ..., -0.0339,  0.0081,  0.0091],\n",
            "        [-0.0107,  0.0291, -0.0106,  ...,  0.0153, -0.0352,  0.0286],\n",
            "        ...,\n",
            "        [-0.0349, -0.0006,  0.0113,  ..., -0.0287,  0.0326,  0.0246],\n",
            "        [-0.0170, -0.0216, -0.0355,  ..., -0.0100, -0.0306, -0.0158],\n",
            "        [-0.0082, -0.0302, -0.0262,  ..., -0.0135,  0.0037, -0.0044]],\n",
            "       requires_grad=True)\n",
            "FashionMNISTNetwork(\n",
            "  (linear1): Linear(in_features=784, out_features=256, bias=True)\n",
            "  (act1): Sigmoid()\n",
            "  (linear2): Linear(in_features=256, out_features=128, bias=True)\n",
            "  (act2): Sigmoid()\n",
            "  (linear3): Linear(in_features=128, out_features=64, bias=True)\n",
            "  (act3): Sigmoid()\n",
            "  (linear4): Linear(in_features=64, out_features=10, bias=True)\n",
            ")\n",
            "Name linear1.bias, Param Parameter containing:\n",
            "tensor([-0.0320, -0.0181, -0.0257, -0.0159, -0.0106, -0.0173,  0.0174,  0.0325,\n",
            "        -0.0100, -0.0078,  0.0247,  0.0250,  0.0125, -0.0332,  0.0347, -0.0259,\n",
            "        -0.0111, -0.0209,  0.0328,  0.0318,  0.0245,  0.0322, -0.0075,  0.0162,\n",
            "         0.0131,  0.0015,  0.0185, -0.0352,  0.0320,  0.0205,  0.0239, -0.0069,\n",
            "         0.0109,  0.0280,  0.0105,  0.0344,  0.0024, -0.0027, -0.0009,  0.0084,\n",
            "         0.0354, -0.0009, -0.0248,  0.0171,  0.0101, -0.0174,  0.0181,  0.0117,\n",
            "        -0.0041,  0.0351,  0.0077, -0.0178,  0.0045, -0.0088, -0.0315, -0.0058,\n",
            "         0.0266,  0.0230, -0.0097,  0.0286, -0.0177, -0.0207,  0.0005, -0.0317,\n",
            "        -0.0252, -0.0226, -0.0089,  0.0045, -0.0032, -0.0141,  0.0119,  0.0269,\n",
            "         0.0294,  0.0107, -0.0318,  0.0147, -0.0161,  0.0047, -0.0323,  0.0224,\n",
            "        -0.0272,  0.0135, -0.0180,  0.0197,  0.0174, -0.0082, -0.0085,  0.0210,\n",
            "         0.0323,  0.0293,  0.0123,  0.0309,  0.0292,  0.0258,  0.0063, -0.0205,\n",
            "         0.0260, -0.0337, -0.0307, -0.0160,  0.0095, -0.0207,  0.0054,  0.0057,\n",
            "        -0.0032, -0.0004, -0.0340, -0.0082, -0.0207,  0.0317, -0.0271, -0.0246,\n",
            "        -0.0268,  0.0155,  0.0304, -0.0128,  0.0253,  0.0030, -0.0272,  0.0120,\n",
            "         0.0248,  0.0060, -0.0100, -0.0049,  0.0217, -0.0160, -0.0068, -0.0219,\n",
            "         0.0300, -0.0330,  0.0175,  0.0312, -0.0061,  0.0061,  0.0243,  0.0052,\n",
            "         0.0312,  0.0298,  0.0002,  0.0329, -0.0214, -0.0161, -0.0241, -0.0129,\n",
            "        -0.0263,  0.0256, -0.0054, -0.0272,  0.0223, -0.0283, -0.0184,  0.0351,\n",
            "        -0.0245, -0.0260,  0.0165,  0.0195,  0.0123, -0.0159, -0.0260, -0.0229,\n",
            "         0.0168, -0.0091,  0.0122, -0.0021, -0.0146,  0.0305, -0.0296, -0.0060,\n",
            "         0.0104,  0.0160,  0.0328,  0.0119, -0.0243,  0.0331, -0.0193,  0.0115,\n",
            "        -0.0005, -0.0273, -0.0208,  0.0014,  0.0178,  0.0036,  0.0247, -0.0101,\n",
            "         0.0258, -0.0157, -0.0034, -0.0321, -0.0190, -0.0040,  0.0197, -0.0202,\n",
            "        -0.0014,  0.0085, -0.0027,  0.0170,  0.0099,  0.0317, -0.0327,  0.0355,\n",
            "        -0.0036,  0.0084, -0.0298, -0.0067,  0.0245, -0.0138, -0.0229,  0.0062,\n",
            "         0.0126,  0.0209,  0.0097,  0.0160,  0.0323,  0.0209,  0.0326, -0.0318,\n",
            "         0.0197,  0.0007, -0.0308,  0.0264, -0.0031,  0.0347,  0.0121,  0.0283,\n",
            "         0.0200,  0.0122,  0.0147,  0.0145,  0.0176, -0.0305,  0.0092, -0.0261,\n",
            "         0.0199, -0.0195,  0.0124,  0.0306, -0.0107, -0.0165,  0.0210,  0.0289,\n",
            "         0.0186, -0.0173,  0.0262,  0.0016, -0.0166,  0.0007,  0.0262,  0.0129,\n",
            "         0.0043, -0.0124, -0.0042,  0.0090,  0.0044, -0.0231,  0.0290, -0.0244],\n",
            "       requires_grad=True)\n",
            "FashionMNISTNetwork(\n",
            "  (linear1): Linear(in_features=784, out_features=256, bias=True)\n",
            "  (act1): Sigmoid()\n",
            "  (linear2): Linear(in_features=256, out_features=128, bias=True)\n",
            "  (act2): Sigmoid()\n",
            "  (linear3): Linear(in_features=128, out_features=64, bias=True)\n",
            "  (act3): Sigmoid()\n",
            "  (linear4): Linear(in_features=64, out_features=10, bias=True)\n",
            ")\n",
            "Name linear2.weight, Param Parameter containing:\n",
            "tensor([[ 0.0164,  0.0415, -0.0396,  ..., -0.0216, -0.0213, -0.0620],\n",
            "        [-0.0315,  0.0280, -0.0444,  ...,  0.0472, -0.0110,  0.0421],\n",
            "        [ 0.0134,  0.0054,  0.0012,  ..., -0.0118, -0.0509, -0.0409],\n",
            "        ...,\n",
            "        [-0.0048, -0.0533,  0.0057,  ..., -0.0435, -0.0435,  0.0265],\n",
            "        [ 0.0447, -0.0587,  0.0169,  ..., -0.0163,  0.0546, -0.0147],\n",
            "        [ 0.0616, -0.0056, -0.0408,  ..., -0.0367,  0.0593,  0.0004]],\n",
            "       requires_grad=True)\n",
            "FashionMNISTNetwork(\n",
            "  (linear1): Linear(in_features=784, out_features=256, bias=True)\n",
            "  (act1): Sigmoid()\n",
            "  (linear2): Linear(in_features=256, out_features=128, bias=True)\n",
            "  (act2): Sigmoid()\n",
            "  (linear3): Linear(in_features=128, out_features=64, bias=True)\n",
            "  (act3): Sigmoid()\n",
            "  (linear4): Linear(in_features=64, out_features=10, bias=True)\n",
            ")\n",
            "Name linear2.bias, Param Parameter containing:\n",
            "tensor([ 0.0112,  0.0569, -0.0090,  0.0322,  0.0568,  0.0136,  0.0095, -0.0229,\n",
            "         0.0224, -0.0484,  0.0414, -0.0038,  0.0487, -0.0123,  0.0374, -0.0576,\n",
            "         0.0268, -0.0407,  0.0066,  0.0289, -0.0106, -0.0211,  0.0018, -0.0048,\n",
            "        -0.0159, -0.0490, -0.0127,  0.0153, -0.0175,  0.0182, -0.0461,  0.0174,\n",
            "         0.0446, -0.0395, -0.0436,  0.0019, -0.0124, -0.0587,  0.0490,  0.0332,\n",
            "        -0.0479, -0.0382,  0.0612,  0.0289,  0.0278, -0.0386,  0.0317, -0.0384,\n",
            "        -0.0048, -0.0498,  0.0388, -0.0447,  0.0293, -0.0228,  0.0222, -0.0078,\n",
            "        -0.0498, -0.0444, -0.0430, -0.0277,  0.0079,  0.0183,  0.0222, -0.0116,\n",
            "        -0.0050,  0.0334, -0.0361,  0.0489, -0.0076, -0.0223,  0.0365, -0.0218,\n",
            "         0.0593,  0.0098,  0.0023,  0.0583,  0.0053,  0.0500,  0.0460,  0.0263,\n",
            "        -0.0004, -0.0551,  0.0414,  0.0610,  0.0330, -0.0221,  0.0332, -0.0046,\n",
            "         0.0463, -0.0274,  0.0165,  0.0381, -0.0261,  0.0252,  0.0373, -0.0463,\n",
            "        -0.0086, -0.0087,  0.0323, -0.0579,  0.0420, -0.0157,  0.0294, -0.0602,\n",
            "        -0.0324, -0.0337, -0.0419,  0.0322,  0.0121, -0.0248, -0.0444, -0.0498,\n",
            "        -0.0206, -0.0178,  0.0411, -0.0093,  0.0080,  0.0151,  0.0483, -0.0560,\n",
            "         0.0526, -0.0472, -0.0623, -0.0530,  0.0535,  0.0130, -0.0306, -0.0423],\n",
            "       requires_grad=True)\n",
            "FashionMNISTNetwork(\n",
            "  (linear1): Linear(in_features=784, out_features=256, bias=True)\n",
            "  (act1): Sigmoid()\n",
            "  (linear2): Linear(in_features=256, out_features=128, bias=True)\n",
            "  (act2): Sigmoid()\n",
            "  (linear3): Linear(in_features=128, out_features=64, bias=True)\n",
            "  (act3): Sigmoid()\n",
            "  (linear4): Linear(in_features=64, out_features=10, bias=True)\n",
            ")\n",
            "Name linear3.weight, Param Parameter containing:\n",
            "tensor([[-0.0532, -0.0776, -0.0144,  ..., -0.0780,  0.0428,  0.0663],\n",
            "        [-0.0814,  0.0531,  0.0241,  ...,  0.0087, -0.0387,  0.0637],\n",
            "        [ 0.0298,  0.0211,  0.0353,  ..., -0.0565, -0.0418,  0.0170],\n",
            "        ...,\n",
            "        [-0.0726, -0.0803,  0.0081,  ...,  0.0094, -0.0717, -0.0864],\n",
            "        [-0.0845,  0.0056, -0.0660,  ...,  0.0336,  0.0532,  0.0403],\n",
            "        [-0.0025,  0.0115, -0.0630,  ...,  0.0799, -0.0836, -0.0413]],\n",
            "       requires_grad=True)\n",
            "FashionMNISTNetwork(\n",
            "  (linear1): Linear(in_features=784, out_features=256, bias=True)\n",
            "  (act1): Sigmoid()\n",
            "  (linear2): Linear(in_features=256, out_features=128, bias=True)\n",
            "  (act2): Sigmoid()\n",
            "  (linear3): Linear(in_features=128, out_features=64, bias=True)\n",
            "  (act3): Sigmoid()\n",
            "  (linear4): Linear(in_features=64, out_features=10, bias=True)\n",
            ")\n",
            "Name linear3.bias, Param Parameter containing:\n",
            "tensor([ 0.0492,  0.0256, -0.0450,  0.0138, -0.0306,  0.0702, -0.0495,  0.0647,\n",
            "        -0.0691,  0.0405,  0.0497, -0.0157, -0.0541,  0.0250, -0.0388, -0.0131,\n",
            "         0.0154, -0.0242,  0.0469, -0.0613, -0.0812, -0.0075, -0.0680,  0.0475,\n",
            "        -0.0684, -0.0599, -0.0561, -0.0566, -0.0551, -0.0614, -0.0851, -0.0073,\n",
            "        -0.0139,  0.0298,  0.0031,  0.0377,  0.0406,  0.0847,  0.0093,  0.0473,\n",
            "        -0.0446, -0.0820,  0.0510,  0.0611,  0.0579,  0.0018, -0.0719, -0.0022,\n",
            "         0.0516, -0.0018,  0.0402,  0.0632, -0.0159, -0.0666, -0.0207,  0.0866,\n",
            "        -0.0241,  0.0135,  0.0599,  0.0315,  0.0232,  0.0502, -0.0808,  0.0114],\n",
            "       requires_grad=True)\n",
            "FashionMNISTNetwork(\n",
            "  (linear1): Linear(in_features=784, out_features=256, bias=True)\n",
            "  (act1): Sigmoid()\n",
            "  (linear2): Linear(in_features=256, out_features=128, bias=True)\n",
            "  (act2): Sigmoid()\n",
            "  (linear3): Linear(in_features=128, out_features=64, bias=True)\n",
            "  (act3): Sigmoid()\n",
            "  (linear4): Linear(in_features=64, out_features=10, bias=True)\n",
            ")\n",
            "Name linear4.weight, Param Parameter containing:\n",
            "tensor([[ 4.5721e-02,  5.2960e-02, -6.8545e-02,  4.0334e-03, -7.2123e-02,\n",
            "         -8.9390e-02,  1.4599e-02,  1.6011e-03,  3.1965e-02,  7.4717e-03,\n",
            "          7.0250e-02, -2.1945e-02, -4.3369e-02, -7.4443e-02, -7.1213e-02,\n",
            "          1.1265e-01,  3.7333e-04,  7.7233e-02, -1.2273e-01,  5.4992e-02,\n",
            "          2.0079e-02, -6.0240e-02,  1.1949e-01,  7.1773e-02, -8.2011e-03,\n",
            "          6.6816e-02,  1.4424e-02, -6.0121e-02,  6.3390e-03, -7.6043e-02,\n",
            "          1.3496e-02, -5.6416e-02, -9.5585e-02,  1.0255e-01,  6.6604e-02,\n",
            "         -9.2554e-02,  8.6614e-02,  6.7999e-03,  5.8372e-03,  1.2881e-02,\n",
            "         -5.7238e-02,  8.3789e-02,  1.1985e-01, -1.3491e-02,  8.2110e-02,\n",
            "          4.8511e-02, -3.8281e-02,  3.5346e-02, -5.4226e-02,  6.8119e-02,\n",
            "         -9.9218e-02, -2.7916e-02, -1.0463e-01, -6.0194e-02,  7.3088e-02,\n",
            "         -2.6609e-03, -1.0698e-01, -2.6139e-02,  1.1438e-02, -1.6140e-02,\n",
            "         -1.0945e-01,  1.7021e-02, -1.7037e-02, -3.7380e-02],\n",
            "        [ 8.9860e-02,  2.6893e-02,  3.8821e-02,  6.0161e-02,  4.3870e-02,\n",
            "         -1.2452e-01,  1.1721e-01,  9.7318e-02, -2.7069e-02, -1.1162e-01,\n",
            "          6.8506e-02,  2.3058e-02,  7.8426e-02, -8.6698e-02,  1.1481e-02,\n",
            "          9.6484e-02,  5.2066e-02, -2.8934e-02,  8.5097e-03,  1.1495e-01,\n",
            "         -1.0960e-01,  8.7341e-02,  5.7680e-02,  2.8081e-02, -5.5289e-03,\n",
            "         -4.7858e-03,  9.0747e-02, -1.0643e-01,  9.5468e-02,  5.1178e-02,\n",
            "          2.7023e-03,  8.4372e-02,  1.2508e-02, -1.2506e-02,  1.1991e-01,\n",
            "          1.2489e-01,  2.7837e-02,  7.8955e-02, -1.8162e-02, -1.6192e-02,\n",
            "          9.1468e-02,  5.5158e-02, -6.7074e-02, -6.8102e-02,  1.2242e-01,\n",
            "         -1.4140e-02, -9.8962e-02,  1.1425e-01,  1.9795e-02,  1.1572e-01,\n",
            "         -1.0233e-01, -3.3530e-02, -1.0911e-01,  1.0666e-01,  8.1446e-02,\n",
            "         -3.5968e-02,  9.0142e-02,  9.6669e-02, -9.0821e-02, -9.2111e-02,\n",
            "         -4.2762e-02,  1.0040e-01, -3.8350e-02, -9.1550e-02],\n",
            "        [-1.9560e-03,  8.8799e-02,  1.0005e-01,  1.9851e-02, -1.8189e-02,\n",
            "         -1.0954e-01, -8.2896e-02, -8.4590e-02,  5.1245e-02, -8.5601e-03,\n",
            "          2.4250e-02, -1.0633e-01, -6.1780e-02, -4.7048e-02,  1.0924e-01,\n",
            "          1.1368e-01,  1.9923e-02,  1.3084e-02, -9.7499e-02,  5.4015e-02,\n",
            "          1.4903e-02,  1.2022e-01,  2.6984e-02, -8.6480e-02, -6.9513e-02,\n",
            "          8.6989e-02,  1.8790e-02, -2.8353e-03, -7.0233e-02,  4.8430e-03,\n",
            "         -1.1332e-01,  9.1826e-02, -8.9553e-02, -2.7036e-02, -1.0694e-01,\n",
            "         -8.7871e-02,  8.5534e-02,  5.5556e-02, -4.5279e-02,  6.0747e-02,\n",
            "         -4.8422e-02, -5.9870e-02, -8.5223e-02,  7.2727e-02,  2.5889e-02,\n",
            "         -1.6608e-02, -5.7743e-02,  1.4273e-02, -1.0054e-01, -5.7937e-02,\n",
            "          6.2045e-02,  8.1298e-02,  8.7095e-02,  6.0257e-02,  3.8633e-02,\n",
            "          6.5058e-02,  9.3896e-02, -1.1465e-01,  4.2960e-02,  2.2315e-02,\n",
            "          7.0779e-02, -4.5075e-02,  7.6279e-02, -3.1219e-02],\n",
            "        [-4.9564e-02, -6.2345e-02,  3.8335e-02,  2.5060e-02,  6.7291e-02,\n",
            "         -5.7477e-02,  4.3030e-02, -1.1607e-02, -9.0262e-02,  7.8184e-03,\n",
            "         -1.0089e-01,  1.2221e-01, -4.8212e-02, -7.3907e-02, -9.9188e-02,\n",
            "         -8.4894e-02, -5.9896e-02, -1.3090e-03,  1.0265e-01,  2.0338e-02,\n",
            "         -2.4023e-02, -6.4183e-02,  1.1735e-01,  1.1956e-01, -5.9949e-02,\n",
            "         -1.1658e-01, -9.4138e-02,  1.2249e-01, -3.1874e-05,  6.3804e-02,\n",
            "         -1.0211e-01, -4.5235e-02,  4.1893e-02,  1.0541e-01, -1.2275e-01,\n",
            "          3.2202e-02, -1.0007e-01,  5.3256e-02,  9.3557e-02,  2.5965e-02,\n",
            "          1.1705e-01,  8.8557e-02, -8.8451e-02, -1.2047e-01, -2.1910e-02,\n",
            "         -1.1174e-01, -2.0241e-02,  2.3465e-02,  3.6452e-02, -1.5943e-02,\n",
            "         -1.6508e-02, -9.0095e-03,  8.0770e-02,  7.4370e-02, -1.0350e-01,\n",
            "         -2.3912e-02, -8.6224e-02, -2.5250e-02,  4.9264e-03, -9.4377e-02,\n",
            "         -2.4475e-03, -1.1913e-01,  1.2362e-01,  7.3208e-02],\n",
            "        [ 3.0976e-02, -7.2599e-02,  1.2996e-02,  1.2539e-02,  1.8883e-02,\n",
            "         -1.4267e-02,  7.6000e-02,  2.6906e-02, -4.7678e-02,  9.9818e-02,\n",
            "         -8.0676e-02, -5.7975e-02, -5.6148e-02, -1.0706e-02,  1.1383e-01,\n",
            "         -1.1434e-01, -1.1471e-01,  3.1181e-02, -7.9405e-02, -8.6659e-03,\n",
            "          1.1464e-02, -9.0166e-02,  5.6647e-02,  3.3317e-02,  7.7258e-02,\n",
            "         -3.7543e-02, -1.4821e-02,  5.9542e-02,  1.5066e-02,  5.9047e-02,\n",
            "          1.7230e-02, -1.1599e-01,  3.9460e-02,  4.9053e-03, -6.0463e-02,\n",
            "          2.1705e-02,  9.3699e-02, -4.2264e-02, -5.0150e-02, -1.1164e-02,\n",
            "          5.4822e-02, -1.0443e-01, -1.9405e-03, -6.3272e-02, -5.2795e-02,\n",
            "         -6.9071e-02, -2.9811e-02, -2.6156e-03,  7.1917e-02,  5.7723e-02,\n",
            "         -1.9226e-02, -8.0179e-02, -1.6099e-03,  7.0222e-02,  5.2688e-02,\n",
            "         -8.1357e-02,  1.2118e-01,  7.3357e-02, -8.0328e-02, -1.1956e-01,\n",
            "         -7.2078e-02,  2.4651e-02,  1.1644e-01,  1.0574e-01],\n",
            "        [ 1.5474e-02, -7.0741e-02,  1.1316e-01, -4.6001e-02, -5.0038e-02,\n",
            "         -4.0728e-02, -8.4665e-02, -8.4632e-02, -6.0673e-02, -1.3022e-02,\n",
            "         -3.2419e-02, -1.1434e-01, -1.9720e-02, -1.7642e-02,  3.5689e-02,\n",
            "         -2.0863e-02,  2.5512e-02, -1.0084e-01, -1.0865e-01, -7.0047e-02,\n",
            "          4.8535e-02,  9.4168e-02, -1.0232e-02, -4.9743e-02, -2.8101e-02,\n",
            "          1.1105e-01, -1.1462e-01,  9.5648e-02, -8.5252e-02,  1.8191e-02,\n",
            "          5.0375e-02, -9.2527e-02,  1.2202e-01,  5.4203e-03,  7.0323e-02,\n",
            "          7.1064e-02,  2.5710e-02,  8.5321e-02, -3.0494e-02, -2.1900e-02,\n",
            "          1.0175e-01,  5.0442e-02, -9.5957e-02, -2.6882e-02,  9.9330e-02,\n",
            "         -5.8005e-03,  7.3704e-02, -7.6162e-03,  6.8151e-02, -1.1309e-01,\n",
            "          3.7200e-02, -5.9156e-03,  3.3923e-02, -2.6980e-02, -2.5268e-02,\n",
            "         -1.0897e-01, -1.2255e-01, -6.4088e-02, -5.9218e-02,  2.0141e-02,\n",
            "         -7.0824e-02, -7.8755e-02, -4.0491e-02,  1.1298e-01],\n",
            "        [-9.9830e-02, -6.6849e-02, -1.0703e-01, -3.5884e-02, -9.5389e-02,\n",
            "         -8.2127e-02, -5.5028e-02,  3.6342e-02, -4.1131e-02,  8.3235e-02,\n",
            "         -5.6623e-02, -3.0365e-02, -8.4947e-02, -1.0148e-01,  9.3811e-02,\n",
            "          1.0424e-01,  5.1709e-02, -7.8334e-02,  2.4344e-04, -5.2783e-02,\n",
            "          3.1660e-02,  1.1130e-01, -2.3048e-02, -2.9807e-02,  1.0859e-01,\n",
            "         -6.1992e-02,  6.4818e-02, -3.3201e-02, -1.2877e-02,  6.6148e-02,\n",
            "          9.9953e-02,  2.0971e-02,  5.2542e-02, -1.2302e-01,  2.4513e-03,\n",
            "          9.9315e-02,  9.2257e-02,  1.0180e-01, -2.1257e-02,  1.1229e-01,\n",
            "          6.3452e-02, -4.8336e-02,  4.9871e-02,  2.8911e-02, -1.1265e-01,\n",
            "         -3.0662e-02,  1.2111e-01,  9.2927e-02, -1.4187e-02,  4.8923e-02,\n",
            "         -5.1100e-02,  9.8993e-02,  1.1899e-01,  2.5261e-02,  1.0970e-01,\n",
            "         -7.0989e-02, -2.0836e-02,  1.0785e-01, -1.2118e-01, -7.7931e-02,\n",
            "          6.4173e-02, -5.2946e-02, -7.9483e-02,  8.7561e-02],\n",
            "        [-1.0783e-01, -5.6512e-02,  7.9198e-02, -6.1498e-02,  8.6139e-02,\n",
            "         -1.0487e-01,  3.8705e-03,  7.5734e-02, -1.1724e-01,  7.4779e-02,\n",
            "          6.7965e-02,  6.7596e-03, -7.4241e-02,  1.8880e-02, -5.2799e-02,\n",
            "         -5.6171e-02,  3.9675e-02, -5.6622e-02,  9.2328e-02, -3.0483e-03,\n",
            "         -6.5399e-02, -1.0360e-02,  8.4084e-04,  7.8732e-02, -7.4231e-02,\n",
            "         -6.8724e-02, -3.6738e-02, -5.9149e-02,  1.2333e-01, -6.7003e-03,\n",
            "          2.7617e-02,  8.7365e-02, -5.8091e-02, -1.2029e-01,  8.6046e-02,\n",
            "          6.7045e-02,  7.8769e-03,  9.7810e-02, -1.1663e-01, -6.3447e-02,\n",
            "         -3.5253e-02, -2.0642e-02, -1.0301e-01, -2.8412e-02,  4.1513e-02,\n",
            "         -4.7541e-02,  4.7981e-02,  1.3049e-02,  6.9795e-02,  8.2137e-02,\n",
            "          8.1606e-02,  4.4065e-02,  3.1671e-02,  1.6740e-02, -9.4147e-02,\n",
            "          2.2940e-02, -7.4149e-02, -1.1460e-02,  1.0722e-01, -7.2888e-02,\n",
            "          1.9360e-02, -2.5659e-02,  7.9507e-02,  3.9352e-02],\n",
            "        [ 9.5508e-02,  2.0000e-02, -4.9875e-03, -1.0364e-01, -5.8932e-02,\n",
            "          7.3390e-02,  2.8641e-02, -9.5885e-02,  8.0862e-02, -7.4700e-02,\n",
            "         -5.4030e-02, -1.5813e-02,  8.9790e-02, -7.0895e-02, -5.9496e-02,\n",
            "         -1.9767e-02,  3.5094e-02, -8.8982e-03,  5.3118e-02,  1.1716e-01,\n",
            "         -2.3678e-02, -9.2827e-02, -2.9961e-02, -5.2263e-02, -7.6982e-02,\n",
            "         -6.5613e-02,  4.2166e-02,  1.0594e-01,  1.6910e-02, -3.6418e-02,\n",
            "          1.4848e-02, -3.3867e-02, -2.5795e-02,  4.9515e-02,  1.0343e-01,\n",
            "         -1.1221e-01, -1.7888e-02, -4.1345e-02, -1.0424e-01,  7.3470e-03,\n",
            "          5.2636e-02,  1.5850e-02,  3.1396e-02, -2.3871e-02,  2.5704e-03,\n",
            "          6.7968e-02,  8.7468e-02, -1.1307e-01,  6.0570e-02,  2.4193e-02,\n",
            "         -7.7072e-02, -5.7322e-03, -5.8295e-03, -1.8325e-02,  7.3360e-03,\n",
            "         -1.9991e-02, -1.1616e-02,  7.5827e-03,  3.3976e-02,  7.7635e-02,\n",
            "         -7.9184e-02,  1.1122e-01,  1.2383e-01,  4.2010e-02],\n",
            "        [ 3.2543e-02, -5.8710e-02,  1.2074e-01, -5.2671e-02,  8.0925e-02,\n",
            "         -6.2092e-02, -3.0253e-02, -1.2229e-01,  2.2956e-02, -1.2359e-01,\n",
            "          1.6091e-02,  1.1015e-01,  9.1820e-02, -4.7628e-02, -7.3925e-02,\n",
            "          6.2296e-02, -2.2024e-03,  9.6188e-02, -6.6481e-02,  3.2538e-02,\n",
            "          1.1521e-02,  7.6913e-02, -4.2279e-02, -3.6704e-02, -3.6186e-02,\n",
            "          1.2015e-01, -9.6894e-02,  2.8563e-02,  1.2443e-01,  7.3757e-02,\n",
            "         -3.8309e-02,  5.5288e-02, -1.1187e-01,  1.1927e-01,  7.9214e-02,\n",
            "         -7.2963e-02,  8.4113e-03, -5.9616e-02, -3.5576e-02,  1.1426e-01,\n",
            "         -1.1407e-01, -7.8303e-02, -7.7864e-02,  9.3780e-02,  3.0281e-02,\n",
            "          1.1927e-01,  1.5960e-02,  4.8209e-02, -4.3159e-02, -7.5648e-02,\n",
            "         -3.8056e-02,  5.5572e-02,  5.3557e-02,  1.1646e-01,  7.5196e-02,\n",
            "         -5.3737e-02, -2.3292e-03, -9.9832e-02, -3.4425e-03, -1.8923e-02,\n",
            "          5.5656e-02, -1.0747e-01, -8.9953e-02, -2.3518e-02]],\n",
            "       requires_grad=True)\n",
            "FashionMNISTNetwork(\n",
            "  (linear1): Linear(in_features=784, out_features=256, bias=True)\n",
            "  (act1): Sigmoid()\n",
            "  (linear2): Linear(in_features=256, out_features=128, bias=True)\n",
            "  (act2): Sigmoid()\n",
            "  (linear3): Linear(in_features=128, out_features=64, bias=True)\n",
            "  (act3): Sigmoid()\n",
            "  (linear4): Linear(in_features=64, out_features=10, bias=True)\n",
            ")\n",
            "Name linear4.bias, Param Parameter containing:\n",
            "tensor([ 0.1010, -0.0319,  0.0765, -0.0580,  0.0509, -0.0212, -0.0548,  0.0313,\n",
            "         0.0447, -0.0254], requires_grad=True)\n",
            "FashionMNISTNetwork(\n",
            "  (linear1): Linear(in_features=784, out_features=256, bias=True)\n",
            "  (act1): Sigmoid()\n",
            "  (linear2): Linear(in_features=256, out_features=128, bias=True)\n",
            "  (act2): Sigmoid()\n",
            "  (linear3): Linear(in_features=128, out_features=64, bias=True)\n",
            "  (act3): Sigmoid()\n",
            "  (linear4): Linear(in_features=64, out_features=10, bias=True)\n",
            ")\n"
          ]
        }
      ]
    },
    {
      "cell_type": "markdown",
      "source": [
        "# Let's load the dataset"
      ],
      "metadata": {
        "id": "Z-pyWxYSbaHa"
      }
    },
    {
      "cell_type": "code",
      "source": [
        "# first normalize the image and then use transforms\n",
        "# apply on both test and train data \n",
        "transforms = transforms.Compose(\n",
        "    [\n",
        "     transforms.ToTensor(), \n",
        "     transforms.Normalize((0.5,), (0.5,))\n",
        "    ]\n",
        ")"
      ],
      "metadata": {
        "id": "MVWzap56LAuF"
      },
      "execution_count": 14,
      "outputs": []
    },
    {
      "cell_type": "code",
      "source": [
        "train_dataset = FashionMNIST(root = DATASET_PATH, train = True, transform = transforms, download = True)\n",
        "test_dataset = FashionMNIST(root = DATASET_PATH, train = False, transform = transforms, download = True)\n",
        "\n",
        "train_set, val_set = torch.utils.data.random_split(train_dataset, [50000, 10000])\n"
      ],
      "metadata": {
        "id": "Tg2gKLEEMu_O",
        "colab": {
          "base_uri": "https://localhost:8080/",
          "height": 456,
          "referenced_widgets": [
            "be25a43b2c6144be81fdbec806c4ad09",
            "77d12a89569c4f0692cc5ba2f7224919",
            "b85cf0f7ae2e48989b4b6ea3b2625bd5",
            "be2240b2764e46dbb4a41797d547acfb",
            "87c2770cb2944e439cf6e5c72e6bb84e",
            "1d843eabff554640b660aef136555cde",
            "364f9ccd7ba344619ad60a603e9275db",
            "df7c79591495415ca3dc3d0e8f0969c9",
            "17f34f39442e4ce3a679f514f137ba14",
            "d00d9f97bf744281876402d0ebfc971c",
            "4017fdd2af9d4ce996ed1694f28575eb",
            "d5b8b8005d414c76a5a3a6b98ebfb37b",
            "949d40638bfa425997ae1a226f6c63a4",
            "4d44158f14414494b7516f71e363b155",
            "9ecdc5adee9f43d9bafb1f04c1936e94",
            "99160fe67e4e42adb3ba3157d0348679",
            "04de0abb1ffa428ba16fe1bce2aa45b0",
            "2bb4b7157fe34029be485808bcb9b234",
            "2c5761ba502e4c7d9ba9b9d36b2acf8b",
            "81b9d04292ac42e8986babf82cff28dd",
            "4c1faefd5a1545cbb5414ed3ea4474dc",
            "ad4a2b64a05a477ba4fa196c1305ae6f",
            "50ba831aa677421bb9db775597605b49",
            "467a2bb7642949f2a504921b23be393e",
            "d4c215320b824006948a4bcd5f4f07fa",
            "35b3e9b9107047559ec1fdc7aee3e320",
            "c5789112583142988631f83ea2415104",
            "c18e0a4959114144863910c8fb663dcb",
            "156e99e66a034a21b9b7af2679f449cb",
            "734de6e1fd7f4bd29fa1e2b7e0b5d994",
            "fea8636eb8cf4b0db2860c496ca0ba09",
            "23c4ab230d17415bae1248210e3c7220",
            "c95860f9a8c8494dab911081fc122a02",
            "232b42f26a0842c99cc27bfbf7fd0241",
            "5f0c8be12de9452095ef9660c598fd17",
            "1fdb973ea1a5468fb514216585a85999",
            "94b3041073094d5c98bf95f65739c705",
            "dd069896be274c8db69eb786f0e39544",
            "7c075fa59cb34fd5a122d138fb7b6c35",
            "84d04fcf4bb04fde9693e58e89e64d0a",
            "ba85c3b645984a8784eee20cbd0b275f",
            "e1729a0d87db4efcac8e54c07521d627",
            "af9504ccdbed49588fe11699e597d5a4",
            "781c150e061e49658c766b1d106802ed"
          ]
        },
        "outputId": "115a53df-18c2-44bf-a945-b64bab65ba73"
      },
      "execution_count": 15,
      "outputs": [
        {
          "output_type": "stream",
          "name": "stdout",
          "text": [
            "Downloading http://fashion-mnist.s3-website.eu-central-1.amazonaws.com/train-images-idx3-ubyte.gz\n",
            "Downloading http://fashion-mnist.s3-website.eu-central-1.amazonaws.com/train-images-idx3-ubyte.gz to data/FashionMNIST/raw/train-images-idx3-ubyte.gz\n"
          ]
        },
        {
          "output_type": "display_data",
          "data": {
            "application/vnd.jupyter.widget-view+json": {
              "model_id": "be25a43b2c6144be81fdbec806c4ad09",
              "version_minor": 0,
              "version_major": 2
            },
            "text/plain": [
              "  0%|          | 0/26421880 [00:00<?, ?it/s]"
            ]
          },
          "metadata": {}
        },
        {
          "output_type": "stream",
          "name": "stdout",
          "text": [
            "Extracting data/FashionMNIST/raw/train-images-idx3-ubyte.gz to data/FashionMNIST/raw\n",
            "\n",
            "Downloading http://fashion-mnist.s3-website.eu-central-1.amazonaws.com/train-labels-idx1-ubyte.gz\n",
            "Downloading http://fashion-mnist.s3-website.eu-central-1.amazonaws.com/train-labels-idx1-ubyte.gz to data/FashionMNIST/raw/train-labels-idx1-ubyte.gz\n"
          ]
        },
        {
          "output_type": "display_data",
          "data": {
            "application/vnd.jupyter.widget-view+json": {
              "model_id": "d5b8b8005d414c76a5a3a6b98ebfb37b",
              "version_minor": 0,
              "version_major": 2
            },
            "text/plain": [
              "  0%|          | 0/29515 [00:00<?, ?it/s]"
            ]
          },
          "metadata": {}
        },
        {
          "output_type": "stream",
          "name": "stdout",
          "text": [
            "Extracting data/FashionMNIST/raw/train-labels-idx1-ubyte.gz to data/FashionMNIST/raw\n",
            "\n",
            "Downloading http://fashion-mnist.s3-website.eu-central-1.amazonaws.com/t10k-images-idx3-ubyte.gz\n",
            "Downloading http://fashion-mnist.s3-website.eu-central-1.amazonaws.com/t10k-images-idx3-ubyte.gz to data/FashionMNIST/raw/t10k-images-idx3-ubyte.gz\n"
          ]
        },
        {
          "output_type": "display_data",
          "data": {
            "application/vnd.jupyter.widget-view+json": {
              "model_id": "50ba831aa677421bb9db775597605b49",
              "version_minor": 0,
              "version_major": 2
            },
            "text/plain": [
              "  0%|          | 0/4422102 [00:00<?, ?it/s]"
            ]
          },
          "metadata": {}
        },
        {
          "output_type": "stream",
          "name": "stdout",
          "text": [
            "Extracting data/FashionMNIST/raw/t10k-images-idx3-ubyte.gz to data/FashionMNIST/raw\n",
            "\n",
            "Downloading http://fashion-mnist.s3-website.eu-central-1.amazonaws.com/t10k-labels-idx1-ubyte.gz\n",
            "Downloading http://fashion-mnist.s3-website.eu-central-1.amazonaws.com/t10k-labels-idx1-ubyte.gz to data/FashionMNIST/raw/t10k-labels-idx1-ubyte.gz\n"
          ]
        },
        {
          "output_type": "display_data",
          "data": {
            "application/vnd.jupyter.widget-view+json": {
              "model_id": "232b42f26a0842c99cc27bfbf7fd0241",
              "version_minor": 0,
              "version_major": 2
            },
            "text/plain": [
              "  0%|          | 0/5148 [00:00<?, ?it/s]"
            ]
          },
          "metadata": {}
        },
        {
          "output_type": "stream",
          "name": "stdout",
          "text": [
            "Extracting data/FashionMNIST/raw/t10k-labels-idx1-ubyte.gz to data/FashionMNIST/raw\n",
            "\n"
          ]
        }
      ]
    },
    {
      "cell_type": "code",
      "source": [
        "train_dataset, len(train_dataset)"
      ],
      "metadata": {
        "colab": {
          "base_uri": "https://localhost:8080/"
        },
        "id": "XpCEBM7WadHw",
        "outputId": "aa89f5c0-f4ec-45e9-96fe-39e36b0ecc46"
      },
      "execution_count": 16,
      "outputs": [
        {
          "output_type": "execute_result",
          "data": {
            "text/plain": [
              "(Dataset FashionMNIST\n",
              "     Number of datapoints: 60000\n",
              "     Root location: data/\n",
              "     Split: Train\n",
              "     StandardTransform\n",
              " Transform: Compose(\n",
              "                ToTensor()\n",
              "                Normalize(mean=(0.5,), std=(0.5,))\n",
              "            ), 60000)"
            ]
          },
          "metadata": {},
          "execution_count": 16
        }
      ]
    },
    {
      "cell_type": "code",
      "source": [
        "train_set"
      ],
      "metadata": {
        "colab": {
          "base_uri": "https://localhost:8080/"
        },
        "id": "B3ySDWVbaf_3",
        "outputId": "4046fbf2-6c94-4967-e0af-760f1a7dae37"
      },
      "execution_count": 17,
      "outputs": [
        {
          "output_type": "execute_result",
          "data": {
            "text/plain": [
              "<torch.utils.data.dataset.Subset at 0x7f80dbd275d0>"
            ]
          },
          "metadata": {},
          "execution_count": 17
        }
      ]
    },
    {
      "cell_type": "markdown",
      "source": [
        "## Make Train, Baland Test Data Loader\n"
      ],
      "metadata": {
        "id": "gby1Px3Rf9U7"
      }
    },
    {
      "cell_type": "code",
      "source": [
        "train_loader = data.DataLoader(train_set, batch_size = 64, shuffle = True, num_workers = 0, pin_memory = True, drop_last = False)\n",
        "val_loader = data.DataLoader(val_set, batch_size = 64, shuffle = True, num_workers = 0, pin_memory = True, drop_last = False)\n",
        "test_loader = data.DataLoader(test_dataset, batch_size = 64, shuffle = True, num_workers = 0, pin_memory = True, drop_last = False)\n"
      ],
      "metadata": {
        "id": "zzDuV6emfQoW"
      },
      "execution_count": 37,
      "outputs": []
    },
    {
      "cell_type": "code",
      "source": [
        "img, label = next(iter(train_loader))\n",
        "print(img[6].shape, label.shape)"
      ],
      "metadata": {
        "colab": {
          "base_uri": "https://localhost:8080/"
        },
        "id": "ceopiSFWfj-D",
        "outputId": "de9837f7-2eb8-4d60-bdb9-d5788f7dd014"
      },
      "execution_count": 38,
      "outputs": [
        {
          "output_type": "stream",
          "name": "stdout",
          "text": [
            "torch.Size([1, 28, 28]) torch.Size([64])\n"
          ]
        }
      ]
    },
    {
      "cell_type": "code",
      "source": [
        "m = img[11]\n",
        "g = m.reshape(m.shape[1], m.shape[2])\n",
        "g.shape"
      ],
      "metadata": {
        "colab": {
          "base_uri": "https://localhost:8080/"
        },
        "id": "2d0nP_4ciVFD",
        "outputId": "4265b841-51d8-4d95-9465-ddf1cd9eb2bc"
      },
      "execution_count": 39,
      "outputs": [
        {
          "output_type": "execute_result",
          "data": {
            "text/plain": [
              "torch.Size([28, 28])"
            ]
          },
          "metadata": {},
          "execution_count": 39
        }
      ]
    },
    {
      "cell_type": "code",
      "source": [
        "plt.imshow(g), print(label[11])"
      ],
      "metadata": {
        "colab": {
          "base_uri": "https://localhost:8080/",
          "height": 394
        },
        "id": "uC6NOyNwfmoG",
        "outputId": "2f2215e7-2944-443a-bd1a-757a93f2dd87"
      },
      "execution_count": 40,
      "outputs": [
        {
          "output_type": "stream",
          "name": "stdout",
          "text": [
            "tensor(1)\n"
          ]
        },
        {
          "output_type": "execute_result",
          "data": {
            "text/plain": [
              "(<matplotlib.image.AxesImage at 0x7f80d7081ad0>, None)"
            ]
          },
          "metadata": {},
          "execution_count": 40
        },
        {
          "output_type": "display_data",
          "data": {
            "application/pdf": "[encoded data removed]",
            "text/plain": [
              "<Figure size 432x288 with 1 Axes>"
            ],
            "image/svg+xml": "<?xml version=\"1.0\" encoding=\"utf-8\" standalone=\"no\"?>\n<!DOCTYPE svg PUBLIC \"-//W3C//DTD SVG 1.1//EN\"\n  \"http://www.w3.org/Graphics/SVG/1.1/DTD/svg11.dtd\">\n<!-- Created with matplotlib (https://matplotlib.org/) -->\n<svg height=\"252.282221pt\" version=\"1.1\" viewBox=\"0 0 255.3375 252.282221\" width=\"255.3375pt\" xmlns=\"http://www.w3.org/2000/svg\" xmlns:xlink=\"http://www.w3.org/1999/xlink\">\n <defs>\n  <style type=\"text/css\">\n*{stroke-linecap:butt;stroke-linejoin:round;}\n  </style>\n </defs>\n <g id=\"figure_1\">\n  <g id=\"patch_1\">\n   <path d=\"M 0 252.282221 \nL 255.3375 252.282221 \nL 255.3375 0 \nL 0 0 \nz\n\" style=\"fill:#ffffff;\"/>\n  </g>\n  <g id=\"axes_1\">\n   <g id=\"patch_2\">\n    <path d=\"M 30.6975 224.936283 \nL 248.1375 224.936283 \nL 248.1375 7.496283 \nL 30.6975 7.496283 \nz\n\" style=\"fill:#eaeaf2;\"/>\n   </g>\n   <g clip-path=\"url(#pa6c63010d2)\">\n    <image height=\"218\" id=\"image2b4f2b16a2\" transform=\"scale(1 -1)translate(0 -218)\" width=\"218\" x=\"30.6975\" xlink:href=\"data:image/png;base64,\niVBORw0KGgoAAAANSUhEUgAAANoAAADaCAYAAADAHVzbAAAABHNCSVQICAgIfAhkiAAABsBJREFUeJzt3c+PXWUdx/Fz5t7baaedUkqpbS39gYUSIbXBgLowLoyKLtC9GxbG/8AFiX+A/4CuFLcs3RhXamIISdUoiTHRIK5MLNAGWgq0nblzXBBWzvleOGfmM+3M67V95nnuk8J7nuQ+OWfapenJruFTe+s7j5XjB77/9d6x4y/8spz74dqdQXv62IUjp8rx117+Ye/Y9RdfLuee/es/Bu1pr1va6Q3AXiA0CBAaBAgNAoQGAUKDAKFBwHSnN3C/WvnB8+X49Mvf6x27dOT35dwrb/9z0J4+9sWVR8rx6aX+O76jL/ytXtw92iBONAgQGgQIDQKEBgFCgwChQYDQIMA92lDT4f90s3ayhRv5f8fb5eGTl0fMpZcTDQKEBgFCgwChQYDQIEBoEODr/YHah88MnvvE9MFy/JXBK3/kwnz4f9b2VP2IDcM40SBAaBAgNAgQGgQIDQKEBgFCgwD3aD2O7D9U/8DywcFrP7NeP4ry88Erf+Ti3bXhkx88MfLT2YwTDQKEBgFCgwChQYDQIEBoECA0CHCP1uPcoePleDsb/lq2p5duDp77STz7rWuD57b79pfjs0n9v8zafH3wZ+9mTjQIEBoECA0ChAYBQoMAoUGA0CDAPVqPc7Oj9Q8cWK3Hu43eodOP36jnXq2HF5lefnTcAgX3ZMM40SBAaBAgNAgQGgQIDQKEBgFCgwD3aD3OLq2U4+10XznebfTfo6185TP1h//h9Xp8gaVHHxs+uZ2M+mw250SDAKFBgNAgQGgQIDQIEBoE+Hq/x2pX/w4a87q5pQvnF/zEK4PXbpqmaR9/phzv1u+OWp9Pz4kGAUKDAKFBgNAgQGgQIDQIEBoEuEfrcaBr6x9o699RXfFatvbE6SFb+sQmD58px8t7tG6+xbuhaZxoECE0CBAaBAgNAoQGAUKDAKFBgHu0HsuL7tEWWb/TO9SeeWrc2mPN13b28/cgJxoECA0ChAYBQoMAoUGA0CBAaBDgHq3HnbYbNb96Hm3R82Lbrbv9fv9g8eemGM6JBgFCgwChQYDQIEBoECA0CPD1/na5l78m7+7hve1STjQIEBoECA0ChAYBQoMAoUGA0CDAPVqPWbN9r5sbq21H7q0wOXtp29bey5xoECA0CBAaBAgNAoQGAUKDAKFBgHu0HrNxb5trmuJ1c2N13cjN3cvPyu1STjQIEBoECA0ChAYBQoMAoUGA0CDAPVqPE+vj7pq6te17Hm20Ee91fGjlcDl+/YObg9fezZxoECA0CBAaBAgNAoQGAUKDAKFBgHu0Hk+u3Bi3wPrdrdnINujma4PnfvfIU+X4Sx+8Onjt3cyJBgFCgwChQYDQIEBoECA0CPD1fo+TX7i101u4Jz0931+OvxTax/3GiQYBQoMAoUGA0CBAaBAgNAgQGgS4R+ux/Oz5UfO7m9cGzz29eqwc3z/ZN3jtpmmapp0MnvrtY1frH3hz8NK7mhMNAoQGAUKDAKFBgNAgQGgQIDQIcI/Wo/3chXELTIb/0z63erEcf6cb+Sq728WfVlrwJ50e+lr9PFrz9wH72QOcaBAgNAgQGgQIDQKEBgFCgwChQYB7tB7tA0fHLbB8YPDUn3zp7XJ8+sgDg9dumqZpV470jm0seI5u+tw36sV/9pchW9r1nGgQIDQIEBoECA0ChAYBQoMAoUGAe7Q+yyv1+ILnttqD/fdwG+/W70Y89NNf1J+9yIK9lc/KLZjb3f5wwIZwokGA0CBAaBAgNAgQGgQIDQJ8vd+j+8+/6h/4/FfL4Xap+B22UX+FPr/6Rr32vvoRnPZg/RhNt9b/urp2Vv9JqHY6K8fZnBMNAoQGAUKDAKFBgNAgQGgQIDQIcI/WY/7H18rx2Tfr+d18rXesndR3UYvuyZrZcv3Zt96p16/u+Nr6d2939045zuacaBAgNAgQGgQIDQKEBgFCgwChQYB7tB5v/a7/ma2maZozP16wwHy9d6hdPVZO7e68X4/frsebbl6PF8+jLZ04UU6dv3qlXptNOdEgQGgQIDQIEBoECA0ChAYBQoMA92g93ruxf9T86i5s471r9eQF731sFtyzNdXzZk3TdNf/2zvWfvZiOXft3+/Wn82mnGgQIDQIEBoECA0ChAYBQoMAX+/3+G1zuBx/csH86bnLW7eZLdademLw3F9fOb3gJ14fvPZu5kSDAKFBgNAgQGgQIDQIEBoECA0C2qXpyW6nN3E/uvWrH5XjG3/+U+/Y+htvlnPnt/pfVbcVllYmvWOzy+fLuYdf/M1Wb2dPcKJBgNAgQGgQIDQIEBoECA0ChAYB/wPr1+NRy/gsAAAAAABJRU5ErkJggg==\" y=\"-6.936283\"/>\n   </g>\n   <g id=\"matplotlib.axis_1\">\n    <g id=\"xtick_1\">\n     <g id=\"line2d_1\">\n      <path clip-path=\"url(#pa6c63010d2)\" d=\"M 34.580357 224.936283 \nL 34.580357 7.496283 \n\" style=\"fill:none;stroke:#ffffff;stroke-linecap:round;\"/>\n     </g>\n     <g id=\"text_1\">\n      <!-- 0 -->\n      <defs>\n       <path d=\"M 31.78125 66.40625 \nQ 24.171875 66.40625 20.328125 58.90625 \nQ 16.5 51.421875 16.5 36.375 \nQ 16.5 21.390625 20.328125 13.890625 \nQ 24.171875 6.390625 31.78125 6.390625 \nQ 39.453125 6.390625 43.28125 13.890625 \nQ 47.125 21.390625 47.125 36.375 \nQ 47.125 51.421875 43.28125 58.90625 \nQ 39.453125 66.40625 31.78125 66.40625 \nz\nM 31.78125 74.21875 \nQ 44.046875 74.21875 50.515625 64.515625 \nQ 56.984375 54.828125 56.984375 36.375 \nQ 56.984375 17.96875 50.515625 8.265625 \nQ 44.046875 -1.421875 31.78125 -1.421875 \nQ 19.53125 -1.421875 13.0625 8.265625 \nQ 6.59375 17.96875 6.59375 36.375 \nQ 6.59375 54.828125 13.0625 64.515625 \nQ 19.53125 74.21875 31.78125 74.21875 \nz\n\" id=\"DejaVuSans-48\"/>\n      </defs>\n      <g style=\"fill:#262626;\" transform=\"translate(31.080982 242.794565)scale(0.11 -0.11)\">\n       <use xlink:href=\"#DejaVuSans-48\"/>\n      </g>\n     </g>\n    </g>\n    <g id=\"xtick_2\">\n     <g id=\"line2d_2\">\n      <path clip-path=\"url(#pa6c63010d2)\" d=\"M 73.408929 224.936283 \nL 73.408929 7.496283 \n\" style=\"fill:none;stroke:#ffffff;stroke-linecap:round;\"/>\n     </g>\n     <g id=\"text_2\">\n      <!-- 5 -->\n      <defs>\n       <path d=\"M 10.796875 72.90625 \nL 49.515625 72.90625 \nL 49.515625 64.59375 \nL 19.828125 64.59375 \nL 19.828125 46.734375 \nQ 21.96875 47.46875 24.109375 47.828125 \nQ 26.265625 48.1875 28.421875 48.1875 \nQ 40.625 48.1875 47.75 41.5 \nQ 54.890625 34.8125 54.890625 23.390625 \nQ 54.890625 11.625 47.5625 5.09375 \nQ 40.234375 -1.421875 26.90625 -1.421875 \nQ 22.3125 -1.421875 17.546875 -0.640625 \nQ 12.796875 0.140625 7.71875 1.703125 \nL 7.71875 11.625 \nQ 12.109375 9.234375 16.796875 8.0625 \nQ 21.484375 6.890625 26.703125 6.890625 \nQ 35.15625 6.890625 40.078125 11.328125 \nQ 45.015625 15.765625 45.015625 23.390625 \nQ 45.015625 31 40.078125 35.4375 \nQ 35.15625 39.890625 26.703125 39.890625 \nQ 22.75 39.890625 18.8125 39.015625 \nQ 14.890625 38.140625 10.796875 36.28125 \nz\n\" id=\"DejaVuSans-53\"/>\n      </defs>\n      <g style=\"fill:#262626;\" transform=\"translate(69.909554 242.794565)scale(0.11 -0.11)\">\n       <use xlink:href=\"#DejaVuSans-53\"/>\n      </g>\n     </g>\n    </g>\n    <g id=\"xtick_3\">\n     <g id=\"line2d_3\">\n      <path clip-path=\"url(#pa6c63010d2)\" d=\"M 112.2375 224.936283 \nL 112.2375 7.496283 \n\" style=\"fill:none;stroke:#ffffff;stroke-linecap:round;\"/>\n     </g>\n     <g id=\"text_3\">\n      <!-- 10 -->\n      <defs>\n       <path d=\"M 12.40625 8.296875 \nL 28.515625 8.296875 \nL 28.515625 63.921875 \nL 10.984375 60.40625 \nL 10.984375 69.390625 \nL 28.421875 72.90625 \nL 38.28125 72.90625 \nL 38.28125 8.296875 \nL 54.390625 8.296875 \nL 54.390625 0 \nL 12.40625 0 \nz\n\" id=\"DejaVuSans-49\"/>\n      </defs>\n      <g style=\"fill:#262626;\" transform=\"translate(105.23875 242.794565)scale(0.11 -0.11)\">\n       <use xlink:href=\"#DejaVuSans-49\"/>\n       <use x=\"63.623047\" xlink:href=\"#DejaVuSans-48\"/>\n      </g>\n     </g>\n    </g>\n    <g id=\"xtick_4\">\n     <g id=\"line2d_4\">\n      <path clip-path=\"url(#pa6c63010d2)\" d=\"M 151.066071 224.936283 \nL 151.066071 7.496283 \n\" style=\"fill:none;stroke:#ffffff;stroke-linecap:round;\"/>\n     </g>\n     <g id=\"text_4\">\n      <!-- 15 -->\n      <g style=\"fill:#262626;\" transform=\"translate(144.067321 242.794565)scale(0.11 -0.11)\">\n       <use xlink:href=\"#DejaVuSans-49\"/>\n       <use x=\"63.623047\" xlink:href=\"#DejaVuSans-53\"/>\n      </g>\n     </g>\n    </g>\n    <g id=\"xtick_5\">\n     <g id=\"line2d_5\">\n      <path clip-path=\"url(#pa6c63010d2)\" d=\"M 189.894643 224.936283 \nL 189.894643 7.496283 \n\" style=\"fill:none;stroke:#ffffff;stroke-linecap:round;\"/>\n     </g>\n     <g id=\"text_5\">\n      <!-- 20 -->\n      <defs>\n       <path d=\"M 19.1875 8.296875 \nL 53.609375 8.296875 \nL 53.609375 0 \nL 7.328125 0 \nL 7.328125 8.296875 \nQ 12.9375 14.109375 22.625 23.890625 \nQ 32.328125 33.6875 34.8125 36.53125 \nQ 39.546875 41.84375 41.421875 45.53125 \nQ 43.3125 49.21875 43.3125 52.78125 \nQ 43.3125 58.59375 39.234375 62.25 \nQ 35.15625 65.921875 28.609375 65.921875 \nQ 23.96875 65.921875 18.8125 64.3125 \nQ 13.671875 62.703125 7.8125 59.421875 \nL 7.8125 69.390625 \nQ 13.765625 71.78125 18.9375 73 \nQ 24.125 74.21875 28.421875 74.21875 \nQ 39.75 74.21875 46.484375 68.546875 \nQ 53.21875 62.890625 53.21875 53.421875 \nQ 53.21875 48.921875 51.53125 44.890625 \nQ 49.859375 40.875 45.40625 35.40625 \nQ 44.1875 33.984375 37.640625 27.21875 \nQ 31.109375 20.453125 19.1875 8.296875 \nz\n\" id=\"DejaVuSans-50\"/>\n      </defs>\n      <g style=\"fill:#262626;\" transform=\"translate(182.895893 242.794565)scale(0.11 -0.11)\">\n       <use xlink:href=\"#DejaVuSans-50\"/>\n       <use x=\"63.623047\" xlink:href=\"#DejaVuSans-48\"/>\n      </g>\n     </g>\n    </g>\n    <g id=\"xtick_6\">\n     <g id=\"line2d_6\">\n      <path clip-path=\"url(#pa6c63010d2)\" d=\"M 228.723214 224.936283 \nL 228.723214 7.496283 \n\" style=\"fill:none;stroke:#ffffff;stroke-linecap:round;\"/>\n     </g>\n     <g id=\"text_6\">\n      <!-- 25 -->\n      <g style=\"fill:#262626;\" transform=\"translate(221.724464 242.794565)scale(0.11 -0.11)\">\n       <use xlink:href=\"#DejaVuSans-50\"/>\n       <use x=\"63.623047\" xlink:href=\"#DejaVuSans-53\"/>\n      </g>\n     </g>\n    </g>\n   </g>\n   <g id=\"matplotlib.axis_2\">\n    <g id=\"ytick_1\">\n     <g id=\"line2d_7\">\n      <path clip-path=\"url(#pa6c63010d2)\" d=\"M 30.6975 11.379141 \nL 248.1375 11.379141 \n\" style=\"fill:none;stroke:#ffffff;stroke-linecap:round;\"/>\n     </g>\n     <g id=\"text_7\">\n      <!-- 0 -->\n      <g style=\"fill:#262626;\" transform=\"translate(14.19875 15.558281)scale(0.11 -0.11)\">\n       <use xlink:href=\"#DejaVuSans-48\"/>\n      </g>\n     </g>\n    </g>\n    <g id=\"ytick_2\">\n     <g id=\"line2d_8\">\n      <path clip-path=\"url(#pa6c63010d2)\" d=\"M 30.6975 50.207712 \nL 248.1375 50.207712 \n\" style=\"fill:none;stroke:#ffffff;stroke-linecap:round;\"/>\n     </g>\n     <g id=\"text_8\">\n      <!-- 5 -->\n      <g style=\"fill:#262626;\" transform=\"translate(14.19875 54.386853)scale(0.11 -0.11)\">\n       <use xlink:href=\"#DejaVuSans-53\"/>\n      </g>\n     </g>\n    </g>\n    <g id=\"ytick_3\">\n     <g id=\"line2d_9\">\n      <path clip-path=\"url(#pa6c63010d2)\" d=\"M 30.6975 89.036283 \nL 248.1375 89.036283 \n\" style=\"fill:none;stroke:#ffffff;stroke-linecap:round;\"/>\n     </g>\n     <g id=\"text_9\">\n      <!-- 10 -->\n      <g style=\"fill:#262626;\" transform=\"translate(7.2 93.215424)scale(0.11 -0.11)\">\n       <use xlink:href=\"#DejaVuSans-49\"/>\n       <use x=\"63.623047\" xlink:href=\"#DejaVuSans-48\"/>\n      </g>\n     </g>\n    </g>\n    <g id=\"ytick_4\">\n     <g id=\"line2d_10\">\n      <path clip-path=\"url(#pa6c63010d2)\" d=\"M 30.6975 127.864855 \nL 248.1375 127.864855 \n\" style=\"fill:none;stroke:#ffffff;stroke-linecap:round;\"/>\n     </g>\n     <g id=\"text_10\">\n      <!-- 15 -->\n      <g style=\"fill:#262626;\" transform=\"translate(7.2 132.043996)scale(0.11 -0.11)\">\n       <use xlink:href=\"#DejaVuSans-49\"/>\n       <use x=\"63.623047\" xlink:href=\"#DejaVuSans-53\"/>\n      </g>\n     </g>\n    </g>\n    <g id=\"ytick_5\">\n     <g id=\"line2d_11\">\n      <path clip-path=\"url(#pa6c63010d2)\" d=\"M 30.6975 166.693426 \nL 248.1375 166.693426 \n\" style=\"fill:none;stroke:#ffffff;stroke-linecap:round;\"/>\n     </g>\n     <g id=\"text_11\">\n      <!-- 20 -->\n      <g style=\"fill:#262626;\" transform=\"translate(7.2 170.872567)scale(0.11 -0.11)\">\n       <use xlink:href=\"#DejaVuSans-50\"/>\n       <use x=\"63.623047\" xlink:href=\"#DejaVuSans-48\"/>\n      </g>\n     </g>\n    </g>\n    <g id=\"ytick_6\">\n     <g id=\"line2d_12\">\n      <path clip-path=\"url(#pa6c63010d2)\" d=\"M 30.6975 205.521998 \nL 248.1375 205.521998 \n\" style=\"fill:none;stroke:#ffffff;stroke-linecap:round;\"/>\n     </g>\n     <g id=\"text_12\">\n      <!-- 25 -->\n      <g style=\"fill:#262626;\" transform=\"translate(7.2 209.701138)scale(0.11 -0.11)\">\n       <use xlink:href=\"#DejaVuSans-50\"/>\n       <use x=\"63.623047\" xlink:href=\"#DejaVuSans-53\"/>\n      </g>\n     </g>\n    </g>\n   </g>\n   <g id=\"patch_3\">\n    <path d=\"M 30.6975 224.936283 \nL 30.6975 7.496283 \n\" style=\"fill:none;stroke:#ffffff;stroke-linecap:square;stroke-linejoin:miter;stroke-width:1.25;\"/>\n   </g>\n   <g id=\"patch_4\">\n    <path d=\"M 248.1375 224.936283 \nL 248.1375 7.496283 \n\" style=\"fill:none;stroke:#ffffff;stroke-linecap:square;stroke-linejoin:miter;stroke-width:1.25;\"/>\n   </g>\n   <g id=\"patch_5\">\n    <path d=\"M 30.6975 224.936283 \nL 248.1375 224.936283 \n\" style=\"fill:none;stroke:#ffffff;stroke-linecap:square;stroke-linejoin:miter;stroke-width:1.25;\"/>\n   </g>\n   <g id=\"patch_6\">\n    <path d=\"M 30.6975 7.496283 \nL 248.1375 7.496283 \n\" style=\"fill:none;stroke:#ffffff;stroke-linecap:square;stroke-linejoin:miter;stroke-width:1.25;\"/>\n   </g>\n  </g>\n </g>\n <defs>\n  <clipPath id=\"pa6c63010d2\">\n   <rect height=\"217.44\" width=\"217.44\" x=\"30.6975\" y=\"7.496283\"/>\n  </clipPath>\n </defs>\n</svg>\n"
          },
          "metadata": {}
        }
      ]
    },
    {
      "cell_type": "markdown",
      "source": [
        "# Visualizing Gradient before and After training the model"
      ],
      "metadata": {
        "id": "h-NJQug5cPZq"
      }
    },
    {
      "cell_type": "code",
      "source": [
        "def visualize_gradient(net, color = \"C0\"):\n",
        "  '''\n",
        "  net - object of model class FashionMNISTModel \n",
        "  color - color of gradient \n",
        "  ''' \n",
        "  net.to(device)\n",
        "  net.eval()\n",
        "\n",
        "  # pass 1 batch and see the gradient \n",
        "  small_loader = data.DataLoader(train_set, batch_size = 256, shuffle = False)\n",
        "  imgs, labels = next(iter(small_loader))\n",
        "  imgs, labels = imgs.to(device), labels.to(device)\n",
        "\n",
        "  net.zero_grad()\n",
        "  pred = net(imgs)\n",
        "  loss = F.cross_entropy(pred, labels)\n",
        "  loss.backward()\n",
        "\n",
        "  # use only weight params \n",
        "  grads = {\n",
        "      name: params.grad.data.view(-1).cpu().clone().numpy() for name, params in net.named_parameters() if \"weight\" in name \n",
        "  }\n",
        "  net.zero_grad()\n",
        "\n",
        "  # Plotting\n",
        "  columns = len(grads)\n",
        "  fig, ax = plt.subplots(1, columns, figsize=(columns * 3.5, 2.5))\n",
        "  fig_index = 0\n",
        "  for key in grads:\n",
        "      key_ax = ax[fig_index % columns]\n",
        "      sb.histplot(data=grads[key], bins=30, ax=key_ax, color=color, kde=True)\n",
        "      key_ax.set_title(str(key))\n",
        "      key_ax.set_xlabel(\"Grad magnitude\")\n",
        "      fig_index += 1\n",
        "  fig.suptitle(\n",
        "      f\"Gradient magnitude distribution for activation function {net.config['act_fn']['name']}\", fontsize=14, y=1.05\n",
        "  )\n",
        "  fig.subplots_adjust(wspace=0.45)\n",
        "  plt.show()\n",
        "  plt.close()\n"
      ],
      "metadata": {
        "id": "LOZRBYhzg5iB"
      },
      "execution_count": 41,
      "outputs": []
    },
    {
      "cell_type": "code",
      "source": [
        "# Seaborn prints warnings if histogram has small values. We can ignore them for now\n",
        "warnings.filterwarnings(\"ignore\")\n",
        "# Create a plot for every activation function\n",
        "for i, act_fn_name in enumerate(act_fn_by_name):\n",
        "    # Setting the seed ensures that we have the same weight initialization for each activation function\n",
        "    set_seed(42)\n",
        "    act_fn = act_fn_by_name[act_fn_name]()\n",
        "    net_actfn = FashionMNISTNetwork(act_fn, x=2).to(device)\n",
        "    visualize_gradient(net_actfn, color=f\"C{i}\")\n"
      ],
      "metadata": {
        "id": "IyvLphIvhKkY",
        "colab": {
          "base_uri": "https://localhost:8080/",
          "height": 431
        },
        "outputId": "e9eaeeb8-a92f-4c37-ddde-7c1bb3e4e9ef"
      },
      "execution_count": 44,
      "outputs": [
        {
          "output_type": "error",
          "ename": "TypeError",
          "evalue": "ignored",
          "traceback": [
            "\u001b[0;31m---------------------------------------------------------------------------\u001b[0m",
            "\u001b[0;31mTypeError\u001b[0m                                 Traceback (most recent call last)",
            "\u001b[0;32m<ipython-input-44-59b194235c16>\u001b[0m in \u001b[0;36m<module>\u001b[0;34m()\u001b[0m\n\u001b[1;32m      6\u001b[0m     \u001b[0mset_seed\u001b[0m\u001b[0;34m(\u001b[0m\u001b[0;36m42\u001b[0m\u001b[0;34m)\u001b[0m\u001b[0;34m\u001b[0m\u001b[0;34m\u001b[0m\u001b[0m\n\u001b[1;32m      7\u001b[0m     \u001b[0mact_fn\u001b[0m \u001b[0;34m=\u001b[0m \u001b[0mact_fn_by_name\u001b[0m\u001b[0;34m[\u001b[0m\u001b[0mact_fn_name\u001b[0m\u001b[0;34m]\u001b[0m\u001b[0;34m(\u001b[0m\u001b[0;34m)\u001b[0m\u001b[0;34m\u001b[0m\u001b[0;34m\u001b[0m\u001b[0m\n\u001b[0;32m----> 8\u001b[0;31m     \u001b[0mnet_actfn\u001b[0m \u001b[0;34m=\u001b[0m \u001b[0mFashionMNISTNetwork\u001b[0m\u001b[0;34m(\u001b[0m\u001b[0mact_fn\u001b[0m\u001b[0;34m,\u001b[0m \u001b[0mx\u001b[0m\u001b[0;34m=\u001b[0m\u001b[0;36m2\u001b[0m\u001b[0;34m)\u001b[0m\u001b[0;34m.\u001b[0m\u001b[0mto\u001b[0m\u001b[0;34m(\u001b[0m\u001b[0mdevice\u001b[0m\u001b[0;34m)\u001b[0m\u001b[0;34m\u001b[0m\u001b[0;34m\u001b[0m\u001b[0m\n\u001b[0m\u001b[1;32m      9\u001b[0m     \u001b[0mvisualize_gradient\u001b[0m\u001b[0;34m(\u001b[0m\u001b[0mnet_actfn\u001b[0m\u001b[0;34m,\u001b[0m \u001b[0mcolor\u001b[0m\u001b[0;34m=\u001b[0m\u001b[0;34mf\"C{i}\"\u001b[0m\u001b[0;34m)\u001b[0m\u001b[0;34m\u001b[0m\u001b[0;34m\u001b[0m\u001b[0m\n",
            "\u001b[0;32m<ipython-input-35-de92e497c8ce>\u001b[0m in \u001b[0;36m__init__\u001b[0;34m(self, act_fn, x, num_inputs, num_hidden_1, num_hidden_2, num_hidden_3, num_outputs)\u001b[0m\n\u001b[1;32m      6\u001b[0m \u001b[0;34m\u001b[0m\u001b[0m\n\u001b[1;32m      7\u001b[0m     \u001b[0mself\u001b[0m\u001b[0;34m.\u001b[0m\u001b[0mlinear1\u001b[0m \u001b[0;34m=\u001b[0m \u001b[0mnn\u001b[0m\u001b[0;34m.\u001b[0m\u001b[0mLinear\u001b[0m\u001b[0;34m(\u001b[0m\u001b[0mnum_inputs\u001b[0m\u001b[0;34m,\u001b[0m \u001b[0mnum_hidden_1\u001b[0m\u001b[0;34m)\u001b[0m\u001b[0;34m\u001b[0m\u001b[0;34m\u001b[0m\u001b[0m\n\u001b[0;32m----> 8\u001b[0;31m     \u001b[0mself\u001b[0m\u001b[0;34m.\u001b[0m\u001b[0mact1\u001b[0m \u001b[0;34m=\u001b[0m \u001b[0mact_fn\u001b[0m\u001b[0;34m(\u001b[0m\u001b[0;34m)\u001b[0m\u001b[0;34m\u001b[0m\u001b[0;34m\u001b[0m\u001b[0m\n\u001b[0m\u001b[1;32m      9\u001b[0m     \u001b[0mself\u001b[0m\u001b[0;34m.\u001b[0m\u001b[0mlinear2\u001b[0m \u001b[0;34m=\u001b[0m \u001b[0mnn\u001b[0m\u001b[0;34m.\u001b[0m\u001b[0mLinear\u001b[0m\u001b[0;34m(\u001b[0m\u001b[0mnum_hidden_1\u001b[0m\u001b[0;34m,\u001b[0m \u001b[0mnum_hidden_2\u001b[0m\u001b[0;34m)\u001b[0m\u001b[0;34m\u001b[0m\u001b[0;34m\u001b[0m\u001b[0m\n\u001b[1;32m     10\u001b[0m     \u001b[0mself\u001b[0m\u001b[0;34m.\u001b[0m\u001b[0mact2\u001b[0m \u001b[0;34m=\u001b[0m \u001b[0mact_fn\u001b[0m\u001b[0;34m(\u001b[0m\u001b[0;34m)\u001b[0m\u001b[0;34m\u001b[0m\u001b[0;34m\u001b[0m\u001b[0m\n",
            "\u001b[0;32m/usr/local/lib/python3.7/dist-packages/torch/nn/modules/module.py\u001b[0m in \u001b[0;36m_call_impl\u001b[0;34m(self, *input, **kwargs)\u001b[0m\n\u001b[1;32m   1100\u001b[0m         if not (self._backward_hooks or self._forward_hooks or self._forward_pre_hooks or _global_backward_hooks\n\u001b[1;32m   1101\u001b[0m                 or _global_forward_hooks or _global_forward_pre_hooks):\n\u001b[0;32m-> 1102\u001b[0;31m             \u001b[0;32mreturn\u001b[0m \u001b[0mforward_call\u001b[0m\u001b[0;34m(\u001b[0m\u001b[0;34m*\u001b[0m\u001b[0minput\u001b[0m\u001b[0;34m,\u001b[0m \u001b[0;34m**\u001b[0m\u001b[0mkwargs\u001b[0m\u001b[0;34m)\u001b[0m\u001b[0;34m\u001b[0m\u001b[0;34m\u001b[0m\u001b[0m\n\u001b[0m\u001b[1;32m   1103\u001b[0m         \u001b[0;31m# Do not call functions when jit is used\u001b[0m\u001b[0;34m\u001b[0m\u001b[0;34m\u001b[0m\u001b[0;34m\u001b[0m\u001b[0m\n\u001b[1;32m   1104\u001b[0m         \u001b[0mfull_backward_hooks\u001b[0m\u001b[0;34m,\u001b[0m \u001b[0mnon_full_backward_hooks\u001b[0m \u001b[0;34m=\u001b[0m \u001b[0;34m[\u001b[0m\u001b[0;34m]\u001b[0m\u001b[0;34m,\u001b[0m \u001b[0;34m[\u001b[0m\u001b[0;34m]\u001b[0m\u001b[0;34m\u001b[0m\u001b[0;34m\u001b[0m\u001b[0m\n",
            "\u001b[0;31mTypeError\u001b[0m: forward() missing 1 required positional argument: 'x'"
          ]
        }
      ]
    },
    {
      "cell_type": "code",
      "source": [
        ""
      ],
      "metadata": {
        "id": "zGDuSBtQdzsD"
      },
      "execution_count": null,
      "outputs": []
    }
  ]
}